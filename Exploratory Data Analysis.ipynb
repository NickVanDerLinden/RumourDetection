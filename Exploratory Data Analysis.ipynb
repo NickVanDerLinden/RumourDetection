{
 "cells": [
  {
   "cell_type": "code",
   "execution_count": 20,
   "id": "1ae0949d",
   "metadata": {},
   "outputs": [],
   "source": [
    "import os \n",
    "import json\n",
    "import numpy as np\n",
    "import matplotlib.pyplot as plt\n",
    "import functools\n",
    "import nltk\n",
    "import xgboost as xgb\n",
    "import re\n",
    "\n",
    "\n",
    "# Visualization\n",
    "#!pip install plotly\n",
    "import plotly.express as px\n",
    "\n",
    "#!pip install emoji\n",
    "from emoji import UNICODE_EMOJI\n",
    "\n",
    "# Sklearn\n",
    "from sklearn.model_selection import train_test_split # for splitting data into train and test samples\n",
    "from sklearn.svm import SVC, LinearSVC # for Support Vector Classification baseline model\n",
    "from sklearn.naive_bayes import GaussianNB, ComplementNB, MultinomialNB\n",
    "from sklearn.semi_supervised import SelfTrainingClassifier # for Semi-Supervised learning\n",
    "from sklearn.metrics import classification_report, confusion_matrix, roc_auc_score # for model evaluation metrics\n",
    "from sklearn.feature_extraction.text import CountVectorizer\n",
    "from sklearn import metrics\n",
    "\n",
    "\n",
    "contents = []\n",
    "with open(\"rumour-annotation-2_annotations.json\", 'rb') as j:\n",
    "     contents.append(json.loads(j.read()))\n",
    "\n",
    "contents2 = []\n",
    "with open(\"rumour-annotation-3_annotations.json\", 'rb') as j:\n",
    "     contents2.append(json.loads(j.read()))\n",
    "\n",
    "contents3 = []\n",
    "with open(\"rumour-annotation_annotations.json\", 'rb') as j:\n",
    "     contents3.append(json.loads(j.read()))\n",
    "\n",
    "contents4 = []\n",
    "with open(\"rumour-annotation-4_annotations.json\", 'rb') as j:\n",
    "     contents4.append(json.loads(j.read()))"
   ]
  },
  {
   "cell_type": "code",
   "execution_count": 45,
   "id": "764e00d9",
   "metadata": {},
   "outputs": [
    {
     "data": {
      "text/plain": [
       "-0.42954930470293823"
      ]
     },
     "execution_count": 45,
     "metadata": {},
     "output_type": "execute_result"
    }
   ],
   "source": [
    "np.random.normal(0,1)"
   ]
  },
  {
   "cell_type": "code",
   "execution_count": 2,
   "id": "a75d79e9",
   "metadata": {},
   "outputs": [
    {
     "data": {
      "text/plain": [
       "Text(0, 0.5, 'frequency')"
      ]
     },
     "execution_count": 2,
     "metadata": {},
     "output_type": "execute_result"
    },
    {
     "data": {
      "image/png": "[encoded data removed]",
      "text/plain": [
       "<Figure size 432x288 with 1 Axes>"
      ]
     },
     "metadata": {
      "needs_background": "light"
     },
     "output_type": "display_data"
    }
   ],
   "source": [
    "annotations = contents[0][\"examples\"]\n",
    "\n",
    "classnames = []\n",
    "for i in range(0,len(annotations)):\n",
    "    classnames.append(annotations[i][\"classifications\"][0][\"classname\"])\n",
    "\n",
    "unique, counts = np.unique(classnames, return_counts=True)\n",
    "plt.bar(unique, counts)\n",
    "plt.xlabel(\"label count\")\n",
    "plt.ylabel(\"frequency\")"
   ]
  },
  {
   "cell_type": "code",
   "execution_count": 3,
   "id": "9e652118",
   "metadata": {},
   "outputs": [
    {
     "data": {
      "text/plain": [
       "Text(0, 0.5, 'frequency')"
      ]
     },
     "execution_count": 3,
     "metadata": {},
     "output_type": "execute_result"
    },
    {
     "data": {
      "image/png": "[encoded data removed]",
      "text/plain": [
       "<Figure size 432x288 with 1 Axes>"
      ]
     },
     "metadata": {
      "needs_background": "light"
     },
     "output_type": "display_data"
    }
   ],
   "source": [
    "annotations2 = contents2[0][\"examples\"]\n",
    "\n",
    "classnames2 = []\n",
    "for i in range(0,len(annotations2)):\n",
    "    classnames2.append(annotations2[i][\"classifications\"][0][\"classname\"])\n",
    "\n",
    "unique, counts = np.unique(classnames2, return_counts=True)\n",
    "plt.bar(unique, counts)\n",
    "plt.xlabel(\"label count\")\n",
    "plt.ylabel(\"frequency\")"
   ]
  },
  {
   "cell_type": "code",
   "execution_count": 4,
   "id": "21057fb2",
   "metadata": {},
   "outputs": [
    {
     "data": {
      "text/plain": [
       "Text(0, 0.5, 'frequency')"
      ]
     },
     "execution_count": 4,
     "metadata": {},
     "output_type": "execute_result"
    },
    {
     "data": {
      "image/png": "[encoded data removed]",
      "text/plain": [
       "<Figure size 432x288 with 1 Axes>"
      ]
     },
     "metadata": {
      "needs_background": "light"
     },
     "output_type": "display_data"
    }
   ],
   "source": [
    "annotations3 = contents3[0][\"examples\"]\n",
    "\n",
    "classnames3 = []\n",
    "for i in range(0,len(annotations3)):\n",
    "    classnames3.append(annotations3[i][\"classifications\"][0][\"classname\"])\n",
    "\n",
    "unique, counts = np.unique(classnames3, return_counts=True)\n",
    "plt.bar(unique, counts)\n",
    "plt.xlabel(\"label count\")\n",
    "plt.ylabel(\"frequency\")"
   ]
  },
  {
   "cell_type": "code",
   "execution_count": 5,
   "id": "452d2b29",
   "metadata": {},
   "outputs": [
    {
     "data": {
      "text/plain": [
       "Text(0, 0.5, 'frequency')"
      ]
     },
     "execution_count": 5,
     "metadata": {},
     "output_type": "execute_result"
    },
    {
     "data": {
      "image/png": "[encoded data removed]",
      "text/plain": [
       "<Figure size 432x288 with 1 Axes>"
      ]
     },
     "metadata": {
      "needs_background": "light"
     },
     "output_type": "display_data"
    }
   ],
   "source": [
    "annotations4 = contents4[0][\"examples\"]\n",
    "\n",
    "classnames4 = [\"Rumour\"]\n",
    "for i in range(1,len(annotations4)):\n",
    "    classnames4.append(annotations4[i][\"classifications\"][0][\"classname\"])\n",
    "\n",
    "unique, counts = np.unique(classnames4, return_counts=True)\n",
    "plt.bar(unique, counts)\n",
    "plt.xlabel(\"label count\")\n",
    "plt.ylabel(\"frequency\")"
   ]
  },
  {
   "cell_type": "code",
   "execution_count": 6,
   "id": "f27acba5",
   "metadata": {},
   "outputs": [
    {
     "data": {
      "text/plain": [
       "175780"
      ]
     },
     "execution_count": 6,
     "metadata": {},
     "output_type": "execute_result"
    }
   ],
   "source": [
    "# Using readline()\n",
    "file = open('#jinek.txt', 'r')\n",
    "count = 0\n",
    "tweets = []\n",
    "\n",
    "while True:\n",
    "    count += 1\n",
    " \n",
    "    # Get next line from file\n",
    "    line = file.readline()\n",
    " \n",
    "    # if line is empty\n",
    "    # end of file is reached\n",
    "    if not line:\n",
    "        break\n",
    "    tweets.append(json.loads(line))#,encoding=\"utf-8\"))\n",
    "    \n",
    "data1 = []\n",
    "for i in range(len(tweets)):\n",
    "    for j in range(len(tweets[i][\"data\"])):\n",
    "        temp = []\n",
    "        temp.append(tweets[i][\"data\"][j])\n",
    "        user = [k for k in tweets[0][\"includes\"][\"users\"] \n",
    "                if k[\"id\"] == tweets[i][\"data\"][j][\"author_id\"]]\n",
    "        temp.append(user)\n",
    "        temp.append(\"#jinek\")\n",
    "        temp.append(-1)\n",
    "        temp.append(\"n.a.\")\n",
    "        data1.append(temp)\n",
    "len(data1)"
   ]
  },
  {
   "cell_type": "code",
   "execution_count": 7,
   "id": "dbf9e48e",
   "metadata": {},
   "outputs": [
    {
     "data": {
      "text/plain": [
       "10542"
      ]
     },
     "execution_count": 7,
     "metadata": {},
     "output_type": "execute_result"
    }
   ],
   "source": [
    "# Using readline()\n",
    "file1 = open('#vleestaks.txt', 'r')\n",
    "count = 0\n",
    "tweets = []\n",
    "\n",
    "while True:\n",
    "    count += 1\n",
    " \n",
    "    # Get next line from file\n",
    "    line = file1.readline()\n",
    " \n",
    "    # if line is empty\n",
    "    # end of file is reached\n",
    "    if not line:\n",
    "        break\n",
    "    tweets.append(json.loads(line))#,encoding=\"utf-8\"))\n",
    "    \n",
    "data2 = []\n",
    "for i in range(len(tweets)):\n",
    "    for j in range(len(tweets[i][\"data\"])):\n",
    "        temp = []\n",
    "        temp.append(tweets[i][\"data\"][j])\n",
    "        user = [k for k in tweets[0][\"includes\"][\"users\"] \n",
    "                if k[\"id\"] == tweets[i][\"data\"][j][\"author_id\"]]\n",
    "        temp.append(user)\n",
    "        temp.append(\"#vleestaks\")\n",
    "        temp.append(-1)\n",
    "        temp.append(\"n.a.\")\n",
    "        data2.append(temp)\n",
    "len(data2)"
   ]
  },
  {
   "cell_type": "code",
   "execution_count": 8,
   "id": "be2e4ad0",
   "metadata": {},
   "outputs": [
    {
     "data": {
      "text/plain": [
       "39278"
      ]
     },
     "execution_count": 8,
     "metadata": {},
     "output_type": "execute_result"
    }
   ],
   "source": [
    "# Using readline()\n",
    "file = open('#inflatie.txt', 'r')\n",
    "count = 0\n",
    "tweets = []\n",
    "\n",
    "while True:\n",
    "    count += 1\n",
    " \n",
    "    # Get next line from file\n",
    "    line = file.readline()\n",
    " \n",
    "    # if line is empty\n",
    "    # end of file is reached\n",
    "    if not line:\n",
    "        break\n",
    "    tweets.append(json.loads(line))#,encoding=\"utf-8\"))\n",
    "    \n",
    "data3 = []\n",
    "for i in range(len(tweets)):\n",
    "    for j in range(len(tweets[i][\"data\"])):\n",
    "        temp = []\n",
    "        temp.append(tweets[i][\"data\"][j])\n",
    "        user = [k for k in tweets[0][\"includes\"][\"users\"] \n",
    "                if k[\"id\"] == tweets[i][\"data\"][j][\"author_id\"]]\n",
    "        temp.append(user)\n",
    "        temp.append(\"#inflatie\")\n",
    "        temp.append(-1)\n",
    "        temp.append(\"n.a.\")\n",
    "        data3.append(temp)\n",
    "len(data3)"
   ]
  },
  {
   "cell_type": "code",
   "execution_count": 9,
   "id": "49322d15",
   "metadata": {},
   "outputs": [],
   "source": [
    "data = data1 + data2 + data3"
   ]
  },
  {
   "cell_type": "code",
   "execution_count": 10,
   "id": "03b7639b",
   "metadata": {},
   "outputs": [],
   "source": [
    "sample1 = [annotations[i][\"content\"] for i in range(len(annotations))]\n",
    "sample2 = [annotations2[i][\"content\"] for i in range(len(annotations2))]\n",
    "sample3 = [annotations3[i][\"content\"] for i in range(len(annotations3))]\n",
    "sample4 = [annotations4[i][\"content\"] for i in range(len(annotations4))]\n",
    "\n",
    "sample = sample1 + sample2 + sample3 + sample4\n",
    "\n",
    "annotations = annotations + annotations2 + annotations3 + annotations4"
   ]
  },
  {
   "cell_type": "code",
   "execution_count": 11,
   "id": "a3532318",
   "metadata": {},
   "outputs": [],
   "source": [
    "#adding rumours \n",
    "\n",
    "sample = [sample1, sample2, sample3, sample4]\n",
    "annotators = [\"A\", \"B\", \"C\", \"D\"]\n",
    "texts = [data[i][0][\"text\"] for i in range(len(data))]\n",
    "for i in range(len(texts)):\n",
    "    for s in sample:\n",
    "        if texts[i] in s:\n",
    "            if annotations[s.index(texts[i])][\"classifications\"] != []:\n",
    "                label = annotations[s.index(texts[i])][\"classifications\"][0][\"classname\"]\n",
    "                data[i][4] = annotators[sample.index(s)]\n",
    "                if label == \"Rumour\":\n",
    "                    data[i][3] = 1\n",
    "                elif label == \"Non-Rumour\":\n",
    "                    data[i][3] = 0\n",
    "            else:\n",
    "                data[i][3] = 1"
   ]
  },
  {
   "cell_type": "code",
   "execution_count": 12,
   "id": "d8482fd3",
   "metadata": {},
   "outputs": [],
   "source": [
    "from sklearn.feature_extraction.text import HashingVectorizer\n",
    "\n",
    "vectorizer = HashingVectorizer(norm = None, n_features = 10)\n",
    "sentence_vectors = vectorizer.fit_transform(texts)\n",
    "sentence_vectors = sentence_vectors.toarray()"
   ]
  },
  {
   "cell_type": "code",
   "execution_count": 13,
   "id": "a9ebeb3f",
   "metadata": {},
   "outputs": [
    {
     "data": {
      "text/plain": [
       "array([-1.,  0.,  2.,  0.,  0., -1.,  3.,  1., -2., -2.])"
      ]
     },
     "execution_count": 13,
     "metadata": {},
     "output_type": "execute_result"
    }
   ],
   "source": [
    "sentence_vectors[100]"
   ]
  },
  {
   "cell_type": "code",
   "execution_count": 14,
   "id": "f5ef974a",
   "metadata": {},
   "outputs": [
    {
     "data": {
      "text/plain": [
       "225600"
      ]
     },
     "execution_count": 14,
     "metadata": {},
     "output_type": "execute_result"
    }
   ],
   "source": [
    "len(data)"
   ]
  },
  {
   "cell_type": "code",
   "execution_count": 15,
   "id": "70079ed3",
   "metadata": {},
   "outputs": [
    {
     "data": {
      "text/plain": [
       "array(['A', 'B', 'C', 'D', 'n.a.'], dtype='<U4')"
      ]
     },
     "execution_count": 15,
     "metadata": {},
     "output_type": "execute_result"
    }
   ],
   "source": [
    "np.unique([data[i][4] for i in range(len(data))])"
   ]
  },
  {
   "cell_type": "code",
   "execution_count": 16,
   "id": "5c06f0de",
   "metadata": {},
   "outputs": [],
   "source": [
    "rumours = [x for x in data if x[3] == 1]\n",
    "nonrumours = [x for x in data if x[3] == 0]\n",
    "unlabelled = [x for x in data if x[3] == -1]"
   ]
  },
  {
   "cell_type": "code",
   "execution_count": 17,
   "id": "47fadae7",
   "metadata": {},
   "outputs": [
    {
     "data": {
      "image/png": "[encoded data removed]",
      "text/plain": [
       "<Figure size 432x288 with 1 Axes>"
      ]
     },
     "metadata": {},
     "output_type": "display_data"
    }
   ],
   "source": [
    "annotators = np.array([\"A\",\"B\",\"C\",\"D\"])\n",
    "_, rumour_counts = np.unique([x[4] for x in rumours], return_counts = True)\n",
    "_, nonrumour_counts = np.unique([x[4] for x in nonrumours], return_counts = True)\n",
    "\n",
    "X_axis = np.arange(len(annotators))\n",
    "\n",
    "plt.style.use(\"fivethirtyeight\")\n",
    "plt.bar(X_axis - 0.2, rumour_counts, 0.4, label = 'Rumours')\n",
    "plt.bar(X_axis + 0.2, nonrumour_counts, 0.4, label = 'Non-Rumours')\n",
    "\n",
    "plt.xticks(X_axis, annotators)\n",
    "plt.xlabel(\"Annotator\")\n",
    "plt.ylabel(\"Count\")\n",
    "plt.title(\"Amount of Rumour and Non-Rumours per Annotator\")\n",
    "plt.legend()\n",
    "plt.show()"
   ]
  },
  {
   "cell_type": "code",
   "execution_count": 18,
   "id": "b3d7faa4",
   "metadata": {},
   "outputs": [
    {
     "name": "stdout",
     "output_type": "stream",
     "text": [
      "[ 556  359  145 1739]\n"
     ]
    }
   ],
   "source": [
    "print(rumour_counts)"
   ]
  },
  {
   "cell_type": "code",
   "execution_count": 19,
   "id": "1fcd95d6",
   "metadata": {},
   "outputs": [
    {
     "name": "stdout",
     "output_type": "stream",
     "text": [
      "[196 268  85 759]\n"
     ]
    }
   ],
   "source": [
    "print(nonrumour_counts)"
   ]
  },
  {
   "cell_type": "code",
   "execution_count": 24,
   "id": "b44f10f6",
   "metadata": {},
   "outputs": [
    {
     "data": {
      "image/png": "[encoded data removed]",
      "text/plain": [
       "<Figure size 432x288 with 1 Axes>"
      ]
     },
     "metadata": {},
     "output_type": "display_data"
    }
   ],
   "source": [
    "hashtags = np.array([\"#inflatie\", \"#jinek\", \"#vleestaks\"])\n",
    "_, r_h_counts = np.unique([x[2] for x in rumours], return_counts = True)\n",
    "_, nr_h_counts = np.unique([x[2] for x in nonrumours], return_counts = True)\n",
    "#_, u_h_counts = np.unique([x[2] for x in unlabelled], return_counts = True)\n",
    "\n",
    "X_axis = np.arange(len(hashtags))\n",
    "\n",
    "plt.bar(X_axis - 0.2, r_h_counts, 0.4, label = 'Rumours')\n",
    "plt.bar(X_axis + 0.2, nr_h_counts, 0.4, label = 'Non-Rumours')\n",
    "#plt.bar(X_axis + 0.2, u_h_counts, 0.1, label = 'Unlabelled')\n",
    "\n",
    "plt.xticks(X_axis, hashtags)\n",
    "plt.xlabel(\"Hashtag\")\n",
    "plt.ylabel(\"Count\")\n",
    "plt.title(\"Hashtags of Annotated Data\")\n",
    "plt.legend()\n",
    "plt.show()"
   ]
  },
  {
   "cell_type": "code",
   "execution_count": 25,
   "id": "f9fad759",
   "metadata": {},
   "outputs": [
    {
     "name": "stdout",
     "output_type": "stream",
     "text": [
      "['#inflatie' '#jinek' '#vleestaks']\n",
      "[ 940  316 1543]\n"
     ]
    }
   ],
   "source": [
    "r_h_unique, r_h_counts = np.unique([x[2] for x in rumours], return_counts = True)\n",
    "print(r_h_unique)\n",
    "print(r_h_counts)"
   ]
  },
  {
   "cell_type": "code",
   "execution_count": 26,
   "id": "70ce6fde",
   "metadata": {},
   "outputs": [
    {
     "name": "stdout",
     "output_type": "stream",
     "text": [
      "['#inflatie' '#jinek' '#vleestaks']\n",
      "[917 230 161]\n"
     ]
    }
   ],
   "source": [
    "nr_h_unique, nr_h_counts = np.unique([x[2] for x in nonrumours], return_counts = True)\n",
    "print(nr_h_unique)\n",
    "print(nr_h_counts)"
   ]
  },
  {
   "cell_type": "code",
   "execution_count": 37,
   "id": "7c4c2264",
   "metadata": {},
   "outputs": [
    {
     "data": {
      "text/plain": [
       "Text(0.5, 1.0, 'Total tweets per hashtag')"
      ]
     },
     "execution_count": 37,
     "metadata": {},
     "output_type": "execute_result"
    },
    {
     "data": {
      "image/png": "[encoded data removed]",
      "text/plain": [
       "<Figure size 432x288 with 1 Axes>"
      ]
     },
     "metadata": {},
     "output_type": "display_data"
    }
   ],
   "source": [
    "_, r_h_counts = np.unique([x[2] for x in rumours], return_counts = True)\n",
    "_, nr_h_counts = np.unique([x[2] for x in nonrumours], return_counts = True)\n",
    "_, u_h_counts = np.unique([x[2] for x in unlabelled], return_counts = True)\n",
    "\n",
    "inflatie = sum([x[0] for x in [r_h_counts,nr_h_counts,u_h_counts]])\n",
    "jinek = sum([x[1] for x in [r_h_counts,nr_h_counts,u_h_counts]])\n",
    "vleestaks = sum([x[2] for x in [r_h_counts,nr_h_counts,u_h_counts]])\n",
    "alll = sum([inflatie, jinek, vleestaks])\n",
    "\n",
    "plt.bar([\"inflatie\", \"jinek\", \"vleestaks\", \"overall\"], [inflatie, jinek, vleestaks,alll])\n",
    "plt.xlabel(\"Hashtag\")\n",
    "plt.ylabel(\"Count\")\n",
    "plt.title(\"Total tweets per hashtag\")"
   ]
  },
  {
   "cell_type": "code",
   "execution_count": null,
   "id": "aa983643",
   "metadata": {},
   "outputs": [],
   "source": []
  },
  {
   "cell_type": "code",
   "execution_count": null,
   "id": "63f854eb",
   "metadata": {},
   "outputs": [],
   "source": []
  },
  {
   "cell_type": "code",
   "execution_count": null,
   "id": "52355817",
   "metadata": {},
   "outputs": [],
   "source": []
  },
  {
   "cell_type": "code",
   "execution_count": null,
   "id": "14b3f982",
   "metadata": {},
   "outputs": [],
   "source": []
  },
  {
   "cell_type": "code",
   "execution_count": 11,
   "id": "26322c9d",
   "metadata": {},
   "outputs": [],
   "source": [
    "import time \n",
    "#text = data2[x][0][\"text\"]\n",
    "\n",
    "def get_features(data):\n",
    "\n",
    "    features = []\n",
    "\n",
    "    for x in range(0,len(data)):\n",
    "        temp = []\n",
    "        if data[x][1] != []:\n",
    "            followers_count = data[x][1][0][\"public_metrics\"][\"followers_count\"]\n",
    "            temp.append(followers_count)\n",
    "        else:\n",
    "            temp.append(0)\n",
    "\n",
    "        tweetcount = -1 \n",
    "        if data[x][1] != []:        \n",
    "            tweetcount = data[x][1][0][\"public_metrics\"][\"tweet_count\"]\n",
    "            temp.append(tweetcount)\n",
    "        else:\n",
    "            temp.append(0)\n",
    "\n",
    "        qmarks = \"?\" in data[x][0][\"text\"]\n",
    "        temp.append(int(qmarks))\n",
    "\n",
    "        if data[x][1] != []:\n",
    "            verified = data[x][1][0][\"verified\"]\n",
    "            temp.append(int(verified))    \n",
    "        else:\n",
    "            temp.append(0)\n",
    "\n",
    "        accountlife = time.mktime(time.localtime()) - time.mktime(time.strptime(data[x][0][\"created_at\"], \"%Y-%m-%dT%H:%M:%S.000Z\"))\n",
    "        temp.append(accountlife)\n",
    "\n",
    "        if data[x][1] != []:    \n",
    "            ratio = (data[x][1][0][\"public_metrics\"][\"followers_count\"]+1)/(data[x][1][0][\"public_metrics\"][\"following_count\"]+2)\n",
    "            temp.append(ratio)\n",
    "        else:\n",
    "            temp.append(0)\n",
    "\n",
    "        emark = \"!\" in data[x][0][\"text\"]\n",
    "        temp.append(int(emark))\n",
    "\n",
    "        capitalletters = sum(1 for c in data[x][0][\"text\"] if c.isupper())/sum(1 for c in data[x][0])\n",
    "        temp.append(capitalletters)\n",
    "\n",
    "        retweet_count = data[x][0][\"public_metrics\"][\"retweet_count\"]\n",
    "        temp.append(retweet_count)\n",
    "\n",
    "        hashtags = \"#\" in data[x][0][\"text\"]\n",
    "        temp.append(int(hashtags))\n",
    "\n",
    "        if data[x][1] != []:\n",
    "            following = data[x][1][0][\"public_metrics\"][\"following_count\"]\n",
    "            temp.append(following)\n",
    "        else:\n",
    "            temp.append(0)\n",
    "\n",
    "        text_length = len(data[x][0][\"text\"])\n",
    "        temp.append(text_length)\n",
    "\n",
    "        if data[x][1] != []:    \n",
    "            listed_count = data[x][1][0][\"public_metrics\"][\"listed_count\"]\n",
    "            temp.append(listed_count)\n",
    "        else:\n",
    "            temp.append(0)\n",
    "\n",
    "        emoticons = True in [s in UNICODE_EMOJI['en'] for s in data[x][0][\"text\"]]\n",
    "        temp.append(int(emoticons))\n",
    "\n",
    "        #reply_count = data[x][0][\"public_metrics\"][\"reply_count\"]\n",
    "        #temp.append(reply_count)\n",
    "\n",
    "        #quote_count = data[x][0][\"public_metrics\"][\"quote_count\"]\n",
    "        #temp.append(quote_count)\n",
    "\n",
    "        like_count = data[x][0][\"public_metrics\"][\"like_count\"]\n",
    "        temp.append(like_count)\n",
    "\n",
    "        if data[x][1] != []:\n",
    "            timeafterposting = time.mktime(time.strptime(data[x][1][0][\"created_at\"],\"%Y-%m-%dT%H:%M:%S.000Z\")) - time.mktime(time.strptime(data[x][0][\"created_at\"],\"%Y-%m-%dT%H:%M:%S.000Z\"))\n",
    "            temp.append(timeafterposting)\n",
    "        else:\n",
    "            temp.append(0)\n",
    "\n",
    "        #pos_tags = nltk.pos_tag(nltk.word_tokenize(data[x][0][\"text\"]))\n",
    "        #temp.append(pos_tags)\n",
    "\n",
    "        activity = accountlife/tweetcount\n",
    "        temp.append(activity)\n",
    "\n",
    "        #if data[x][1] != []:\n",
    "        #    has_url = \"profile_image_url\" in data[x][1][0]\n",
    "        #    temp.append(int(has_url))\n",
    "        #else:\n",
    "        #    temp.append(None)\n",
    "\n",
    "        #fpp = True in [i in data[x][0][\"text\"].lower() for i in [\"me\", \"my\", \"i\", \"mine\"]]\n",
    "        #temp.append(int(fpp))\n",
    "\n",
    "        #nsfw = data[x][0][\"possibly_sensitive\"] \n",
    "        #temp.append(int(nsfw))\n",
    "        #temp.append(data[x][2])\n",
    "        #temp.append(sentence_vectors[x])\n",
    "        #temp.append(texts[x])\n",
    "\n",
    "        temp.append(data[x][3])\n",
    "        features.append(temp)\n",
    "        \n",
    "\n",
    "    return features\n",
    "        "
   ]
  },
  {
   "cell_type": "code",
   "execution_count": 12,
   "id": "d88547fc",
   "metadata": {},
   "outputs": [],
   "source": [
    "features = get_features(data)"
   ]
  },
  {
   "cell_type": "code",
   "execution_count": 13,
   "id": "be8db56e",
   "metadata": {},
   "outputs": [],
   "source": [
    "features1 = get_features(data1)\n",
    "features2 = get_features(data2)\n",
    "features3 = get_features(data3)"
   ]
  },
  {
   "cell_type": "code",
   "execution_count": 14,
   "id": "7f4b6a22",
   "metadata": {},
   "outputs": [],
   "source": [
    "import pandas as pd\n",
    "\n",
    "np.array(features, dtype=object).shape\n",
    "\n",
    "columns = [\"followers_count\",\n",
    "          \"tweet_count\",\n",
    "          \"question_marks\",\n",
    "          \"verified\",\n",
    "          \"accountlife\",\n",
    "          \"followers_ratio\",\n",
    "          \"exclamation_marks\",\n",
    "          \"capital letters\",\n",
    "          \"retweet_count\",\n",
    "          \"hashtags\",\n",
    "          \"following\",\n",
    "          \"text length\",\n",
    "          \"listed_count\",\n",
    "          \"emoticons\",\n",
    "#          \"reply_count\",\n",
    "#          \"quote_count\",\n",
    "          \"like_count\",\n",
    "          \"time_after_posting\",\n",
    "#          \"pos_tags\",\n",
    "          \"activity\",\n",
    "#          \"has_url\",\n",
    "#          \"has_first_person_pronouns\",\n",
    "#          \"possibly_sensitive\",\n",
    "#          \"text\",\n",
    "          \"label\"]\n",
    "df = pd.DataFrame(data=features, index=None, columns=columns)\n",
    "#df = df.drop(\"hashtag\", axis=1)\n",
    "#del columns[-2]"
   ]
  },
  {
   "cell_type": "code",
   "execution_count": 15,
   "id": "cf1fbdd2",
   "metadata": {},
   "outputs": [
    {
     "data": {
      "text/html": [
       "<div>\n",
       "<style scoped>\n",
       "    .dataframe tbody tr th:only-of-type {\n",
       "        vertical-align: middle;\n",
       "    }\n",
       "\n",
       "    .dataframe tbody tr th {\n",
       "        vertical-align: top;\n",
       "    }\n",
       "\n",
       "    .dataframe thead th {\n",
       "        text-align: right;\n",
       "    }\n",
       "</style>\n",
       "<table border=\"1\" class=\"dataframe\">\n",
       "  <thead>\n",
       "    <tr style=\"text-align: right;\">\n",
       "      <th></th>\n",
       "      <th>followers_count</th>\n",
       "      <th>tweet_count</th>\n",
       "      <th>question_marks</th>\n",
       "      <th>verified</th>\n",
       "      <th>accountlife</th>\n",
       "      <th>followers_ratio</th>\n",
       "      <th>exclamation_marks</th>\n",
       "      <th>capital letters</th>\n",
       "      <th>retweet_count</th>\n",
       "      <th>hashtags</th>\n",
       "      <th>following</th>\n",
       "      <th>text length</th>\n",
       "      <th>listed_count</th>\n",
       "      <th>emoticons</th>\n",
       "      <th>like_count</th>\n",
       "      <th>time_after_posting</th>\n",
       "      <th>activity</th>\n",
       "      <th>label</th>\n",
       "    </tr>\n",
       "  </thead>\n",
       "  <tbody>\n",
       "    <tr>\n",
       "      <th>0</th>\n",
       "      <td>12</td>\n",
       "      <td>2876</td>\n",
       "      <td>0</td>\n",
       "      <td>0</td>\n",
       "      <td>5874788.0</td>\n",
       "      <td>3.250000</td>\n",
       "      <td>0</td>\n",
       "      <td>0.583333</td>\n",
       "      <td>0</td>\n",
       "      <td>1</td>\n",
       "      <td>2</td>\n",
       "      <td>138</td>\n",
       "      <td>0</td>\n",
       "      <td>0</td>\n",
       "      <td>0</td>\n",
       "      <td>-42256836.0</td>\n",
       "      <td>2.042694e+03</td>\n",
       "      <td>-1</td>\n",
       "    </tr>\n",
       "    <tr>\n",
       "      <th>1</th>\n",
       "      <td>965</td>\n",
       "      <td>11545</td>\n",
       "      <td>0</td>\n",
       "      <td>0</td>\n",
       "      <td>5875327.0</td>\n",
       "      <td>3.864000</td>\n",
       "      <td>0</td>\n",
       "      <td>0.750000</td>\n",
       "      <td>1</td>\n",
       "      <td>1</td>\n",
       "      <td>248</td>\n",
       "      <td>134</td>\n",
       "      <td>18</td>\n",
       "      <td>0</td>\n",
       "      <td>0</td>\n",
       "      <td>-400289838.0</td>\n",
       "      <td>5.089066e+02</td>\n",
       "      <td>-1</td>\n",
       "    </tr>\n",
       "    <tr>\n",
       "      <th>2</th>\n",
       "      <td>41</td>\n",
       "      <td>9313</td>\n",
       "      <td>0</td>\n",
       "      <td>0</td>\n",
       "      <td>5876059.0</td>\n",
       "      <td>3.230769</td>\n",
       "      <td>0</td>\n",
       "      <td>4.583333</td>\n",
       "      <td>0</td>\n",
       "      <td>1</td>\n",
       "      <td>11</td>\n",
       "      <td>296</td>\n",
       "      <td>3</td>\n",
       "      <td>0</td>\n",
       "      <td>0</td>\n",
       "      <td>-166479246.0</td>\n",
       "      <td>6.309523e+02</td>\n",
       "      <td>-1</td>\n",
       "    </tr>\n",
       "    <tr>\n",
       "      <th>3</th>\n",
       "      <td>158</td>\n",
       "      <td>14946</td>\n",
       "      <td>0</td>\n",
       "      <td>0</td>\n",
       "      <td>5876074.0</td>\n",
       "      <td>9.937500</td>\n",
       "      <td>0</td>\n",
       "      <td>0.750000</td>\n",
       "      <td>1</td>\n",
       "      <td>1</td>\n",
       "      <td>14</td>\n",
       "      <td>140</td>\n",
       "      <td>30</td>\n",
       "      <td>0</td>\n",
       "      <td>0</td>\n",
       "      <td>-366653103.0</td>\n",
       "      <td>3.931536e+02</td>\n",
       "      <td>-1</td>\n",
       "    </tr>\n",
       "    <tr>\n",
       "      <th>4</th>\n",
       "      <td>158</td>\n",
       "      <td>14946</td>\n",
       "      <td>1</td>\n",
       "      <td>0</td>\n",
       "      <td>5876081.0</td>\n",
       "      <td>9.937500</td>\n",
       "      <td>0</td>\n",
       "      <td>1.333333</td>\n",
       "      <td>2</td>\n",
       "      <td>1</td>\n",
       "      <td>14</td>\n",
       "      <td>140</td>\n",
       "      <td>30</td>\n",
       "      <td>0</td>\n",
       "      <td>0</td>\n",
       "      <td>-366653096.0</td>\n",
       "      <td>3.931541e+02</td>\n",
       "      <td>-1</td>\n",
       "    </tr>\n",
       "    <tr>\n",
       "      <th>...</th>\n",
       "      <td>...</td>\n",
       "      <td>...</td>\n",
       "      <td>...</td>\n",
       "      <td>...</td>\n",
       "      <td>...</td>\n",
       "      <td>...</td>\n",
       "      <td>...</td>\n",
       "      <td>...</td>\n",
       "      <td>...</td>\n",
       "      <td>...</td>\n",
       "      <td>...</td>\n",
       "      <td>...</td>\n",
       "      <td>...</td>\n",
       "      <td>...</td>\n",
       "      <td>...</td>\n",
       "      <td>...</td>\n",
       "      <td>...</td>\n",
       "      <td>...</td>\n",
       "    </tr>\n",
       "    <tr>\n",
       "      <th>225595</th>\n",
       "      <td>0</td>\n",
       "      <td>0</td>\n",
       "      <td>1</td>\n",
       "      <td>0</td>\n",
       "      <td>393005259.0</td>\n",
       "      <td>0.000000</td>\n",
       "      <td>1</td>\n",
       "      <td>0.230769</td>\n",
       "      <td>0</td>\n",
       "      <td>1</td>\n",
       "      <td>0</td>\n",
       "      <td>124</td>\n",
       "      <td>0</td>\n",
       "      <td>0</td>\n",
       "      <td>0</td>\n",
       "      <td>0.0</td>\n",
       "      <td>-3.930053e+08</td>\n",
       "      <td>-1</td>\n",
       "    </tr>\n",
       "    <tr>\n",
       "      <th>225596</th>\n",
       "      <td>0</td>\n",
       "      <td>0</td>\n",
       "      <td>0</td>\n",
       "      <td>0</td>\n",
       "      <td>395268785.0</td>\n",
       "      <td>0.000000</td>\n",
       "      <td>1</td>\n",
       "      <td>0.545455</td>\n",
       "      <td>0</td>\n",
       "      <td>1</td>\n",
       "      <td>0</td>\n",
       "      <td>135</td>\n",
       "      <td>0</td>\n",
       "      <td>0</td>\n",
       "      <td>0</td>\n",
       "      <td>0.0</td>\n",
       "      <td>-3.952688e+08</td>\n",
       "      <td>-1</td>\n",
       "    </tr>\n",
       "    <tr>\n",
       "      <th>225597</th>\n",
       "      <td>0</td>\n",
       "      <td>0</td>\n",
       "      <td>0</td>\n",
       "      <td>0</td>\n",
       "      <td>398387361.0</td>\n",
       "      <td>0.000000</td>\n",
       "      <td>0</td>\n",
       "      <td>1.090909</td>\n",
       "      <td>0</td>\n",
       "      <td>1</td>\n",
       "      <td>0</td>\n",
       "      <td>136</td>\n",
       "      <td>0</td>\n",
       "      <td>0</td>\n",
       "      <td>0</td>\n",
       "      <td>0.0</td>\n",
       "      <td>-3.983874e+08</td>\n",
       "      <td>-1</td>\n",
       "    </tr>\n",
       "    <tr>\n",
       "      <th>225598</th>\n",
       "      <td>0</td>\n",
       "      <td>0</td>\n",
       "      <td>0</td>\n",
       "      <td>0</td>\n",
       "      <td>399339402.0</td>\n",
       "      <td>0.000000</td>\n",
       "      <td>1</td>\n",
       "      <td>0.363636</td>\n",
       "      <td>0</td>\n",
       "      <td>1</td>\n",
       "      <td>0</td>\n",
       "      <td>89</td>\n",
       "      <td>0</td>\n",
       "      <td>0</td>\n",
       "      <td>0</td>\n",
       "      <td>0.0</td>\n",
       "      <td>-3.993394e+08</td>\n",
       "      <td>-1</td>\n",
       "    </tr>\n",
       "    <tr>\n",
       "      <th>225599</th>\n",
       "      <td>0</td>\n",
       "      <td>0</td>\n",
       "      <td>0</td>\n",
       "      <td>0</td>\n",
       "      <td>400187332.0</td>\n",
       "      <td>0.000000</td>\n",
       "      <td>0</td>\n",
       "      <td>0.153846</td>\n",
       "      <td>0</td>\n",
       "      <td>1</td>\n",
       "      <td>0</td>\n",
       "      <td>140</td>\n",
       "      <td>0</td>\n",
       "      <td>0</td>\n",
       "      <td>0</td>\n",
       "      <td>0.0</td>\n",
       "      <td>-4.001873e+08</td>\n",
       "      <td>-1</td>\n",
       "    </tr>\n",
       "  </tbody>\n",
       "</table>\n",
       "<p>225600 rows × 18 columns</p>\n",
       "</div>"
      ],
      "text/plain": [
       "        followers_count  tweet_count  question_marks  verified  accountlife  \\\n",
       "0                    12         2876               0         0    5874788.0   \n",
       "1                   965        11545               0         0    5875327.0   \n",
       "2                    41         9313               0         0    5876059.0   \n",
       "3                   158        14946               0         0    5876074.0   \n",
       "4                   158        14946               1         0    5876081.0   \n",
       "...                 ...          ...             ...       ...          ...   \n",
       "225595                0            0               1         0  393005259.0   \n",
       "225596                0            0               0         0  395268785.0   \n",
       "225597                0            0               0         0  398387361.0   \n",
       "225598                0            0               0         0  399339402.0   \n",
       "225599                0            0               0         0  400187332.0   \n",
       "\n",
       "        followers_ratio  exclamation_marks  capital letters  retweet_count  \\\n",
       "0              3.250000                  0         0.583333              0   \n",
       "1              3.864000                  0         0.750000              1   \n",
       "2              3.230769                  0         4.583333              0   \n",
       "3              9.937500                  0         0.750000              1   \n",
       "4              9.937500                  0         1.333333              2   \n",
       "...                 ...                ...              ...            ...   \n",
       "225595         0.000000                  1         0.230769              0   \n",
       "225596         0.000000                  1         0.545455              0   \n",
       "225597         0.000000                  0         1.090909              0   \n",
       "225598         0.000000                  1         0.363636              0   \n",
       "225599         0.000000                  0         0.153846              0   \n",
       "\n",
       "        hashtags  following  text length  listed_count  emoticons  like_count  \\\n",
       "0              1          2          138             0          0           0   \n",
       "1              1        248          134            18          0           0   \n",
       "2              1         11          296             3          0           0   \n",
       "3              1         14          140            30          0           0   \n",
       "4              1         14          140            30          0           0   \n",
       "...          ...        ...          ...           ...        ...         ...   \n",
       "225595         1          0          124             0          0           0   \n",
       "225596         1          0          135             0          0           0   \n",
       "225597         1          0          136             0          0           0   \n",
       "225598         1          0           89             0          0           0   \n",
       "225599         1          0          140             0          0           0   \n",
       "\n",
       "        time_after_posting      activity  label  \n",
       "0              -42256836.0  2.042694e+03     -1  \n",
       "1             -400289838.0  5.089066e+02     -1  \n",
       "2             -166479246.0  6.309523e+02     -1  \n",
       "3             -366653103.0  3.931536e+02     -1  \n",
       "4             -366653096.0  3.931541e+02     -1  \n",
       "...                    ...           ...    ...  \n",
       "225595                 0.0 -3.930053e+08     -1  \n",
       "225596                 0.0 -3.952688e+08     -1  \n",
       "225597                 0.0 -3.983874e+08     -1  \n",
       "225598                 0.0 -3.993394e+08     -1  \n",
       "225599                 0.0 -4.001873e+08     -1  \n",
       "\n",
       "[225600 rows x 18 columns]"
      ]
     },
     "execution_count": 15,
     "metadata": {},
     "output_type": "execute_result"
    }
   ],
   "source": [
    "df"
   ]
  },
  {
   "cell_type": "code",
   "execution_count": 17,
   "id": "6db338b5",
   "metadata": {},
   "outputs": [
    {
     "data": {
      "text/html": [
       "<div>\n",
       "<style scoped>\n",
       "    .dataframe tbody tr th:only-of-type {\n",
       "        vertical-align: middle;\n",
       "    }\n",
       "\n",
       "    .dataframe tbody tr th {\n",
       "        vertical-align: top;\n",
       "    }\n",
       "\n",
       "    .dataframe thead th {\n",
       "        text-align: right;\n",
       "    }\n",
       "</style>\n",
       "<table border=\"1\" class=\"dataframe\">\n",
       "  <thead>\n",
       "    <tr style=\"text-align: right;\">\n",
       "      <th></th>\n",
       "      <th>followers_count</th>\n",
       "      <th>tweet_count</th>\n",
       "      <th>question_marks</th>\n",
       "      <th>verified</th>\n",
       "      <th>accountlife</th>\n",
       "      <th>followers_ratio</th>\n",
       "      <th>exclamation_marks</th>\n",
       "      <th>capital letters</th>\n",
       "      <th>retweet_count</th>\n",
       "      <th>hashtags</th>\n",
       "      <th>following</th>\n",
       "      <th>text length</th>\n",
       "      <th>listed_count</th>\n",
       "      <th>emoticons</th>\n",
       "      <th>like_count</th>\n",
       "      <th>time_after_posting</th>\n",
       "      <th>activity</th>\n",
       "      <th>label</th>\n",
       "    </tr>\n",
       "  </thead>\n",
       "  <tbody>\n",
       "  </tbody>\n",
       "</table>\n",
       "</div>"
      ],
      "text/plain": [
       "Empty DataFrame\n",
       "Columns: [followers_count, tweet_count, question_marks, verified, accountlife, followers_ratio, exclamation_marks, capital letters, retweet_count, hashtags, following, text length, listed_count, emoticons, like_count, time_after_posting, activity, label]\n",
       "Index: []"
      ]
     },
     "execution_count": 17,
     "metadata": {},
     "output_type": "execute_result"
    }
   ],
   "source": [
    "df[df['label']!=-1]"
   ]
  },
  {
   "cell_type": "code",
   "execution_count": 29,
   "id": "5665a2b7",
   "metadata": {},
   "outputs": [
    {
     "data": {
      "text/plain": [
       "-1.0"
      ]
     },
     "execution_count": 29,
     "metadata": {},
     "output_type": "execute_result"
    }
   ],
   "source": [
    "df.loc[0][\"label\"]"
   ]
  },
  {
   "cell_type": "code",
   "execution_count": 30,
   "id": "1ac590cd",
   "metadata": {},
   "outputs": [
    {
     "name": "stdout",
     "output_type": "stream",
     "text": [
      "              precision    recall  f1-score   support\n",
      "\n",
      "           0       0.94      0.90      0.92       275\n",
      "           1       0.95      0.97      0.96       547\n",
      "\n",
      "    accuracy                           0.95       822\n",
      "   macro avg       0.95      0.94      0.94       822\n",
      "weighted avg       0.95      0.95      0.95       822\n",
      "\n",
      "0.9371979391723451\n"
     ]
    }
   ],
   "source": [
    "\n",
    "for i in range(0,1):\n",
    "#         df_train, df_test = train_test_split(df, test_size=0.25)\n",
    "#         #print('Size of train dataframe: ', df_train.shape[0])\n",
    "#         #print('Size of test dataframe: ', df_test.shape[0])\n",
    "\n",
    "#         pd.options.mode.chained_assignment = None \n",
    "#         #df_train.loc[:,\"label\"] = labels\n",
    "#         df_train = df_train.sort_index()\n",
    "#         # Show target value distribution\n",
    "#         #print('Target Value Distribution:')\n",
    "#         #print(df_train['label'].value_counts())\n",
    "#         #print(df_test['label'].value_counts())\n",
    "\n",
    "#         ########## Step 1 - Data Prep ########## \n",
    "#         # Select only records with known labels\n",
    "#         df_train_labeled=df_train[df_train['label']!=-1]\n",
    "\n",
    "#         # Select data for modeling \n",
    "#         X_baseline=df_train_labeled[columns[:-1]]\n",
    "#         y_baseline=df_train_labeled['label'].values\n",
    "\n",
    "#         # Put test data into an array\n",
    "#         X_test=df_test[columns[:-1]]\n",
    "#         y_test=df_test['label'].values\n",
    "        \n",
    "#         print(y_test)\n",
    "    df_labeled=df[df[\"label\"]!=-1]\n",
    "    df_train, df_test = train_test_split(df_labeled, test_size=0.2)\n",
    "\n",
    "    df_unlabeled = df[df[\"label\"]==-1]\n",
    "    df_train = df_train.append(df_unlabeled)\n",
    "\n",
    "    X_baseline=df_train[columns[:-1]]\n",
    "    y_baseline=df_train['label'].values\n",
    "\n",
    "    # Put test data into an array\n",
    "    X_test=df_test[columns[:-1]]\n",
    "    y_test=df_test['label'].values\n",
    "\n",
    "    ########## Step 2 - Model Fitting ########## \n",
    "    # Specify SVC model parameters\n",
    "    #model = GaussianNB()\n",
    "    model = xgb.XGBClassifier(objective=\"binary:logistic\")\n",
    "\n",
    "    # Specify Self-Training model parameters\n",
    "    self_training_model = SelfTrainingClassifier(base_estimator=model, # An estimator object implementing fit and predict_proba.\n",
    "                                                 threshold=0.7, # default=0.75, The decision threshold for use with criterion='threshold'. Should be in [0, 1).\n",
    "                                                 criterion='threshold', # {‘threshold’, ‘k_best’}, default=’threshold’, The selection criterion used to select which labels to add to the training set. If 'threshold', pseudo-labels with prediction probabilities above threshold are added to the dataset. If 'k_best', the k_best pseudo-labels with highest prediction probabilities are added to the dataset.\n",
    "                                                 #k_best=50, # default=10, The amount of samples to add in each iteration. Only used when criterion='k_best'.\n",
    "                                                 max_iter=100, # default=10, Maximum number of iterations allowed. Should be greater than or equal to 0. If it is None, the classifier will continue to predict labels until no new pseudo-labels are added, or all unlabeled samples have been labeled.\n",
    "                                                 verbose=False # default=False, Verbosity prints some information after each iteration\n",
    "                                                )\n",
    "\n",
    "    # Fit the model\n",
    "    #clf_ST = self_training_model.fit(X_train, y_train)\n",
    "    # Fit the XGBoost model\n",
    "    clf_ST = self_training_model.fit(X_baseline, y_baseline)\n",
    "\n",
    "\n",
    "\n",
    "    #accuracy, precision, recall, F1-score\n",
    "    print(classification_report(y_test, clf_ST.predict(X_test.values)))\n",
    "    #AUC\n",
    "    print(roc_auc_score(y_test, clf_ST.predict(X_test.values)))"
   ]
  },
  {
   "cell_type": "code",
   "execution_count": 31,
   "id": "98df7c75",
   "metadata": {
    "scrolled": true
   },
   "outputs": [
    {
     "name": "stdout",
     "output_type": "stream",
     "text": [
      "              precision    recall  f1-score   support\n",
      "\n",
      "          -1       1.00      1.00      1.00     44322\n",
      "           0       0.99      0.85      0.92       236\n",
      "           1       1.00      0.88      0.94       562\n",
      "\n",
      "    accuracy                           1.00     45120\n",
      "   macro avg       1.00      0.91      0.95     45120\n",
      "weighted avg       1.00      1.00      1.00     45120\n",
      "\n"
     ]
    }
   ],
   "source": [
    "#\"normal\" model (no self training)\n",
    "\n",
    "#df_labeled=df[df[\"label\"]!=-1]\n",
    "df_train, df_test = train_test_split(df, test_size=0.2)\n",
    "\n",
    "X_baseline=df_train[columns[:-1]]\n",
    "y_baseline=df_train['label'].values\n",
    "\n",
    "# Put test data into an array\n",
    "X_test=df_test[columns[:-1]]\n",
    "y_test=df_test['label'].values\n",
    "\n",
    "model = xgb.XGBClassifier(objective=\"binary:logistic\")\n",
    "\n",
    "model.fit(X_baseline, y_baseline)\n",
    "\n",
    "print(classification_report(y_test, model.predict(X_test)))"
   ]
  },
  {
   "cell_type": "code",
   "execution_count": 32,
   "id": "171eb275",
   "metadata": {},
   "outputs": [
    {
     "name": "stdout",
     "output_type": "stream",
     "text": [
      "              precision    recall  f1-score   support\n",
      "\n",
      "           0       0.94      0.93      0.93       259\n",
      "           1       0.97      0.97      0.97       563\n",
      "\n",
      "    accuracy                           0.96       822\n",
      "   macro avg       0.95      0.95      0.95       822\n",
      "weighted avg       0.96      0.96      0.96       822\n",
      "\n",
      "0.9750577778996963\n"
     ]
    }
   ],
   "source": [
    "#\"normal\" model without unlabeled data\n",
    "\n",
    "df_labeled=df[df[\"label\"]!=-1]\n",
    "df_train, df_test = train_test_split(df_labeled, test_size=0.2)\n",
    "\n",
    "X_baseline=df_train[columns[:-1]]\n",
    "y_baseline=df_train['label'].values\n",
    "\n",
    "# Put test data into an array\n",
    "X_test=df_test[columns[:-1]]\n",
    "y_test=df_test['label'].values\n",
    "\n",
    "\n",
    "########## Step 2 - Model Fitting ########## \n",
    "# Specify SVC model parameters\n",
    "#model = GaussianNB()\n",
    "model = xgb.XGBClassifier(objective=\"binary:logistic\")\n",
    "\n",
    "model.fit(X_baseline, y_baseline)\n",
    "\n",
    "print(classification_report(y_test, model.predict(X_test)))\n",
    "\n",
    "print(roc_auc_score(y_test, clf_ST.predict(X_test.values)))"
   ]
  },
  {
   "cell_type": "code",
   "execution_count": null,
   "id": "8de54423",
   "metadata": {},
   "outputs": [],
   "source": []
  },
  {
   "cell_type": "code",
   "execution_count": null,
   "id": "4891c383",
   "metadata": {},
   "outputs": [],
   "source": []
  },
  {
   "cell_type": "code",
   "execution_count": null,
   "id": "be8550c6",
   "metadata": {},
   "outputs": [],
   "source": []
  },
  {
   "cell_type": "code",
   "execution_count": null,
   "id": "2b93f2d0",
   "metadata": {},
   "outputs": [],
   "source": []
  },
  {
   "cell_type": "code",
   "execution_count": 33,
   "id": "754eed6a",
   "metadata": {},
   "outputs": [
    {
     "name": "stdout",
     "output_type": "stream",
     "text": [
      "              precision    recall  f1-score   support\n",
      "\n",
      "           0       0.27      0.27      0.27       230\n",
      "           1       0.47      0.47      0.47       316\n",
      "\n",
      "    accuracy                           0.38       546\n",
      "   macro avg       0.37      0.37      0.37       546\n",
      "weighted avg       0.38      0.38      0.38       546\n",
      "\n",
      "0.36678591084204737\n",
      "------\n",
      "              precision    recall  f1-score   support\n",
      "\n",
      "           0       0.00      0.02      0.01       161\n",
      "           1       0.59      0.15      0.23      1543\n",
      "\n",
      "    accuracy                           0.13      1704\n",
      "   macro avg       0.30      0.09      0.12      1704\n",
      "weighted avg       0.53      0.13      0.21      1704\n",
      "\n",
      "0.08500823192699551\n",
      "------\n",
      "              precision    recall  f1-score   support\n",
      "\n",
      "           0       0.04      0.02      0.02       917\n",
      "           1       0.38      0.60      0.47       940\n",
      "\n",
      "    accuracy                           0.31      1857\n",
      "   macro avg       0.21      0.31      0.25      1857\n",
      "weighted avg       0.21      0.31      0.25      1857\n",
      "\n",
      "0.30817884405670665\n",
      "------\n"
     ]
    }
   ],
   "source": [
    "#normal classification except use cross validation to train on all hashtags - 1  each iteration  \n",
    "#just classifies everything as unlabelled  \n",
    "\n",
    "df1 = pd.DataFrame(data=features1, index=None, columns=columns) #jinek\n",
    "df2 = pd.DataFrame(data=features2, index=None, columns=columns) #vleestaks\n",
    "df3 = pd.DataFrame(data=features3, index=None, columns=columns) #inflatie\n",
    "\n",
    "\n",
    "from sklearn.model_selection import KFold\n",
    "\n",
    "kf = KFold(n_splits=3, shuffle=False)\n",
    "\n",
    "dfs = [df1, df2, df3]\n",
    "\n",
    "#model = xgb.XGBClassifier(objective=\"binary:logistic\")\n",
    "\n",
    "\n",
    "\n",
    "    \n",
    "for train_index, test_index in kf.split(dfs):\n",
    "    train = dfs[train_index[0]].append(dfs[train_index[1]], ignore_index=True)\n",
    "    test = dfs[test_index[0]][dfs[test_index[0]][\"label\"] != -1]\n",
    "    \n",
    "    X_train = train[columns[:-1]]# + dfs[train_index[1]][columns[:-1]]\n",
    "    X_test = test[columns[:-1]]\n",
    "    y_train = train[\"label\"]\n",
    "    y_test = test ['label']\n",
    "        \n",
    "    model = xgb.XGBClassifier(objective=\"binary:logistic\")\n",
    "    # Specify Self-Training model parameters\n",
    "    self_training_model = SelfTrainingClassifier(base_estimator=model, # An estimator object implementing fit and predict_proba.\n",
    "                                                 threshold=0.7, # default=0.75, The decision threshold for use with criterion='threshold'. Should be in [0, 1).\n",
    "                                                 criterion='threshold', # {‘threshold’, ‘k_best’}, default=’threshold’, The selection criterion used to select which labels to add to the training set. If 'threshold', pseudo-labels with prediction probabilities above threshold are added to the dataset. If 'k_best', the k_best pseudo-labels with highest prediction probabilities are added to the dataset.\n",
    "                                                 #k_best=50, # default=10, The amount of samples to add in each iteration. Only used when criterion='k_best'.\n",
    "                                                 max_iter=100, # default=10, Maximum number of iterations allowed. Should be greater than or equal to 0. If it is None, the classifier will continue to predict labels until no new pseudo-labels are added, or all unlabeled samples have been labeled.\n",
    "                                                 verbose=False # default=False, Verbosity prints some information after each iteration\n",
    "                                                )\n",
    "\n",
    "    # Fit the model\n",
    "    #clf_ST = self_training_model.fit(X_train, y_train)\n",
    "    # Fit the XGBoost model\n",
    "    clf_ST = self_training_model.fit(X_train, y_train)\n",
    "\n",
    "\n",
    "\n",
    "    #accuracy, precision, recall, F1-score\n",
    "    print(classification_report(y_test, clf_ST.predict(X_test.values)))\n",
    "    print(roc_auc_score(y_test, clf_ST.predict(X_test.values)))\n",
    "    print(\"------\")    "
   ]
  },
  {
   "cell_type": "code",
   "execution_count": 34,
   "id": "a0d03112",
   "metadata": {
    "scrolled": true
   },
   "outputs": [
    {
     "name": "stdout",
     "output_type": "stream",
     "text": [
      "              precision    recall  f1-score   support\n",
      "\n",
      "           0       0.27      0.27      0.27       230\n",
      "           1       0.47      0.47      0.47       316\n",
      "\n",
      "    accuracy                           0.38       546\n",
      "   macro avg       0.37      0.37      0.37       546\n",
      "weighted avg       0.38      0.38      0.38       546\n",
      "\n",
      "0.36678591084204737\n",
      "------\n",
      "              precision    recall  f1-score   support\n",
      "\n",
      "           0       0.00      0.02      0.01       161\n",
      "           1       0.59      0.15      0.23      1543\n",
      "\n",
      "    accuracy                           0.13      1704\n",
      "   macro avg       0.30      0.09      0.12      1704\n",
      "weighted avg       0.53      0.13      0.21      1704\n",
      "\n",
      "0.08500823192699551\n",
      "------\n",
      "              precision    recall  f1-score   support\n",
      "\n",
      "           0       0.04      0.02      0.02       917\n",
      "           1       0.38      0.60      0.47       940\n",
      "\n",
      "    accuracy                           0.31      1857\n",
      "   macro avg       0.21      0.31      0.25      1857\n",
      "weighted avg       0.21      0.31      0.25      1857\n",
      "\n",
      "0.30817884405670665\n",
      "------\n"
     ]
    }
   ],
   "source": [
    "#normal classification except use cross validation to train on all hashtags - 1  each iteration  \n",
    "#just classifies everything as unlabelled  \n",
    "\n",
    "df1 = pd.DataFrame(data=features1, index=None, columns=columns)\n",
    "df2 = pd.DataFrame(data=features2, index=None, columns=columns)\n",
    "df3 = pd.DataFrame(data=features3, index=None, columns=columns)\n",
    "\n",
    "\n",
    "from sklearn.model_selection import KFold\n",
    "\n",
    "kf = KFold(n_splits=3, shuffle=False)\n",
    "\n",
    "dfs = [df1, df2, df3]\n",
    "\n",
    "model = xgb.XGBClassifier(objective=\"binary:logistic\")\n",
    "\n",
    "# Specify Self-Training model parameters\n",
    "self_training_model = SelfTrainingClassifier(base_estimator=model, # An estimator object implementing fit and predict_proba.\n",
    "                                             threshold=0.7, # default=0.75, The decision threshold for use with criterion='threshold'. Should be in [0, 1).\n",
    "                                             criterion='threshold', # {‘threshold’, ‘k_best’}, default=’threshold’, The selection criterion used to select which labels to add to the training set. If 'threshold', pseudo-labels with prediction probabilities above threshold are added to the dataset. If 'k_best', the k_best pseudo-labels with highest prediction probabilities are added to the dataset.\n",
    "                                             #k_best=50, # default=10, The amount of samples to add in each iteration. Only used when criterion='k_best'.\n",
    "                                             max_iter=100, # default=10, Maximum number of iterations allowed. Should be greater than or equal to 0. If it is None, the classifier will continue to predict labels until no new pseudo-labels are added, or all unlabeled samples have been labeled.\n",
    "                                             verbose=False # default=False, Verbosity prints some information after each iteration\n",
    "                                            )\n",
    "\n",
    "    \n",
    "for train_index, test_index in kf.split(dfs):\n",
    "    train = dfs[train_index[0]].append(dfs[train_index[1]], ignore_index=True)\n",
    "    test = dfs[test_index[0]][dfs[test_index[0]][\"label\"] != -1]\n",
    "    \n",
    "    X_train = train[columns[:-1]]# + dfs[train_index[1]][columns[:-1]]\n",
    "    X_test = test[columns[:-1]]\n",
    "    y_train = train[\"label\"]\n",
    "    y_test = test ['label']\n",
    "        \n",
    "    #model = xgb.XGBClassifier(objective=\"binary:logistic\")\n",
    "\n",
    "\n",
    "    # Fit the model\n",
    "    #clf_ST = self_training_model.fit(X_train, y_train)\n",
    "    # Fit the XGBoost model\n",
    "    clf_ST = self_training_model.fit(X_train, y_train)\n",
    "\n",
    "\n",
    "\n",
    "    #accuracy, precision, recall, F1-score\n",
    "    print(classification_report(y_test, clf_ST.predict(X_test.values)))\n",
    "    print(roc_auc_score(y_test, clf_ST.predict(X_test.values)))\n",
    "    print(\"------\")    "
   ]
  },
  {
   "cell_type": "code",
   "execution_count": null,
   "id": "5736ad99",
   "metadata": {},
   "outputs": [],
   "source": []
  },
  {
   "cell_type": "code",
   "execution_count": 35,
   "id": "e6679dcd",
   "metadata": {},
   "outputs": [],
   "source": [
    "model = xgb.XGBClassifier(objective=\"binary:logistic\")\n",
    "\n",
    "model.fit(df[columns[:-1]], df['label'].values )\n",
    "\n",
    "feature_importances = model.feature_importances_\n",
    "\n"
   ]
  },
  {
   "cell_type": "code",
   "execution_count": 36,
   "id": "56fefb08",
   "metadata": {
    "scrolled": false
   },
   "outputs": [
    {
     "data": {
      "image/png": "[encoded data removed]",
      "text/plain": [
       "<Figure size 432x288 with 1 Axes>"
      ]
     },
     "metadata": {},
     "output_type": "display_data"
    }
   ],
   "source": [
    "plt.bar(columns[:-1], feature_importances)\n",
    "plt.xticks(ticks=range(len(feature_importances)), labels=columns[:-1], rotation=90)\n",
    "plt.show()"
   ]
  },
  {
   "cell_type": "code",
   "execution_count": null,
   "id": "8272c26e",
   "metadata": {},
   "outputs": [],
   "source": []
  },
  {
   "cell_type": "code",
   "execution_count": null,
   "id": "515719ef",
   "metadata": {},
   "outputs": [],
   "source": []
  }
 ],
 "metadata": {
  "kernelspec": {
   "display_name": "Python 3 (ipykernel)",
   "language": "python",
   "name": "python3"
  },
  "language_info": {
   "codemirror_mode": {
    "name": "ipython",
    "version": 3
   },
   "file_extension": ".py",
   "mimetype": "text/x-python",
   "name": "python",
   "nbconvert_exporter": "python",
   "pygments_lexer": "ipython3",
   "version": "3.9.12"
  }
 },
 "nbformat": 4,
 "nbformat_minor": 5
}
