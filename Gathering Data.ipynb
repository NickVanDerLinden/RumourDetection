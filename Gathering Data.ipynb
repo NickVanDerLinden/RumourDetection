{
 "cells": [
  {
   "cell_type": "code",
   "execution_count": 36,
   "id": "fd0c82dc",
   "metadata": {},
   "outputs": [],
   "source": [
    "import pandas as pd\n",
    "from datetime import date\n",
    "import nltk\n",
    "from nltk.tokenize import word_tokenize\n",
    "from pytwitter import Api\n",
    "import json\n",
    "\n",
    "#!pip install emoji\n",
    "from emoji import UNICODE_EMOJI\n",
    "\n",
    "#API key \n",
    "#API key secret \n",
    "#bearer token \n",
    "#Access token\n",
    "#Acces token secret"
   ]
  },
  {
   "cell_type": "code",
   "execution_count": 3,
   "id": "a428ce70",
   "metadata": {},
   "outputs": [],
   "source": [
    "api = Api(consumer_key=#API key\n",
    "          consumer_secret=#API key secret\n",
    "          access_token=#Access token\n",
    "          access_secret=#Access token secret\n",
    "          bearer_token=#bearer token\n",
    "         )"
   ]
  },
  {
   "cell_type": "code",
   "execution_count": 1,
   "id": "c076414e",
   "metadata": {
    "scrolled": true
   },
   "outputs": [],
   "source": [
    "tweets = []\n",
    "latest_id = None\n",
    "max_requests = 300 \n",
    "hashtag = \"#jinek\" #vleestaks #inflatie\n",
    "\n",
    "for i in range(0,max_requests):\n",
    "    test = api.search_tweets(query=\"#jinek -is:retweet -is:reply -is:quote\", query_type=\"all\", max_results=\"500\",\n",
    "                             until_id=latest_id,\n",
    "                  expansions=[ \"attachments.media_keys\", \n",
    "                              \"author_id\"\n",
    "                             ], \n",
    "                         media_fields=[\"duration_ms\", \n",
    "                                       \"height\", \n",
    "                                       \"media_key\", \n",
    "                                       \"preview_image_url\", \n",
    "                                       \"type\", \n",
    "                                       \"url\", \n",
    "                                       \"width\", \n",
    "                                       \"public_metrics\", \n",
    "                                       \"alt_text\"],\n",
    "                         tweet_fields=[\"attachments\", \n",
    "                                       \"author_id\",  \n",
    "                                       \"conversation_id\", \n",
    "                                       \"created_at\", \n",
    "                                       \"entities\", \n",
    "                                       \"id\", \n",
    "                                       \"in_reply_to_user_id\", \n",
    "                                       \"lang\", \n",
    "                                       \"public_metrics\", \n",
    "                                       \"possibly_sensitive\", \n",
    "                                       \"referenced_tweets\", \n",
    "                                       \"reply_settings\", \n",
    "                                       \"source\", \n",
    "                                       \"text\", \n",
    "                                       \"withheld\"],\n",
    "                         user_fields=[\"created_at\", \n",
    "                                      \"description\", \n",
    "                                      \"entities\", \n",
    "                                      \"id\", \n",
    "                                      \"location\", \n",
    "                                      \"name\", \n",
    "                                      \"pinned_tweet_id\", \n",
    "                                      \"profile_image_url\", \n",
    "                                      \"protected\", \n",
    "                                      \"public_metrics\", \n",
    "                                      \"url\", \n",
    "                                      \"username\", \n",
    "                                      \"verified\", \n",
    "                                      \"withheld\"],\n",
    "                         return_json=True)\n",
    "    if \"data\" in test:\n",
    "        latest_id = test[\"data\"][-1][\"id\"]\n",
    "    else:\n",
    "        break\n",
    "    with open('#jinek.txt', 'a') as f:\n",
    "        f.write(json.dumps(test))\n",
    "        f.write(\"\\n\")\n",
    "        f.close()"
   ]
  },
  {
   "cell_type": "code",
   "execution_count": null,
   "id": "73d8e46c",
   "metadata": {},
   "outputs": [],
   "source": []
  }
 ],
 "metadata": {
  "kernelspec": {
   "display_name": "Python 3 (ipykernel)",
   "language": "python",
   "name": "python3"
  },
  "language_info": {
   "codemirror_mode": {
    "name": "ipython",
    "version": 3
   },
   "file_extension": ".py",
   "mimetype": "text/x-python",
   "name": "python",
   "nbconvert_exporter": "python",
   "pygments_lexer": "ipython3",
   "version": "3.9.12"
  }
 },
 "nbformat": 4,
 "nbformat_minor": 5
}
