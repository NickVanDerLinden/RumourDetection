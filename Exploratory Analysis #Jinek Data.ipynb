{
 "cells": [
  {
   "cell_type": "code",
   "execution_count": 3,
   "id": "96121d6a",
   "metadata": {},
   "outputs": [
    {
     "name": "stdout",
     "output_type": "stream",
     "text": [
      "Collecting emoji\n",
      "  Downloading emoji-1.7.0.tar.gz (175 kB)\n",
      "\u001b[K     |████████████████████████████████| 175 kB 2.1 MB/s eta 0:00:01\n",
      "\u001b[?25hBuilding wheels for collected packages: emoji\n",
      "  Building wheel for emoji (setup.py) ... \u001b[?25ldone\n",
      "\u001b[?25h  Created wheel for emoji: filename=emoji-1.7.0-py3-none-any.whl size=171046 sha256=63450a43b93e687960eea130505d1ab6ae285d77ff4f6a36ab95ebe8c315a8f2\n",
      "  Stored in directory: /home/nickvanderlinden/.cache/pip/wheels/fa/7a/e9/22dd0515e1bad255e51663ee513a2fa839c95934c5fc301090\n",
      "Successfully built emoji\n",
      "Installing collected packages: emoji\n",
      "Successfully installed emoji-1.7.0\n"
     ]
    }
   ],
   "source": [
    "import numpy as np\n",
    "import pandas as pd\n",
    "import matplotlib.pyplot as plt\n",
    "from datetime import date\n",
    "import nltk\n",
    "from nltk.tokenize import word_tokenize\n",
    "#!pip install pytwitter\n",
    "#from pytwitter import Api\n",
    "import json\n",
    "import math\n",
    "\n",
    "!pip install emoji\n",
    "from emoji import UNICODE_EMOJI\n",
    "\n",
    "from sklearn.cluster import KMeans\n",
    "from sklearn.metrics import silhouette_score\n",
    "\n",
    "#API key \n",
    "#API key secret \n",
    "#bearer token \n",
    "#Access token \n",
    "#Acces token secret"
   ]
  },
  {
   "cell_type": "code",
   "execution_count": 9,
   "id": "c81f79eb",
   "metadata": {},
   "outputs": [
    {
     "data": {
      "text/plain": [
       "161633"
      ]
     },
     "execution_count": 9,
     "metadata": {},
     "output_type": "execute_result"
    }
   ],
   "source": [
    "\n",
    "file = open('#jinek.txt', 'r')\n",
    "count = 0\n",
    "tweets = []\n",
    "\n",
    "while True:\n",
    "    count += 1\n",
    " \n",
    "    # Get next line from file\n",
    "    line = file.readline()\n",
    " \n",
    "    # if line is empty\n",
    "    # end of file is reached\n",
    "    if not line:\n",
    "        break\n",
    "    tweets.append(json.loads(line))#, encoding=\"utf-8\"))\n",
    "    \n",
    "data2 = []\n",
    "for i in range(len(tweets)):\n",
    "    for j in range(len(tweets[i][\"data\"])):\n",
    "        temp = []\n",
    "        if tweets[i][\"data\"][0][\"lang\"] == 'nl':\n",
    "            temp.append(tweets[i][\"data\"][0])\n",
    "            user = [k for k in tweets[0][\"includes\"][\"users\"] \n",
    "                    if k[\"id\"] == tweets[i][\"data\"][j][\"author_id\"]]\n",
    "            temp.append(user)\n",
    "            data2.append(temp)\n",
    "len(data2)"
   ]
  },
  {
   "cell_type": "code",
   "execution_count": 5,
   "id": "cbefbc1f",
   "metadata": {},
   "outputs": [],
   "source": [
    "#expansions=[ \"attachments.media_keys\", \n",
    "#                               \"author_id\", \n",
    "#                               \"entities.mentions.username\",\n",
    "#                               \"in_reply_to_user_id\", \n",
    "#                               \"referenced_tweets.id\", \n",
    "#                               \"referenced_tweets.id.author_id\"], \n",
    "\n",
    "#                          media_fields=[\"duration_ms\", \n",
    "#                                        \"height\", \n",
    "#                                        \"media_key\", \n",
    "#                                        \"preview_image_url\", \n",
    "#                                        \"type\", \n",
    "#                                        \"url\", \n",
    "#                                        \"width\", \n",
    "#                                        \"public_metrics\", \n",
    "#                                        \"alt_text\"],\n",
    "\n",
    "#                          tweet_fields=[\"attachments\", \n",
    "#                                        \"author_id\",  \n",
    "#                                        \"conversation_id\", \n",
    "#                                        \"created_at\", \n",
    "#                                        \"entities\", \n",
    "#                                        \"id\", \n",
    "#                                        \"in_reply_to_user_id\", \n",
    "#                                        \"lang\", \n",
    "#                                        \"public_metrics\", \n",
    "#                                        \"possibly_sensitive\", \n",
    "#                                        \"referenced_tweets\", \n",
    "#                                        \"reply_settings\", \n",
    "#                                        \"source\", \n",
    "#                                        \"text\", \n",
    "#                                        \"withheld\"],\n",
    "\n",
    "#                          user_fields=[\"created_at\", \n",
    "#                                       \"description\", \n",
    "#                                       \"entities\", \n",
    "#                                       \"id\", \n",
    "#                                       \"location\", \n",
    "#                                       \"name\", \n",
    "#                                       \"pinned_tweet_id\", \n",
    "#                                       \"profile_image_url\", \n",
    "#                                       \"protected\", \n",
    "#                                       \"public_metrics\", \n",
    "#                                       \"url\", \n",
    "#                                       \"username\", \n",
    "#                                       \"verified\", \n",
    "#                                       \"withheld\"],\n"
   ]
  },
  {
   "cell_type": "code",
   "execution_count": 10,
   "id": "948e8bc8",
   "metadata": {},
   "outputs": [
    {
     "data": {
      "text/plain": [
       "[{'lang': 'nl',\n",
       "  'entities': {'mentions': [{'start': 3,\n",
       "     'end': 15,\n",
       "     'username': 'EelcoHoecke',\n",
       "     'id': '1174967016014303234'}],\n",
       "   'hashtags': [{'start': 24, 'end': 36, 'tag': 'devooravond'},\n",
       "    {'start': 123, 'end': 128, 'tag': 'woke'}]},\n",
       "  'public_metrics': {'retweet_count': 19,\n",
       "   'reply_count': 0,\n",
       "   'like_count': 0,\n",
       "   'quote_count': 0},\n",
       "  'reply_settings': 'everyone',\n",
       "  'conversation_id': '1504938640962637830',\n",
       "  'created_at': '2022-03-18T21:51:47.000Z',\n",
       "  'author_id': '2305592671',\n",
       "  'referenced_tweets': [{'type': 'retweeted', 'id': '1504931135016554499'}],\n",
       "  'source': 'Twitter Web App',\n",
       "  'text': 'RT @EelcoHoecke: Exact. #devooravond was een topprogramma en Fidan Ekiz was top! Ze is gecanceld omdat ze te rechts was... #woke maakt meer…',\n",
       "  'possibly_sensitive': False,\n",
       "  'id': '1504938640962637830'},\n",
       " [{'description': 'Cynisch volger van Feyenoord, gek op Southern Rock, Country, Americana,The Boston Red Sox en The Rolling Stones, Keith Richards in het bijzonder.',\n",
       "   'username': 'Paulus858520671',\n",
       "   'id': '1063919637291769861',\n",
       "   'pinned_tweet_id': '1226578540981837826',\n",
       "   'verified': False,\n",
       "   'created_at': '2018-11-17T22:19:42.000Z',\n",
       "   'protected': False,\n",
       "   'profile_image_url': 'https://pbs.twimg.com/profile_images/1465674571735085059/64QSOv3Z_normal.jpg',\n",
       "   'url': '',\n",
       "   'public_metrics': {'followers_count': 191,\n",
       "    'following_count': 79,\n",
       "    'tweet_count': 25391,\n",
       "    'listed_count': 0},\n",
       "   'name': 'Paul.'}]]"
      ]
     },
     "execution_count": 10,
     "metadata": {},
     "output_type": "execute_result"
    }
   ],
   "source": [
    "data2[100]\n"
   ]
  },
  {
   "cell_type": "code",
   "execution_count": 11,
   "id": "51e673b5",
   "metadata": {},
   "outputs": [
    {
     "data": {
      "text/plain": [
       "'RT @EelcoHoecke: Exact. #devooravond was een topprogramma en Fidan Ekiz was top! Ze is gecanceld omdat ze te rechts was... #woke maakt meer…'"
      ]
     },
     "execution_count": 11,
     "metadata": {},
     "output_type": "execute_result"
    }
   ],
   "source": [
    "data2[0][0][\"text\"]"
   ]
  },
  {
   "cell_type": "code",
   "execution_count": 23,
   "id": "6ad28382",
   "metadata": {},
   "outputs": [
    {
     "name": "stderr",
     "output_type": "stream",
     "text": [
      "[nltk_data] Downloading package punkt to\n",
      "[nltk_data]     /home/nickvanderlinden/nltk_data...\n",
      "[nltk_data]   Package punkt is already up-to-date!\n",
      "[nltk_data] Downloading package averaged_perceptron_tagger to\n",
      "[nltk_data]     /home/nickvanderlinden/nltk_data...\n",
      "[nltk_data]   Package averaged_perceptron_tagger is already up-to-\n",
      "[nltk_data]       date!\n"
     ]
    }
   ],
   "source": [
    "import time \n",
    "#text = data2[x][0][\"text\"]\n",
    "nltk.download('punkt')\n",
    "nltk.download('averaged_perceptron_tagger')\n",
    "\n",
    "features = []\n",
    "for x in range(0,len(data2)):\n",
    "    temp = []\n",
    "    if data2[x][1] != []:\n",
    "        followers_count = data2[x][1][0][\"public_metrics\"][\"followers_count\"]\n",
    "        temp.append(followers_count)\n",
    "    else:\n",
    "        temp.append(-1)\n",
    "\n",
    "    if data2[x][1] != []:        \n",
    "        tweetcount = data2[x][1][0][\"public_metrics\"][\"tweet_count\"]\n",
    "        temp.append(tweetcount)\n",
    "    else:\n",
    "        temp.append(-1)\n",
    "\n",
    "    qmarks = \"?\" in data2[x][0][\"text\"]\n",
    "    temp.append(int(qmarks))\n",
    "\n",
    "    if data2[x][1] != []:\n",
    "        verified = data2[x][1][0][\"verified\"]\n",
    "        temp.append(int(verified))    \n",
    "    else:\n",
    "        temp.append(-1)\n",
    "        \n",
    "    accountlife = time.mktime(time.localtime()) - time.mktime(time.strptime(data2[x][0][\"created_at\"], \"%Y-%m-%dT%H:%M:%S.000Z\"))\n",
    "    temp.append(accountlife)\n",
    "\n",
    "    if data2[x][1] != []:    \n",
    "        ratio = (data2[x][1][0][\"public_metrics\"][\"followers_count\"]+1.0)/(data2[x][1][0][\"public_metrics\"][\"following_count\"]+2.0)\n",
    "        temp.append(ratio)\n",
    "    else:\n",
    "        temp.append(999999)\n",
    "        \n",
    "    emark = \"!\" in data2[x][0][\"text\"]\n",
    "    temp.append(int(emark))\n",
    "\n",
    "    capitalletters = sum(1 for c in data2[x][0][\"text\"] if c.isupper())/sum(1 for c in data2[x][0])\n",
    "    temp.append(capitalletters)\n",
    "\n",
    "    retweet_count = data2[x][0][\"public_metrics\"][\"retweet_count\"]\n",
    "    temp.append(retweet_count)\n",
    "    \n",
    "    hashtags = \"#\" in data2[x][0][\"text\"]\n",
    "    temp.append(int(hashtags))\n",
    "    \n",
    "    if data2[x][1] != []:\n",
    "        following = data2[x][1][0][\"public_metrics\"][\"following_count\"]\n",
    "        temp.append(following)\n",
    "    else:\n",
    "        temp.append(-1)\n",
    "\n",
    "    text_length = len(data2[x][0][\"text\"])\n",
    "    temp.append(text_length)\n",
    "    \n",
    "    if data2[x][1] != []:    \n",
    "        listed_count = data2[x][1][0][\"public_metrics\"][\"listed_count\"]\n",
    "        temp.append(listed_count)\n",
    "    else:\n",
    "        temp.append(-1)\n",
    "\n",
    "    emoticons = True in [s in UNICODE_EMOJI['en'] for s in data2[x][0][\"text\"]]\n",
    "    temp.append(int(emoticons))\n",
    "    \n",
    "    reply_count = data2[x][0][\"public_metrics\"][\"reply_count\"]\n",
    "    temp.append(reply_count)\n",
    "    \n",
    "    quote_count = data2[x][0][\"public_metrics\"][\"quote_count\"]\n",
    "    temp.append(quote_count)\n",
    "    \n",
    "    like_count = data2[x][0][\"public_metrics\"][\"like_count\"]\n",
    "    temp.append(like_count)\n",
    "    \n",
    "    if data2[x][1] != []:\n",
    "        timeafterposting = time.mktime(time.strptime(data2[x][1][0][\"created_at\"],\"%Y-%m-%dT%H:%M:%S.000Z\")) - time.mktime(time.strptime(data2[x][0][\"created_at\"],\"%Y-%m-%dT%H:%M:%S.000Z\"))\n",
    "        temp.append(timeafterposting)\n",
    "    else:\n",
    "        temp.append(999999)\n",
    "\n",
    "    pos_tags = nltk.pos_tag(nltk.word_tokenize(data2[x][0][\"text\"]))\n",
    "    temp.append(pos_tags)\n",
    "    \n",
    "    activity = tweetcount/accountlife\n",
    "    temp.append(activity)\n",
    "\n",
    "    if data2[x][1] != []:\n",
    "        has_url = \"profile_image_url\" in data2[x][1][0]\n",
    "        temp.append(int(has_url))\n",
    "    else:\n",
    "        temp.append(-1)\n",
    "        \n",
    "    fpp = True in [i in data2[x][0][\"text\"].lower() for i in [\"me\", \"my\", \"i\", \"mine\"]]\n",
    "    temp.append(int(fpp))\n",
    "\n",
    "    nsfw = data2[x][0][\"possibly_sensitive\"] \n",
    "    temp.append(int(nsfw))\n",
    "    features.append(temp)"
   ]
  },
  {
   "cell_type": "code",
   "execution_count": 24,
   "id": "554b2f8f",
   "metadata": {},
   "outputs": [
    {
     "data": {
      "text/plain": [
       "161633"
      ]
     },
     "execution_count": 24,
     "metadata": {},
     "output_type": "execute_result"
    }
   ],
   "source": [
    "len(features)"
   ]
  },
  {
   "cell_type": "code",
   "execution_count": 25,
   "id": "6eaeccfe",
   "metadata": {},
   "outputs": [
    {
     "data": {
      "text/plain": [
       "23"
      ]
     },
     "execution_count": 25,
     "metadata": {},
     "output_type": "execute_result"
    }
   ],
   "source": [
    "len(features[0])"
   ]
  },
  {
   "cell_type": "code",
   "execution_count": 26,
   "id": "7d35d91e",
   "metadata": {},
   "outputs": [
    {
     "data": {
      "text/plain": [
       "[int,\n",
       " int,\n",
       " int,\n",
       " int,\n",
       " float,\n",
       " float,\n",
       " int,\n",
       " float,\n",
       " int,\n",
       " int,\n",
       " int,\n",
       " int,\n",
       " int,\n",
       " int,\n",
       " int,\n",
       " int,\n",
       " int,\n",
       " float,\n",
       " list,\n",
       " float,\n",
       " int,\n",
       " int,\n",
       " int]"
      ]
     },
     "execution_count": 26,
     "metadata": {},
     "output_type": "execute_result"
    }
   ],
   "source": [
    "[type(x) for x in features[0]]"
   ]
  },
  {
   "cell_type": "code",
   "execution_count": 18,
   "id": "8db4af63",
   "metadata": {},
   "outputs": [
    {
     "data": {
      "text/plain": [
       "Text(0, 0.5, 'frequency')"
      ]
     },
     "execution_count": 18,
     "metadata": {},
     "output_type": "execute_result"
    },
    {
     "data": {
      "image/png": "[encoded data removed]",
      "text/plain": [
       "<Figure size 432x288 with 1 Axes>"
      ]
     },
     "metadata": {
      "needs_background": "light"
     },
     "output_type": "display_data"
    }
   ],
   "source": [
    "unique, counts = np.unique([x[0] for x in features], return_counts=True)\n",
    "plt.plot(unique[1:-1], counts[1:-1])\n",
    "plt.xlabel(\"follower count\")\n",
    "plt.ylabel(\"frequency\")"
   ]
  },
  {
   "cell_type": "code",
   "execution_count": 19,
   "id": "f646f5f6",
   "metadata": {},
   "outputs": [
    {
     "data": {
      "text/plain": [
       "Text(0, 0.5, 'frequency')"
      ]
     },
     "execution_count": 19,
     "metadata": {},
     "output_type": "execute_result"
    },
    {
     "data": {
      "image/png": "[encoded data removed]",
      "text/plain": [
       "<Figure size 432x288 with 1 Axes>"
      ]
     },
     "metadata": {
      "needs_background": "light"
     },
     "output_type": "display_data"
    }
   ],
   "source": [
    "unique, counts = np.unique([x[1] for x in features], return_counts=True)\n",
    "plt.plot(unique[1:-1], counts[1:-1])\n",
    "plt.xlabel(\"tweet count\")\n",
    "plt.ylabel(\"frequency\")"
   ]
  },
  {
   "cell_type": "code",
   "execution_count": 20,
   "id": "ccb34f62",
   "metadata": {},
   "outputs": [
    {
     "data": {
      "text/plain": [
       "array([140372,  21261], dtype=int64)"
      ]
     },
     "execution_count": 20,
     "metadata": {},
     "output_type": "execute_result"
    }
   ],
   "source": [
    "unique, counts = np.unique([x[2] for x in features], return_counts=True)\n",
    "counts\n",
    "\n",
    "#qmarks"
   ]
  },
  {
   "cell_type": "code",
   "execution_count": 21,
   "id": "1e4bae7a",
   "metadata": {},
   "outputs": [
    {
     "data": {
      "text/plain": [
       "array([144719,  16806,    108], dtype=int64)"
      ]
     },
     "execution_count": 21,
     "metadata": {},
     "output_type": "execute_result"
    }
   ],
   "source": [
    "unique, counts = np.unique([x[3] for x in features], return_counts=True)\n",
    "counts\n",
    "\n",
    "#verified "
   ]
  },
  {
   "cell_type": "code",
   "execution_count": 22,
   "id": "0b70212f",
   "metadata": {},
   "outputs": [
    {
     "data": {
      "text/plain": [
       "Text(0, 0.5, 'frequency')"
      ]
     },
     "execution_count": 22,
     "metadata": {},
     "output_type": "execute_result"
    },
    {
     "data": {
      "image/png": "[encoded data removed]",
      "text/plain": [
       "<Figure size 432x288 with 1 Axes>"
      ]
     },
     "metadata": {
      "needs_background": "light"
     },
     "output_type": "display_data"
    }
   ],
   "source": [
    "unique, counts = np.unique([x[4] for x in features], return_counts=True)\n",
    "plt.plot(unique, counts)\n",
    "plt.xlabel(\"account life\")\n",
    "plt.ylabel(\"frequency\")"
   ]
  },
  {
   "cell_type": "code",
   "execution_count": 23,
   "id": "0d2baaf9",
   "metadata": {},
   "outputs": [
    {
     "data": {
      "text/plain": [
       "Text(0, 0.5, 'frequency')"
      ]
     },
     "execution_count": 23,
     "metadata": {},
     "output_type": "execute_result"
    },
    {
     "data": {
      "image/png": "[encoded data removed]",
      "text/plain": [
       "<Figure size 432x288 with 1 Axes>"
      ]
     },
     "metadata": {
      "needs_background": "light"
     },
     "output_type": "display_data"
    }
   ],
   "source": [
    "unique, counts = np.unique([x[5] for x in features], return_counts=True)\n",
    "plt.plot(unique[:-1], counts[:-1])\n",
    "plt.xlabel(\"ratio\")\n",
    "plt.ylabel(\"frequency\")"
   ]
  },
  {
   "cell_type": "code",
   "execution_count": 24,
   "id": "79b5c892",
   "metadata": {},
   "outputs": [
    {
     "data": {
      "text/plain": [
       "array([135950,  25683], dtype=int64)"
      ]
     },
     "execution_count": 24,
     "metadata": {},
     "output_type": "execute_result"
    }
   ],
   "source": [
    "unique, counts = np.unique([x[6] for x in features], return_counts=True)\n",
    "counts\n",
    "\n",
    "#exclamation points "
   ]
  },
  {
   "cell_type": "code",
   "execution_count": 25,
   "id": "c3157457",
   "metadata": {},
   "outputs": [
    {
     "data": {
      "text/plain": [
       "Text(0, 0.5, 'frequency')"
      ]
     },
     "execution_count": 25,
     "metadata": {},
     "output_type": "execute_result"
    },
    {
     "data": {
      "image/png": "[encoded data removed]",
      "text/plain": [
       "<Figure size 432x288 with 1 Axes>"
      ]
     },
     "metadata": {
      "needs_background": "light"
     },
     "output_type": "display_data"
    }
   ],
   "source": [
    "unique, counts = np.unique([x[7] for x in features], return_counts=True)\n",
    "plt.plot(unique, counts)\n",
    "plt.xlabel(\"capital letter ratio\")\n",
    "plt.xlim(0,1)\n",
    "plt.ylabel(\"frequency\")"
   ]
  },
  {
   "cell_type": "code",
   "execution_count": 26,
   "id": "7c8e08f0",
   "metadata": {},
   "outputs": [
    {
     "data": {
      "text/plain": [
       "Text(0, 0.5, 'frequency')"
      ]
     },
     "execution_count": 26,
     "metadata": {},
     "output_type": "execute_result"
    },
    {
     "data": {
      "image/png": "[encoded data removed]",
      "text/plain": [
       "<Figure size 432x288 with 1 Axes>"
      ]
     },
     "metadata": {
      "needs_background": "light"
     },
     "output_type": "display_data"
    }
   ],
   "source": [
    "unique, counts = np.unique([x[8] for x in features], return_counts=True)\n",
    "plt.plot(unique, counts)\n",
    "plt.xlabel(\"retweet_count\")\n",
    "plt.ylabel(\"frequency\")"
   ]
  },
  {
   "cell_type": "code",
   "execution_count": 27,
   "id": "825fda36",
   "metadata": {},
   "outputs": [
    {
     "data": {
      "text/plain": [
       "array([ 38922, 122711], dtype=int64)"
      ]
     },
     "execution_count": 27,
     "metadata": {},
     "output_type": "execute_result"
    }
   ],
   "source": [
    "unique, counts = np.unique([x[9] for x in features], return_counts=True)\n",
    "counts\n",
    "\n",
    "#hashtags"
   ]
  },
  {
   "cell_type": "code",
   "execution_count": 28,
   "id": "f344e529",
   "metadata": {},
   "outputs": [
    {
     "data": {
      "text/plain": [
       "Text(0, 0.5, 'frequency')"
      ]
     },
     "execution_count": 28,
     "metadata": {},
     "output_type": "execute_result"
    },
    {
     "data": {
      "image/png": "[encoded data removed]",
      "text/plain": [
       "<Figure size 432x288 with 1 Axes>"
      ]
     },
     "metadata": {
      "needs_background": "light"
     },
     "output_type": "display_data"
    }
   ],
   "source": [
    "unique, counts = np.unique([x[10] for x in features], return_counts=True)\n",
    "plt.plot(unique[1:], counts[1:])\n",
    "plt.xlabel(\"following count\")\n",
    "plt.ylabel(\"frequency\")"
   ]
  },
  {
   "cell_type": "code",
   "execution_count": 29,
   "id": "f2fa884b",
   "metadata": {},
   "outputs": [
    {
     "data": {
      "text/plain": [
       "Text(0, 0.5, 'frequency')"
      ]
     },
     "execution_count": 29,
     "metadata": {},
     "output_type": "execute_result"
    },
    {
     "data": {
      "image/png": "[encoded data removed]",
      "text/plain": [
       "<Figure size 432x288 with 1 Axes>"
      ]
     },
     "metadata": {
      "needs_background": "light"
     },
     "output_type": "display_data"
    }
   ],
   "source": [
    "unique, counts = np.unique([x[11] for x in features], return_counts=True)\n",
    "plt.plot(unique, counts)\n",
    "plt.xlabel(\"text length\")\n",
    "plt.ylabel(\"frequency\")"
   ]
  },
  {
   "cell_type": "code",
   "execution_count": 30,
   "id": "85bc66b3",
   "metadata": {},
   "outputs": [
    {
     "data": {
      "text/plain": [
       "Text(0, 0.5, 'frequency')"
      ]
     },
     "execution_count": 30,
     "metadata": {},
     "output_type": "execute_result"
    },
    {
     "data": {
      "image/png": "[encoded data removed]",
      "text/plain": [
       "<Figure size 432x288 with 1 Axes>"
      ]
     },
     "metadata": {
      "needs_background": "light"
     },
     "output_type": "display_data"
    }
   ],
   "source": [
    "unique, counts = np.unique([x[12] for x in features], return_counts=True)\n",
    "plt.plot(unique[1:], counts[1:])\n",
    "plt.xlabel(\"listed count\")\n",
    "plt.ylabel(\"frequency\")"
   ]
  },
  {
   "cell_type": "code",
   "execution_count": 31,
   "id": "561b41e9",
   "metadata": {},
   "outputs": [
    {
     "data": {
      "text/plain": [
       "array([146892,  14741], dtype=int64)"
      ]
     },
     "execution_count": 31,
     "metadata": {},
     "output_type": "execute_result"
    }
   ],
   "source": [
    "unique, counts = np.unique([x[13] for x in features], return_counts=True)\n",
    "counts\n",
    "\n",
    "#emoticons"
   ]
  },
  {
   "cell_type": "code",
   "execution_count": 32,
   "id": "06ace3c5",
   "metadata": {},
   "outputs": [
    {
     "data": {
      "text/plain": [
       "Text(0, 0.5, 'frequency')"
      ]
     },
     "execution_count": 32,
     "metadata": {},
     "output_type": "execute_result"
    },
    {
     "data": {
      "image/png": "[encoded data removed]",
      "text/plain": [
       "<Figure size 432x288 with 1 Axes>"
      ]
     },
     "metadata": {
      "needs_background": "light"
     },
     "output_type": "display_data"
    }
   ],
   "source": [
    "unique, counts = np.unique([x[14] for x in features], return_counts=True)\n",
    "plt.plot(unique, counts)\n",
    "plt.xlabel(\"reply count\")\n",
    "plt.ylabel(\"frequency\")"
   ]
  },
  {
   "cell_type": "code",
   "execution_count": null,
   "id": "0ae4d167",
   "metadata": {},
   "outputs": [],
   "source": []
  },
  {
   "cell_type": "code",
   "execution_count": 33,
   "id": "0b139445",
   "metadata": {},
   "outputs": [
    {
     "data": {
      "text/plain": [
       "array([156390,   3845,    481,    433,    484], dtype=int64)"
      ]
     },
     "execution_count": 33,
     "metadata": {},
     "output_type": "execute_result"
    }
   ],
   "source": [
    "unique, counts = np.unique([x[15] for x in features], return_counts=True)\n",
    "counts\n",
    "\n",
    "#quote count "
   ]
  },
  {
   "cell_type": "code",
   "execution_count": 34,
   "id": "078f283f",
   "metadata": {},
   "outputs": [
    {
     "data": {
      "text/plain": [
       "Text(0, 0.5, 'frequency')"
      ]
     },
     "execution_count": 34,
     "metadata": {},
     "output_type": "execute_result"
    },
    {
     "data": {
      "image/png": "[encoded data removed]",
      "text/plain": [
       "<Figure size 432x288 with 1 Axes>"
      ]
     },
     "metadata": {
      "needs_background": "light"
     },
     "output_type": "display_data"
    }
   ],
   "source": [
    "unique, counts = np.unique([x[16] for x in features], return_counts=True)\n",
    "plt.plot(unique, counts)\n",
    "plt.xlabel(\"like count\")\n",
    "plt.ylabel(\"frequency\")"
   ]
  },
  {
   "cell_type": "code",
   "execution_count": 35,
   "id": "66980735",
   "metadata": {},
   "outputs": [
    {
     "data": {
      "text/plain": [
       "Text(0, 0.5, 'frequency')"
      ]
     },
     "execution_count": 35,
     "metadata": {},
     "output_type": "execute_result"
    },
    {
     "data": {
      "image/png": "[encoded data removed]",
      "text/plain": [
       "<Figure size 432x288 with 1 Axes>"
      ]
     },
     "metadata": {
      "needs_background": "light"
     },
     "output_type": "display_data"
    }
   ],
   "source": [
    "unique, counts = np.unique([x[17] for x in features], return_counts=True)\n",
    "counts\n",
    "\n",
    "plt.plot(unique[:-1], counts[:-1])\n",
    "plt.xlabel(\"time after posting\")\n",
    "plt.ylabel(\"frequency\")\n",
    "\n",
    "#time after posting "
   ]
  },
  {
   "cell_type": "code",
   "execution_count": 36,
   "id": "8f633f5d",
   "metadata": {},
   "outputs": [
    {
     "name": "stderr",
     "output_type": "stream",
     "text": [
      "C:\\Users\\nickv\\AppData\\Roaming\\Python\\Python37\\site-packages\\numpy\\core\\_asarray.py:171: VisibleDeprecationWarning: Creating an ndarray from ragged nested sequences (which is a list-or-tuple of lists-or-tuples-or ndarrays with different lengths or shapes) is deprecated. If you meant to do this, you must specify 'dtype=object' when creating the ndarray.\n",
      "  return array(a, dtype, copy=False, order=order, subok=True)\n"
     ]
    },
    {
     "data": {
      "text/plain": [
       "array([ 487,  458,  482,  447,  492,  489,  468,  481,  437,  443,  481,\n",
       "        485,  460,  492,  470,  491,  487,  480,  484,  487,  485,  491,\n",
       "        473,  492,  450,  477,  488,  487,  496,  498,  441,  498,  490,\n",
       "        495,  452,  487,  475,  467,  438,  460,  464,  489,  486,  493,\n",
       "        479,  494,  487,  479,  433,  460,  490,  488,  475,  486,  492,\n",
       "        495,  492,  491,  495,  495,  493,  489,  459,  486,  445,  474,\n",
       "        475,  495,  460,  478,  476,  432,  489,  491,  469,  485,  479,\n",
       "        455,  449,  478,  496,  480,  496,  492,  479,  486,  428,  487,\n",
       "        486,  447,  491,  490,  478,  409,  489,  481,  489,  492,  488,\n",
       "        488,  444,  479,  480,  495,  475,  497,  476,  491,  457,  494,\n",
       "        446,  481,  466,  495,  456,  460,  482,  437,  487,  432,  472,\n",
       "        443,  479,  416,  949,  486,  483,  499,  498,  489,  496,  483,\n",
       "        490,  481,  500,  480,  977,  497,  490,  484,  407,  497,  494,\n",
       "        488,  499,  494,  879,  485,  481,  486,  440,  459,  487,  464,\n",
       "        448,  492,  491,  467,  448,  452,  447,  458,  482,  466,  499,\n",
       "        455,  464,  480,  494,  487,  456,  441,  485,  496,  492,  500,\n",
       "        429,  491,  433,  494,  499,  497,  491,  492,  464,  443,  451,\n",
       "        494,  482,  487,  489,  439,  487,  490,  477,  487,  473,  489,\n",
       "        494,  468,  482,  447,  455,  474,  498, 1488,  484,  460,  446,\n",
       "        484, 1442,  454,  468,  910,  462,  491,  447,  479,  442,  495,\n",
       "        453,  455,  471,  898,  473,  477,  444,  487,  496,  449,  970,\n",
       "        440,  486,  915,  447,  479,  490,  488,  910,  493,  449,  484,\n",
       "        491,  494,  478,  497,  486,  480,  499,  447,  488,  486,  496,\n",
       "        493,  481,  486,  472,  465,  454,  496,  474,  439,  482,  482,\n",
       "        486,  475,  492,  494,  485,  484, 2885,  899,  463,  480,  482,\n",
       "        480,  490,  480,  449,  970,  497,  487,  488,  968,  898,  461,\n",
       "        484,  467,  885, 1778,  484,  486,  969,  478,  490,  477,  481,\n",
       "        484,  448,  477,  481,  494,  483,  486,  489,  484,  463,  491,\n",
       "        492,  497,  482,  486,  456,  485], dtype=int64)"
      ]
     },
     "execution_count": 36,
     "metadata": {},
     "output_type": "execute_result"
    }
   ],
   "source": [
    "unique, counts = np.unique([x[18] for x in features], return_counts=True)\n",
    "counts\n",
    "\n",
    "#pos tags"
   ]
  },
  {
   "cell_type": "code",
   "execution_count": 37,
   "id": "6985f2fd",
   "metadata": {},
   "outputs": [
    {
     "data": {
      "text/plain": [
       "array([53,  8, 13, ...,  5,  1,  2], dtype=int64)"
      ]
     },
     "execution_count": 37,
     "metadata": {},
     "output_type": "execute_result"
    }
   ],
   "source": [
    "unique, counts = np.unique([x[19] for x in features], return_counts=True)\n",
    "counts\n",
    "\n",
    "#activity"
   ]
  },
  {
   "cell_type": "code",
   "execution_count": 38,
   "id": "85011e51",
   "metadata": {},
   "outputs": [
    {
     "data": {
      "text/plain": [
       "array([144719,  16914], dtype=int64)"
      ]
     },
     "execution_count": 38,
     "metadata": {},
     "output_type": "execute_result"
    }
   ],
   "source": [
    "unique, counts = np.unique([x[20] for x in features], return_counts=True)\n",
    "counts\n",
    "\n",
    "#has profile pic "
   ]
  },
  {
   "cell_type": "code",
   "execution_count": 39,
   "id": "fb21ccbf",
   "metadata": {},
   "outputs": [
    {
     "name": "stdout",
     "output_type": "stream",
     "text": [
      "[1]\n",
      "[161633]\n"
     ]
    }
   ],
   "source": [
    "unique, counts = np.unique([x[21] for x in features], return_counts=True)\n",
    "print(unique)\n",
    "print(counts)\n",
    "\n",
    "#fpp"
   ]
  },
  {
   "cell_type": "code",
   "execution_count": 40,
   "id": "ada32981",
   "metadata": {},
   "outputs": [
    {
     "data": {
      "text/plain": [
       "array([160672,    961], dtype=int64)"
      ]
     },
     "execution_count": 40,
     "metadata": {},
     "output_type": "execute_result"
    }
   ],
   "source": [
    "unique, counts = np.unique([x[22] for x in features], return_counts=True)\n",
    "counts\n",
    "\n",
    "#possibly sensitive"
   ]
  },
  {
   "cell_type": "code",
   "execution_count": null,
   "id": "119ed36f",
   "metadata": {},
   "outputs": [],
   "source": []
  },
  {
   "cell_type": "code",
   "execution_count": 41,
   "id": "554a9117",
   "metadata": {},
   "outputs": [
    {
     "data": {
      "text/plain": [
       "161633"
      ]
     },
     "execution_count": 41,
     "metadata": {},
     "output_type": "execute_result"
    }
   ],
   "source": [
    "len([x[0] for x in features])"
   ]
  },
  {
   "cell_type": "code",
   "execution_count": 42,
   "id": "55d96e9c",
   "metadata": {},
   "outputs": [
    {
     "data": {
      "image/png": "[encoded data removed]",
      "text/plain": [
       "<Figure size 432x288 with 1 Axes>"
      ]
     },
     "metadata": {},
     "output_type": "display_data"
    }
   ],
   "source": [
    "kmeans_kwargs = {\n",
    "    \"init\": \"random\",\n",
    "    \"n_init\": 10,\n",
    "    \"max_iter\": 300,\n",
    "    \"random_state\": 42,\n",
    "}\n",
    "\n",
    "sse = []\n",
    "for k in range(1, 11):\n",
    "    kmeans = KMeans(n_clusters=k, **kmeans_kwargs )\n",
    "    kmeans.fit([x[0:17] for x in features])\n",
    "    sse.append(kmeans.inertia_)\n",
    "    \n",
    "plt.style.use(\"fivethirtyeight\")\n",
    "plt.plot(range(1, 11), sse)\n",
    "plt.xticks(range(1, 11))\n",
    "plt.xlabel(\"Number of Clusters\")\n",
    "plt.ylabel(\"SSE\")\n",
    "plt.show()"
   ]
  },
  {
   "cell_type": "code",
   "execution_count": 43,
   "id": "15b5b0f2",
   "metadata": {},
   "outputs": [],
   "source": [
    "kmeans_kwargs = {\n",
    "    \"init\": \"random\",\n",
    "    \"n_init\": 10,\n",
    "    \"max_iter\": 300,\n",
    "    \"random_state\": 42,\n",
    "}\n",
    "\n",
    "scaled_features = [x[0:17] for x in features]\n",
    "\n",
    "kmeans = KMeans(n_clusters=3, **kmeans_kwargs )\n",
    "labels = kmeans.fit_predict(scaled_features)"
   ]
  },
  {
   "cell_type": "code",
   "execution_count": 44,
   "id": "9c2af927",
   "metadata": {},
   "outputs": [
    {
     "data": {
      "text/plain": [
       "31667"
      ]
     },
     "execution_count": 44,
     "metadata": {},
     "output_type": "execute_result"
    }
   ],
   "source": [
    "np.count_nonzero(labels == 1)"
   ]
  },
  {
   "cell_type": "code",
   "execution_count": 45,
   "id": "d9e69587",
   "metadata": {},
   "outputs": [
    {
     "data": {
      "text/plain": [
       "83432"
      ]
     },
     "execution_count": 45,
     "metadata": {},
     "output_type": "execute_result"
    }
   ],
   "source": [
    "np.count_nonzero(labels == 2)"
   ]
  },
  {
   "cell_type": "code",
   "execution_count": 46,
   "id": "0a6b9aa3",
   "metadata": {},
   "outputs": [
    {
     "data": {
      "text/plain": [
       "46534"
      ]
     },
     "execution_count": 46,
     "metadata": {},
     "output_type": "execute_result"
    }
   ],
   "source": [
    "np.count_nonzero(labels == 0)"
   ]
  },
  {
   "cell_type": "code",
   "execution_count": 47,
   "id": "a23cdd0b",
   "metadata": {},
   "outputs": [
    {
     "data": {
      "text/plain": [
       "161633"
      ]
     },
     "execution_count": 47,
     "metadata": {},
     "output_type": "execute_result"
    }
   ],
   "source": [
    "len(labels)"
   ]
  },
  {
   "cell_type": "code",
   "execution_count": 48,
   "id": "ea545ec6",
   "metadata": {},
   "outputs": [
    {
     "data": {
      "text/plain": [
       "Text(0, 0.5, 'Tweets')"
      ]
     },
     "execution_count": 48,
     "metadata": {},
     "output_type": "execute_result"
    },
    {
     "data": {
      "image/png": "[encoded data removed]",
      "text/plain": [
       "<Figure size 432x288 with 1 Axes>"
      ]
     },
     "metadata": {},
     "output_type": "display_data"
    }
   ],
   "source": [
    "plt.style.use(\"fivethirtyeight\")\n",
    "plt.bar([0,1,2], [46534,31667,83432])\n",
    "plt.xticks([0,1,2])\n",
    "plt.xlabel(\"Cluster\")\n",
    "plt.ylabel(\"Tweets\")"
   ]
  },
  {
   "cell_type": "code",
   "execution_count": 49,
   "id": "527ae647",
   "metadata": {},
   "outputs": [],
   "source": [
    "kmeans_kwargs = {\n",
    "    \"init\": \"random\",\n",
    "    \"n_init\": 10,\n",
    "    \"max_iter\": 300,\n",
    "    \"random_state\": 42,\n",
    "}\n",
    "\n",
    "scaled_features = [x[0:17] for x in features]\n",
    "\n",
    "kmeans = KMeans(n_clusters=2, **kmeans_kwargs )\n",
    "labels = kmeans.fit_predict(scaled_features)\n"
   ]
  },
  {
   "cell_type": "code",
   "execution_count": 50,
   "id": "4b9a5da5",
   "metadata": {},
   "outputs": [
    {
     "data": {
      "text/plain": [
       "Text(0.5, 1.0, '#jinek')"
      ]
     },
     "execution_count": 50,
     "metadata": {},
     "output_type": "execute_result"
    },
    {
     "data": {
      "image/png": "[encoded data removed]",
      "text/plain": [
       "<Figure size 432x288 with 1 Axes>"
      ]
     },
     "metadata": {},
     "output_type": "display_data"
    }
   ],
   "source": [
    "plt.style.use(\"fivethirtyeight\")\n",
    "zeros = np.count_nonzero(labels == 0)\n",
    "ones = np.count_nonzero(labels == 1)\n",
    "plt.bar([0,1], [zeros,ones])\n",
    "plt.xticks([0,1])\n",
    "plt.xlabel(\"Cluster\")\n",
    "plt.ylabel(\"Tweets\")\n",
    "plt.title(\"#jinek\")"
   ]
  },
  {
   "cell_type": "code",
   "execution_count": 51,
   "id": "7d89063c",
   "metadata": {},
   "outputs": [],
   "source": [
    "import html\n",
    "import re\n",
    "from nltk.stem import WordNetLemmatizer\n",
    "def function_clean_tweet(text):\n",
    "    # Escaping HTML characters\n",
    "    text = html.unescape(text)\n",
    "    text = str(text)\n",
    "    # Removal of URLs (three-parter because the word tokenizer splits URLs like that)\n",
    "    text = re.sub(\"https\", \"\", text)\n",
    "    text = re.sub(\":\", \"\", text)\n",
    "    text = re.sub(\"//[^\\s]*\", \"\", text)\n",
    "    # Removal of mentions\n",
    "    text = re.sub(\"@[^\\s]*\", \"\", text)\n",
    "    # Removal of hashtags\n",
    "    text = re.sub(\"#[^\\s]*\", \"\", text)\n",
    "    # Convert to lowercase\n",
    "    text = text.lower()\n",
    "    lemmatizer = WordNetLemmatizer()\n",
    "    return \" \".join([lemmatizer.lemmatize(word) for word in text.split()])"
   ]
  },
  {
   "cell_type": "code",
   "execution_count": 52,
   "id": "d152fce9",
   "metadata": {},
   "outputs": [
    {
     "name": "stderr",
     "output_type": "stream",
     "text": [
      "[nltk_data] Downloading package punkt to\n",
      "[nltk_data]     C:\\Users\\nickv\\AppData\\Roaming\\nltk_data...\n",
      "[nltk_data]   Package punkt is already up-to-date!\n"
     ]
    },
    {
     "name": "stdout",
     "output_type": "stream",
     "text": [
      "Topics found via LDA:\n",
      "\n",
      "Topic #0:\n",
      "rt weer gaat mensen staat zullen nooit mag boosterprik tafel waar alleen weet mee kaag net eelcohoecke europa oorlog kijken\n",
      "\n",
      "Topic #1:\n",
      "rt keer man zit uitzending thierrybaudet gaat hansvantelling alle gommers krijgen echt rutte terug nl gisteren duinen kust grondrechten keuze\n",
      "\n",
      "Topic #2:\n",
      "rt martijn koning man baudet eelcohoecke heel zegt no zit naast nee minpres gewoon zei go kinderen optreden steed eva\n",
      "\n",
      "Topic #3:\n",
      "rt zorg eelcohoecke rutte baudet zit rblommestijn thierrybaudet levi gedaan jarenlang druk afbraakbeleid schuld ongevaccinee onterecht echt net deel wel\n",
      "\n",
      "Topic #4:\n",
      "rt eelcohoecke mensen hoge omtzigt wel thierrybaudet gaan kuiper op1npo waar zegt weer den haag da marcelbar8 d66 zit echt\n"
     ]
    }
   ],
   "source": [
    "import nltk\n",
    "nltk.download('punkt')\n",
    "from nltk.corpus import stopwords\n",
    "from nltk.tokenize import word_tokenize\n",
    "from sklearn.feature_extraction.text import CountVectorizer\n",
    "from sklearn.decomposition import LatentDirichletAllocation as LDA\n",
    " \n",
    "stop_words = set(stopwords.words('dutch'))\n",
    "stop_words.add(\"jinek\")\n",
    "stop_words.add(\"jinek_rtl\")\n",
    "stop_words.add(\"we\")\n",
    "stop_words.add(\"op1\")\n",
    "stop_words.add(\"rtl\")\n",
    "\n",
    "tweet_texts = [x[0][\"text\"] for x in data2]\n",
    "\n",
    "word_tokens = [word_tokenize(text, preserve_line=False) for text in tweet_texts]\n",
    " \n",
    "filtered_sentences = [[w for w in tweet if not w.lower() in stop_words] for tweet in word_tokens]\n",
    "\n",
    "all_words = [' '.join([x for x in f]) for f in filtered_sentences]\n",
    "all_words = [function_clean_tweet([text]) for text in all_words]\n",
    "\n",
    "count_vectorizer = CountVectorizer(stop_words=stop_words)\n",
    "count_data = count_vectorizer.fit_transform(all_words)\n",
    "\n",
    "lda = LDA(n_components=5, n_jobs=-1)\n",
    "lda.fit(count_data)\n",
    "\n",
    "print(\"Topics found via LDA:\")\n",
    "def print_topics(model, count_vectorizer, n_top_words):\n",
    "    words = count_vectorizer.get_feature_names()\n",
    "    for topic_idx, topic in enumerate(model.components_):\n",
    "        print(\"\\nTopic #%d:\" % topic_idx)\n",
    "        print(\" \".join([words[i]\n",
    "                        for i in topic.argsort()[:-n_top_words - 1:-1]]))\n",
    "print_topics(lda, count_vectorizer, 20)"
   ]
  },
  {
   "cell_type": "code",
   "execution_count": 53,
   "id": "414c320c",
   "metadata": {},
   "outputs": [
    {
     "ename": "ModuleNotFoundError",
     "evalue": "No module named 'pyLDAvis.sklearnffu'",
     "output_type": "error",
     "traceback": [
      "\u001b[1;31m---------------------------------------------------------------------------\u001b[0m",
      "\u001b[1;31mModuleNotFoundError\u001b[0m                       Traceback (most recent call last)",
      "\u001b[1;32m~\\AppData\\Local\\Temp/ipykernel_4944/2823236727.py\u001b[0m in \u001b[0;36m<module>\u001b[1;34m\u001b[0m\n\u001b[0;32m      1\u001b[0m \u001b[1;32mimport\u001b[0m \u001b[0mpyLDAvis\u001b[0m\u001b[1;33m\u001b[0m\u001b[1;33m\u001b[0m\u001b[0m\n\u001b[0;32m      2\u001b[0m \u001b[1;32mimport\u001b[0m \u001b[0msklearn\u001b[0m\u001b[1;33m\u001b[0m\u001b[1;33m\u001b[0m\u001b[0m\n\u001b[1;32m----> 3\u001b[1;33m \u001b[1;32mimport\u001b[0m \u001b[0mpyLDAvis\u001b[0m\u001b[1;33m.\u001b[0m\u001b[0msklearnffu\u001b[0m\u001b[1;33m\u001b[0m\u001b[1;33m\u001b[0m\u001b[0m\n\u001b[0m\u001b[0;32m      4\u001b[0m \u001b[1;31m#help(pyLDAvis)\u001b[0m\u001b[1;33m\u001b[0m\u001b[1;33m\u001b[0m\u001b[1;33m\u001b[0m\u001b[0m\n\u001b[0;32m      5\u001b[0m \u001b[1;33m\u001b[0m\u001b[0m\n",
      "\u001b[1;31mModuleNotFoundError\u001b[0m: No module named 'pyLDAvis.sklearnffu'"
     ]
    }
   ],
   "source": [
    "# import pyLDAvis\n",
    "# import sklearn\n",
    "# import pyLDAvis.sklearnffu\n",
    "# #help(pyLDAvis)\n",
    "\n",
    "# pyLDAvis.enable_notebook()\n",
    "# pyLDAvis.sklearn.prepare(lda, count_data, count_vectorizer)"
   ]
  },
  {
   "cell_type": "code",
   "execution_count": null,
   "id": "7abfb435",
   "metadata": {},
   "outputs": [],
   "source": []
  },
  {
   "cell_type": "code",
   "execution_count": null,
   "id": "008df1b0",
   "metadata": {},
   "outputs": [],
   "source": []
  },
  {
   "cell_type": "code",
   "execution_count": null,
   "id": "05260fd6",
   "metadata": {},
   "outputs": [],
   "source": []
  },
  {
   "cell_type": "code",
   "execution_count": null,
   "id": "a8e3327b",
   "metadata": {},
   "outputs": [],
   "source": []
  },
  {
   "cell_type": "code",
   "execution_count": null,
   "id": "579fd1ae",
   "metadata": {},
   "outputs": [],
   "source": []
  },
  {
   "cell_type": "code",
   "execution_count": null,
   "id": "aac1921b",
   "metadata": {},
   "outputs": [],
   "source": []
  },
  {
   "cell_type": "code",
   "execution_count": null,
   "id": "0ceec37b",
   "metadata": {},
   "outputs": [],
   "source": []
  },
  {
   "cell_type": "code",
   "execution_count": null,
   "id": "2e86b278",
   "metadata": {},
   "outputs": [],
   "source": []
  },
  {
   "cell_type": "code",
   "execution_count": 19,
   "id": "afd689d6",
   "metadata": {},
   "outputs": [
    {
     "ename": "NameError",
     "evalue": "name 'data' is not defined",
     "output_type": "error",
     "traceback": [
      "\u001b[0;31m---------------------------------------------------------------------------\u001b[0m",
      "\u001b[0;31mNameError\u001b[0m                                 Traceback (most recent call last)",
      "Input \u001b[0;32mIn [19]\u001b[0m, in \u001b[0;36m<cell line: 5>\u001b[0;34m()\u001b[0m\n\u001b[1;32m      2\u001b[0m \u001b[38;5;66;03m#text = data2[x][0][\"text\"]\u001b[39;00m\n\u001b[1;32m      4\u001b[0m features \u001b[38;5;241m=\u001b[39m []\n\u001b[0;32m----> 5\u001b[0m \u001b[38;5;28;01mfor\u001b[39;00m x \u001b[38;5;129;01min\u001b[39;00m \u001b[38;5;28mrange\u001b[39m(\u001b[38;5;241m0\u001b[39m,\u001b[38;5;28mlen\u001b[39m(\u001b[43mdata\u001b[49m)):\n\u001b[1;32m      6\u001b[0m     temp \u001b[38;5;241m=\u001b[39m []\n\u001b[1;32m      7\u001b[0m     \u001b[38;5;28;01mif\u001b[39;00m data[x][\u001b[38;5;241m1\u001b[39m] \u001b[38;5;241m!=\u001b[39m []:\n",
      "\u001b[0;31mNameError\u001b[0m: name 'data' is not defined"
     ]
    }
   ],
   "source": [
    "import time \n",
    "#text = data2[x][0][\"text\"]\n",
    "\n",
    "features = []\n",
    "for x in range(0,len(data)):\n",
    "    temp = []\n",
    "    if data[x][1] != []:\n",
    "        followers_count = data[x][1][0][\"public_metrics\"][\"followers_count\"]\n",
    "        temp.append(followers_count)\n",
    "    else:\n",
    "        temp.append(None)\n",
    "\n",
    "    tweetcount = -1 \n",
    "    if data[x][1] != []:        \n",
    "        tweetcount = data[x][1][0][\"public_metrics\"][\"tweet_count\"]\n",
    "        temp.append(tweetcount)\n",
    "    else:\n",
    "        temp.append(None)\n",
    "\n",
    "    qmarks = \"?\" in data[x][0][\"text\"]\n",
    "    temp.append(int(qmarks))\n",
    "\n",
    "    if data[x][1] != []:\n",
    "        verified = data[x][1][0][\"verified\"]\n",
    "        temp.append(int(verified))    \n",
    "    else:\n",
    "        temp.append(None)\n",
    "        \n",
    "    accountlife = time.mktime(time.localtime()) - time.mktime(time.strptime(data[x][0][\"created_at\"], \"%Y-%m-%dT%H:%M:%S.000Z\"))\n",
    "    temp.append(accountlife)\n",
    "\n",
    "    if data[x][1] != []:    \n",
    "        ratio = (data[x][1][0][\"public_metrics\"][\"followers_count\"]+1)/(data[x][1][0][\"public_metrics\"][\"following_count\"]+2)\n",
    "        temp.append(ratio)\n",
    "    else:\n",
    "        temp.append(None)\n",
    "        \n",
    "    emark = \"!\" in data[x][0][\"text\"]\n",
    "    temp.append(int(emark))\n",
    "\n",
    "    capitalletters = sum(1 for c in data[x][0][\"text\"] if c.isupper())/sum(1 for c in data[x][0])\n",
    "    temp.append(capitalletters)\n",
    "\n",
    "    retweet_count = data[x][0][\"public_metrics\"][\"retweet_count\"]\n",
    "    temp.append(retweet_count)\n",
    "    \n",
    "    hashtags = \"#\" in data[x][0][\"text\"]\n",
    "    temp.append(int(hashtags))\n",
    "    \n",
    "    if data[x][1] != []:\n",
    "        following = data[x][1][0][\"public_metrics\"][\"following_count\"]\n",
    "        temp.append(following)\n",
    "    else:\n",
    "        temp.append(None)\n",
    "\n",
    "    text_length = len(data[x][0][\"text\"])\n",
    "    temp.append(text_length)\n",
    "    \n",
    "    if data[x][1] != []:    \n",
    "        listed_count = data[x][1][0][\"public_metrics\"][\"listed_count\"]\n",
    "        temp.append(listed_count)\n",
    "    else:\n",
    "        temp.append(None)\n",
    "\n",
    "    emoticons = True in [s in UNICODE_EMOJI['en'] for s in data[x][0][\"text\"]]\n",
    "    temp.append(int(emoticons))\n",
    "    \n",
    "    reply_count = data[x][0][\"public_metrics\"][\"reply_count\"]\n",
    "    temp.append(reply_count)\n",
    "    \n",
    "    quote_count = data[x][0][\"public_metrics\"][\"quote_count\"]\n",
    "    temp.append(quote_count)\n",
    "    \n",
    "    like_count = data[x][0][\"public_metrics\"][\"like_count\"]\n",
    "    temp.append(like_count)\n",
    "    \n",
    "    if data[x][1] != []:\n",
    "        timeafterposting = time.mktime(time.strptime(data[x][1][0][\"created_at\"],\"%Y-%m-%dT%H:%M:%S.000Z\")) - time.mktime(time.strptime(data[x][0][\"created_at\"],\"%Y-%m-%dT%H:%M:%S.000Z\"))\n",
    "        temp.append(timeafterposting)\n",
    "    else:\n",
    "        temp.append(None)\n",
    "\n",
    "    pos_tags = nltk.pos_tag(nltk.word_tokenize(data[x][0][\"text\"]))\n",
    "    temp.append(pos_tags)\n",
    "    \n",
    "    activity = tweetcount/accountlife\n",
    "    temp.append(activity)\n",
    "\n",
    "    if data[x][1] != []:\n",
    "        has_url = \"profile_image_url\" in data[x][1][0]\n",
    "        temp.append(int(has_url))\n",
    "    else:\n",
    "        temp.append(None)\n",
    "        \n",
    "    fpp = True in [i in data[x][0][\"text\"].lower() for i in [\"me\", \"my\", \"i\", \"mine\"]]\n",
    "    temp.append(int(fpp))\n",
    "\n",
    "    nsfw = data[x][0][\"possibly_sensitive\"] \n",
    "    temp.append(int(nsfw))\n",
    "    features.append(temp)"
   ]
  },
  {
   "cell_type": "code",
   "execution_count": 33,
   "id": "a4170afc",
   "metadata": {},
   "outputs": [],
   "source": [
    "np.array(features, dtype=object).shape\n",
    "\n",
    "columns = [\"followers\",\n",
    "          \"tweet_count\",\n",
    "          \"question_marks\",\n",
    "          \"verified\",\n",
    "          \"accountlife\",\n",
    "          \"followers_count\",\n",
    "          \"exclamation_marks\",\n",
    "          \"capital letters\",\n",
    "          \"retweet_count\",\n",
    "          \"hashtags\",\n",
    "          \"following\",\n",
    "          \"text length\",\n",
    "          \"listed_count\",\n",
    "          \"emoticons\",\n",
    "          \"reply_count\",\n",
    "          \"quote_count\",\n",
    "          \"like_count\",\n",
    "          \"time_after_posting\",\n",
    "          \"pos_tags\",\n",
    "          \"activity\",\n",
    "          \"has_url\",\n",
    "          \"has_first_person_pronouns\",\n",
    "          \"possibly_sensitive\"]\n",
    "df = pd.DataFrame(data=features, index=None, columns=columns)"
   ]
  },
  {
   "cell_type": "code",
   "execution_count": 34,
   "id": "cd1ac22c",
   "metadata": {},
   "outputs": [
    {
     "data": {
      "text/html": [
       "<div>\n",
       "<style scoped>\n",
       "    .dataframe tbody tr th:only-of-type {\n",
       "        vertical-align: middle;\n",
       "    }\n",
       "\n",
       "    .dataframe tbody tr th {\n",
       "        vertical-align: top;\n",
       "    }\n",
       "\n",
       "    .dataframe thead th {\n",
       "        text-align: right;\n",
       "    }\n",
       "</style>\n",
       "<table border=\"1\" class=\"dataframe\">\n",
       "  <thead>\n",
       "    <tr style=\"text-align: right;\">\n",
       "      <th></th>\n",
       "      <th>followers</th>\n",
       "      <th>tweet_count</th>\n",
       "      <th>question_marks</th>\n",
       "      <th>verified</th>\n",
       "      <th>accountlife</th>\n",
       "      <th>followers_count</th>\n",
       "      <th>exclamation_marks</th>\n",
       "      <th>capital letters</th>\n",
       "      <th>retweet_count</th>\n",
       "      <th>hashtags</th>\n",
       "      <th>...</th>\n",
       "      <th>emoticons</th>\n",
       "      <th>reply_count</th>\n",
       "      <th>quote_count</th>\n",
       "      <th>like_count</th>\n",
       "      <th>time_after_posting</th>\n",
       "      <th>pos_tags</th>\n",
       "      <th>activity</th>\n",
       "      <th>has_url</th>\n",
       "      <th>has_first_person_pronouns</th>\n",
       "      <th>possibly_sensitive</th>\n",
       "    </tr>\n",
       "  </thead>\n",
       "  <tbody>\n",
       "    <tr>\n",
       "      <th>0</th>\n",
       "      <td>1744</td>\n",
       "      <td>133308</td>\n",
       "      <td>0</td>\n",
       "      <td>0</td>\n",
       "      <td>8531787.0</td>\n",
       "      <td>0.782511</td>\n",
       "      <td>1</td>\n",
       "      <td>0.666667</td>\n",
       "      <td>19</td>\n",
       "      <td>1</td>\n",
       "      <td>...</td>\n",
       "      <td>0</td>\n",
       "      <td>0</td>\n",
       "      <td>0</td>\n",
       "      <td>0</td>\n",
       "      <td>-257208698.0</td>\n",
       "      <td>[(RT, NNP), (@, NNP), (EelcoHoecke, NNP), (:, ...</td>\n",
       "      <td>0.015625</td>\n",
       "      <td>1</td>\n",
       "      <td>1</td>\n",
       "      <td>0</td>\n",
       "    </tr>\n",
       "    <tr>\n",
       "      <th>1</th>\n",
       "      <td>-1</td>\n",
       "      <td>-1</td>\n",
       "      <td>0</td>\n",
       "      <td>-1</td>\n",
       "      <td>8531787.0</td>\n",
       "      <td>999999.000000</td>\n",
       "      <td>1</td>\n",
       "      <td>0.666667</td>\n",
       "      <td>19</td>\n",
       "      <td>1</td>\n",
       "      <td>...</td>\n",
       "      <td>0</td>\n",
       "      <td>0</td>\n",
       "      <td>0</td>\n",
       "      <td>0</td>\n",
       "      <td>999999.0</td>\n",
       "      <td>[(RT, NNP), (@, NNP), (EelcoHoecke, NNP), (:, ...</td>\n",
       "      <td>0.015625</td>\n",
       "      <td>-1</td>\n",
       "      <td>1</td>\n",
       "      <td>0</td>\n",
       "    </tr>\n",
       "    <tr>\n",
       "      <th>2</th>\n",
       "      <td>30</td>\n",
       "      <td>5063</td>\n",
       "      <td>0</td>\n",
       "      <td>0</td>\n",
       "      <td>8531787.0</td>\n",
       "      <td>1.240000</td>\n",
       "      <td>1</td>\n",
       "      <td>0.666667</td>\n",
       "      <td>19</td>\n",
       "      <td>1</td>\n",
       "      <td>...</td>\n",
       "      <td>0</td>\n",
       "      <td>0</td>\n",
       "      <td>0</td>\n",
       "      <td>0</td>\n",
       "      <td>-275062400.0</td>\n",
       "      <td>[(RT, NNP), (@, NNP), (EelcoHoecke, NNP), (:, ...</td>\n",
       "      <td>0.000593</td>\n",
       "      <td>1</td>\n",
       "      <td>1</td>\n",
       "      <td>0</td>\n",
       "    </tr>\n",
       "    <tr>\n",
       "      <th>3</th>\n",
       "      <td>391</td>\n",
       "      <td>714</td>\n",
       "      <td>0</td>\n",
       "      <td>0</td>\n",
       "      <td>8531787.0</td>\n",
       "      <td>0.370861</td>\n",
       "      <td>1</td>\n",
       "      <td>0.666667</td>\n",
       "      <td>19</td>\n",
       "      <td>1</td>\n",
       "      <td>...</td>\n",
       "      <td>0</td>\n",
       "      <td>0</td>\n",
       "      <td>0</td>\n",
       "      <td>0</td>\n",
       "      <td>-6109167.0</td>\n",
       "      <td>[(RT, NNP), (@, NNP), (EelcoHoecke, NNP), (:, ...</td>\n",
       "      <td>0.000084</td>\n",
       "      <td>1</td>\n",
       "      <td>1</td>\n",
       "      <td>0</td>\n",
       "    </tr>\n",
       "    <tr>\n",
       "      <th>4</th>\n",
       "      <td>191</td>\n",
       "      <td>25391</td>\n",
       "      <td>0</td>\n",
       "      <td>0</td>\n",
       "      <td>8531787.0</td>\n",
       "      <td>2.370370</td>\n",
       "      <td>1</td>\n",
       "      <td>0.666667</td>\n",
       "      <td>19</td>\n",
       "      <td>1</td>\n",
       "      <td>...</td>\n",
       "      <td>0</td>\n",
       "      <td>0</td>\n",
       "      <td>0</td>\n",
       "      <td>0</td>\n",
       "      <td>-105147125.0</td>\n",
       "      <td>[(RT, NNP), (@, NNP), (EelcoHoecke, NNP), (:, ...</td>\n",
       "      <td>0.002976</td>\n",
       "      <td>1</td>\n",
       "      <td>1</td>\n",
       "      <td>0</td>\n",
       "    </tr>\n",
       "    <tr>\n",
       "      <th>...</th>\n",
       "      <td>...</td>\n",
       "      <td>...</td>\n",
       "      <td>...</td>\n",
       "      <td>...</td>\n",
       "      <td>...</td>\n",
       "      <td>...</td>\n",
       "      <td>...</td>\n",
       "      <td>...</td>\n",
       "      <td>...</td>\n",
       "      <td>...</td>\n",
       "      <td>...</td>\n",
       "      <td>...</td>\n",
       "      <td>...</td>\n",
       "      <td>...</td>\n",
       "      <td>...</td>\n",
       "      <td>...</td>\n",
       "      <td>...</td>\n",
       "      <td>...</td>\n",
       "      <td>...</td>\n",
       "      <td>...</td>\n",
       "      <td>...</td>\n",
       "    </tr>\n",
       "    <tr>\n",
       "      <th>161628</th>\n",
       "      <td>-1</td>\n",
       "      <td>-1</td>\n",
       "      <td>0</td>\n",
       "      <td>-1</td>\n",
       "      <td>40669615.0</td>\n",
       "      <td>999999.000000</td>\n",
       "      <td>1</td>\n",
       "      <td>0.750000</td>\n",
       "      <td>121</td>\n",
       "      <td>0</td>\n",
       "      <td>...</td>\n",
       "      <td>0</td>\n",
       "      <td>0</td>\n",
       "      <td>0</td>\n",
       "      <td>0</td>\n",
       "      <td>999999.0</td>\n",
       "      <td>[(RT, NNP), (@, NNP), (Erwin3e, NNP), (:, :), ...</td>\n",
       "      <td>0.002134</td>\n",
       "      <td>-1</td>\n",
       "      <td>1</td>\n",
       "      <td>0</td>\n",
       "    </tr>\n",
       "    <tr>\n",
       "      <th>161629</th>\n",
       "      <td>-1</td>\n",
       "      <td>-1</td>\n",
       "      <td>0</td>\n",
       "      <td>-1</td>\n",
       "      <td>40669615.0</td>\n",
       "      <td>999999.000000</td>\n",
       "      <td>1</td>\n",
       "      <td>0.750000</td>\n",
       "      <td>121</td>\n",
       "      <td>0</td>\n",
       "      <td>...</td>\n",
       "      <td>0</td>\n",
       "      <td>0</td>\n",
       "      <td>0</td>\n",
       "      <td>0</td>\n",
       "      <td>999999.0</td>\n",
       "      <td>[(RT, NNP), (@, NNP), (Erwin3e, NNP), (:, :), ...</td>\n",
       "      <td>0.002134</td>\n",
       "      <td>-1</td>\n",
       "      <td>1</td>\n",
       "      <td>0</td>\n",
       "    </tr>\n",
       "    <tr>\n",
       "      <th>161630</th>\n",
       "      <td>-1</td>\n",
       "      <td>-1</td>\n",
       "      <td>0</td>\n",
       "      <td>-1</td>\n",
       "      <td>40669615.0</td>\n",
       "      <td>999999.000000</td>\n",
       "      <td>1</td>\n",
       "      <td>0.750000</td>\n",
       "      <td>121</td>\n",
       "      <td>0</td>\n",
       "      <td>...</td>\n",
       "      <td>0</td>\n",
       "      <td>0</td>\n",
       "      <td>0</td>\n",
       "      <td>0</td>\n",
       "      <td>999999.0</td>\n",
       "      <td>[(RT, NNP), (@, NNP), (Erwin3e, NNP), (:, :), ...</td>\n",
       "      <td>0.002134</td>\n",
       "      <td>-1</td>\n",
       "      <td>1</td>\n",
       "      <td>0</td>\n",
       "    </tr>\n",
       "    <tr>\n",
       "      <th>161631</th>\n",
       "      <td>-1</td>\n",
       "      <td>-1</td>\n",
       "      <td>0</td>\n",
       "      <td>-1</td>\n",
       "      <td>40669615.0</td>\n",
       "      <td>999999.000000</td>\n",
       "      <td>1</td>\n",
       "      <td>0.750000</td>\n",
       "      <td>121</td>\n",
       "      <td>0</td>\n",
       "      <td>...</td>\n",
       "      <td>0</td>\n",
       "      <td>0</td>\n",
       "      <td>0</td>\n",
       "      <td>0</td>\n",
       "      <td>999999.0</td>\n",
       "      <td>[(RT, NNP), (@, NNP), (Erwin3e, NNP), (:, :), ...</td>\n",
       "      <td>0.002134</td>\n",
       "      <td>-1</td>\n",
       "      <td>1</td>\n",
       "      <td>0</td>\n",
       "    </tr>\n",
       "    <tr>\n",
       "      <th>161632</th>\n",
       "      <td>-1</td>\n",
       "      <td>-1</td>\n",
       "      <td>0</td>\n",
       "      <td>-1</td>\n",
       "      <td>40669615.0</td>\n",
       "      <td>999999.000000</td>\n",
       "      <td>1</td>\n",
       "      <td>0.750000</td>\n",
       "      <td>121</td>\n",
       "      <td>0</td>\n",
       "      <td>...</td>\n",
       "      <td>0</td>\n",
       "      <td>0</td>\n",
       "      <td>0</td>\n",
       "      <td>0</td>\n",
       "      <td>999999.0</td>\n",
       "      <td>[(RT, NNP), (@, NNP), (Erwin3e, NNP), (:, :), ...</td>\n",
       "      <td>0.002134</td>\n",
       "      <td>-1</td>\n",
       "      <td>1</td>\n",
       "      <td>0</td>\n",
       "    </tr>\n",
       "  </tbody>\n",
       "</table>\n",
       "<p>161633 rows × 23 columns</p>\n",
       "</div>"
      ],
      "text/plain": [
       "        followers  tweet_count  question_marks  verified  accountlife  \\\n",
       "0            1744       133308               0         0    8531787.0   \n",
       "1              -1           -1               0        -1    8531787.0   \n",
       "2              30         5063               0         0    8531787.0   \n",
       "3             391          714               0         0    8531787.0   \n",
       "4             191        25391               0         0    8531787.0   \n",
       "...           ...          ...             ...       ...          ...   \n",
       "161628         -1           -1               0        -1   40669615.0   \n",
       "161629         -1           -1               0        -1   40669615.0   \n",
       "161630         -1           -1               0        -1   40669615.0   \n",
       "161631         -1           -1               0        -1   40669615.0   \n",
       "161632         -1           -1               0        -1   40669615.0   \n",
       "\n",
       "        followers_count  exclamation_marks  capital letters  retweet_count  \\\n",
       "0              0.782511                  1         0.666667             19   \n",
       "1         999999.000000                  1         0.666667             19   \n",
       "2              1.240000                  1         0.666667             19   \n",
       "3              0.370861                  1         0.666667             19   \n",
       "4              2.370370                  1         0.666667             19   \n",
       "...                 ...                ...              ...            ...   \n",
       "161628    999999.000000                  1         0.750000            121   \n",
       "161629    999999.000000                  1         0.750000            121   \n",
       "161630    999999.000000                  1         0.750000            121   \n",
       "161631    999999.000000                  1         0.750000            121   \n",
       "161632    999999.000000                  1         0.750000            121   \n",
       "\n",
       "        hashtags  ...  emoticons  reply_count  quote_count  like_count  \\\n",
       "0              1  ...          0            0            0           0   \n",
       "1              1  ...          0            0            0           0   \n",
       "2              1  ...          0            0            0           0   \n",
       "3              1  ...          0            0            0           0   \n",
       "4              1  ...          0            0            0           0   \n",
       "...          ...  ...        ...          ...          ...         ...   \n",
       "161628         0  ...          0            0            0           0   \n",
       "161629         0  ...          0            0            0           0   \n",
       "161630         0  ...          0            0            0           0   \n",
       "161631         0  ...          0            0            0           0   \n",
       "161632         0  ...          0            0            0           0   \n",
       "\n",
       "        time_after_posting                                           pos_tags  \\\n",
       "0             -257208698.0  [(RT, NNP), (@, NNP), (EelcoHoecke, NNP), (:, ...   \n",
       "1                 999999.0  [(RT, NNP), (@, NNP), (EelcoHoecke, NNP), (:, ...   \n",
       "2             -275062400.0  [(RT, NNP), (@, NNP), (EelcoHoecke, NNP), (:, ...   \n",
       "3               -6109167.0  [(RT, NNP), (@, NNP), (EelcoHoecke, NNP), (:, ...   \n",
       "4             -105147125.0  [(RT, NNP), (@, NNP), (EelcoHoecke, NNP), (:, ...   \n",
       "...                    ...                                                ...   \n",
       "161628            999999.0  [(RT, NNP), (@, NNP), (Erwin3e, NNP), (:, :), ...   \n",
       "161629            999999.0  [(RT, NNP), (@, NNP), (Erwin3e, NNP), (:, :), ...   \n",
       "161630            999999.0  [(RT, NNP), (@, NNP), (Erwin3e, NNP), (:, :), ...   \n",
       "161631            999999.0  [(RT, NNP), (@, NNP), (Erwin3e, NNP), (:, :), ...   \n",
       "161632            999999.0  [(RT, NNP), (@, NNP), (Erwin3e, NNP), (:, :), ...   \n",
       "\n",
       "        activity  has_url has_first_person_pronouns  possibly_sensitive  \n",
       "0       0.015625        1                         1                   0  \n",
       "1       0.015625       -1                         1                   0  \n",
       "2       0.000593        1                         1                   0  \n",
       "3       0.000084        1                         1                   0  \n",
       "4       0.002976        1                         1                   0  \n",
       "...          ...      ...                       ...                 ...  \n",
       "161628  0.002134       -1                         1                   0  \n",
       "161629  0.002134       -1                         1                   0  \n",
       "161630  0.002134       -1                         1                   0  \n",
       "161631  0.002134       -1                         1                   0  \n",
       "161632  0.002134       -1                         1                   0  \n",
       "\n",
       "[161633 rows x 23 columns]"
      ]
     },
     "execution_count": 34,
     "metadata": {},
     "output_type": "execute_result"
    }
   ],
   "source": [
    "df"
   ]
  },
  {
   "cell_type": "code",
   "execution_count": 35,
   "id": "36ecbdb8",
   "metadata": {},
   "outputs": [
    {
     "data": {
      "text/html": [
       "<div>\n",
       "<style scoped>\n",
       "    .dataframe tbody tr th:only-of-type {\n",
       "        vertical-align: middle;\n",
       "    }\n",
       "\n",
       "    .dataframe tbody tr th {\n",
       "        vertical-align: top;\n",
       "    }\n",
       "\n",
       "    .dataframe thead th {\n",
       "        text-align: right;\n",
       "    }\n",
       "</style>\n",
       "<table border=\"1\" class=\"dataframe\">\n",
       "  <thead>\n",
       "    <tr style=\"text-align: right;\">\n",
       "      <th></th>\n",
       "      <th>followers</th>\n",
       "      <th>tweet_count</th>\n",
       "      <th>question_marks</th>\n",
       "      <th>verified</th>\n",
       "      <th>accountlife</th>\n",
       "      <th>followers_count</th>\n",
       "      <th>exclamation_marks</th>\n",
       "      <th>capital letters</th>\n",
       "      <th>retweet_count</th>\n",
       "      <th>hashtags</th>\n",
       "      <th>...</th>\n",
       "      <th>listed_count</th>\n",
       "      <th>emoticons</th>\n",
       "      <th>reply_count</th>\n",
       "      <th>quote_count</th>\n",
       "      <th>like_count</th>\n",
       "      <th>time_after_posting</th>\n",
       "      <th>activity</th>\n",
       "      <th>has_url</th>\n",
       "      <th>has_first_person_pronouns</th>\n",
       "      <th>possibly_sensitive</th>\n",
       "    </tr>\n",
       "  </thead>\n",
       "  <tbody>\n",
       "    <tr>\n",
       "      <th>count</th>\n",
       "      <td>161633.000000</td>\n",
       "      <td>161633.000000</td>\n",
       "      <td>161633.000000</td>\n",
       "      <td>161633.000000</td>\n",
       "      <td>1.616330e+05</td>\n",
       "      <td>161633.000000</td>\n",
       "      <td>161633.000000</td>\n",
       "      <td>161633.000000</td>\n",
       "      <td>161633.000000</td>\n",
       "      <td>161633.000000</td>\n",
       "      <td>...</td>\n",
       "      <td>161633.000000</td>\n",
       "      <td>161633.000000</td>\n",
       "      <td>161633.000000</td>\n",
       "      <td>161633.000000</td>\n",
       "      <td>161633.000000</td>\n",
       "      <td>1.616330e+05</td>\n",
       "      <td>1.616330e+05</td>\n",
       "      <td>161633.000000</td>\n",
       "      <td>161633.0</td>\n",
       "      <td>161633.000000</td>\n",
       "    </tr>\n",
       "    <tr>\n",
       "      <th>mean</th>\n",
       "      <td>554.266623</td>\n",
       "      <td>12096.145199</td>\n",
       "      <td>0.131539</td>\n",
       "      <td>-0.894687</td>\n",
       "      <td>2.462373e+07</td>\n",
       "      <td>895355.921223</td>\n",
       "      <td>0.158897</td>\n",
       "      <td>0.647748</td>\n",
       "      <td>188.241597</td>\n",
       "      <td>0.759195</td>\n",
       "      <td>...</td>\n",
       "      <td>3.220221</td>\n",
       "      <td>0.091200</td>\n",
       "      <td>0.553643</td>\n",
       "      <td>0.106315</td>\n",
       "      <td>4.351735</td>\n",
       "      <td>-1.773270e+07</td>\n",
       "      <td>5.989326e-03</td>\n",
       "      <td>-0.790711</td>\n",
       "      <td>1.0</td>\n",
       "      <td>0.005946</td>\n",
       "    </tr>\n",
       "    <tr>\n",
       "      <th>std</th>\n",
       "      <td>7162.297957</td>\n",
       "      <td>70629.906060</td>\n",
       "      <td>0.337990</td>\n",
       "      <td>0.309126</td>\n",
       "      <td>1.098329e+07</td>\n",
       "      <td>306091.640702</td>\n",
       "      <td>0.365581</td>\n",
       "      <td>0.384170</td>\n",
       "      <td>450.747369</td>\n",
       "      <td>0.427573</td>\n",
       "      <td>...</td>\n",
       "      <td>40.038852</td>\n",
       "      <td>0.287895</td>\n",
       "      <td>4.225030</td>\n",
       "      <td>1.184351</td>\n",
       "      <td>43.697955</td>\n",
       "      <td>6.943488e+07</td>\n",
       "      <td>1.031468e-02</td>\n",
       "      <td>0.612191</td>\n",
       "      <td>0.0</td>\n",
       "      <td>0.076878</td>\n",
       "    </tr>\n",
       "    <tr>\n",
       "      <th>min</th>\n",
       "      <td>-1.000000</td>\n",
       "      <td>-1.000000</td>\n",
       "      <td>0.000000</td>\n",
       "      <td>-1.000000</td>\n",
       "      <td>8.531787e+06</td>\n",
       "      <td>0.004149</td>\n",
       "      <td>0.000000</td>\n",
       "      <td>0.000000</td>\n",
       "      <td>0.000000</td>\n",
       "      <td>0.000000</td>\n",
       "      <td>...</td>\n",
       "      <td>-1.000000</td>\n",
       "      <td>0.000000</td>\n",
       "      <td>0.000000</td>\n",
       "      <td>0.000000</td>\n",
       "      <td>0.000000</td>\n",
       "      <td>-4.740775e+08</td>\n",
       "      <td>4.850550e-07</td>\n",
       "      <td>-1.000000</td>\n",
       "      <td>1.0</td>\n",
       "      <td>0.000000</td>\n",
       "    </tr>\n",
       "    <tr>\n",
       "      <th>25%</th>\n",
       "      <td>-1.000000</td>\n",
       "      <td>-1.000000</td>\n",
       "      <td>0.000000</td>\n",
       "      <td>-1.000000</td>\n",
       "      <td>1.884795e+07</td>\n",
       "      <td>999999.000000</td>\n",
       "      <td>0.000000</td>\n",
       "      <td>0.416667</td>\n",
       "      <td>0.000000</td>\n",
       "      <td>1.000000</td>\n",
       "      <td>...</td>\n",
       "      <td>-1.000000</td>\n",
       "      <td>0.000000</td>\n",
       "      <td>0.000000</td>\n",
       "      <td>0.000000</td>\n",
       "      <td>0.000000</td>\n",
       "      <td>9.999990e+05</td>\n",
       "      <td>7.694501e-04</td>\n",
       "      <td>-1.000000</td>\n",
       "      <td>1.0</td>\n",
       "      <td>0.000000</td>\n",
       "    </tr>\n",
       "    <tr>\n",
       "      <th>50%</th>\n",
       "      <td>-1.000000</td>\n",
       "      <td>-1.000000</td>\n",
       "      <td>0.000000</td>\n",
       "      <td>-1.000000</td>\n",
       "      <td>2.100541e+07</td>\n",
       "      <td>999999.000000</td>\n",
       "      <td>0.000000</td>\n",
       "      <td>0.583333</td>\n",
       "      <td>23.000000</td>\n",
       "      <td>1.000000</td>\n",
       "      <td>...</td>\n",
       "      <td>-1.000000</td>\n",
       "      <td>0.000000</td>\n",
       "      <td>0.000000</td>\n",
       "      <td>0.000000</td>\n",
       "      <td>0.000000</td>\n",
       "      <td>9.999990e+05</td>\n",
       "      <td>2.014465e-03</td>\n",
       "      <td>-1.000000</td>\n",
       "      <td>1.0</td>\n",
       "      <td>0.000000</td>\n",
       "    </tr>\n",
       "    <tr>\n",
       "      <th>75%</th>\n",
       "      <td>-1.000000</td>\n",
       "      <td>-1.000000</td>\n",
       "      <td>0.000000</td>\n",
       "      <td>-1.000000</td>\n",
       "      <td>4.015112e+07</td>\n",
       "      <td>999999.000000</td>\n",
       "      <td>0.000000</td>\n",
       "      <td>0.833333</td>\n",
       "      <td>175.000000</td>\n",
       "      <td>1.000000</td>\n",
       "      <td>...</td>\n",
       "      <td>-1.000000</td>\n",
       "      <td>0.000000</td>\n",
       "      <td>0.000000</td>\n",
       "      <td>0.000000</td>\n",
       "      <td>0.000000</td>\n",
       "      <td>9.999990e+05</td>\n",
       "      <td>5.813276e-03</td>\n",
       "      <td>-1.000000</td>\n",
       "      <td>1.0</td>\n",
       "      <td>0.000000</td>\n",
       "    </tr>\n",
       "    <tr>\n",
       "      <th>max</th>\n",
       "      <td>771137.000000</td>\n",
       "      <td>988507.000000</td>\n",
       "      <td>1.000000</td>\n",
       "      <td>1.000000</td>\n",
       "      <td>4.066962e+07</td>\n",
       "      <td>999999.000000</td>\n",
       "      <td>1.000000</td>\n",
       "      <td>3.166667</td>\n",
       "      <td>3056.000000</td>\n",
       "      <td>1.000000</td>\n",
       "      <td>...</td>\n",
       "      <td>3686.000000</td>\n",
       "      <td>1.000000</td>\n",
       "      <td>73.000000</td>\n",
       "      <td>21.000000</td>\n",
       "      <td>774.000000</td>\n",
       "      <td>9.999990e+05</td>\n",
       "      <td>9.382254e-02</td>\n",
       "      <td>1.000000</td>\n",
       "      <td>1.0</td>\n",
       "      <td>1.000000</td>\n",
       "    </tr>\n",
       "  </tbody>\n",
       "</table>\n",
       "<p>8 rows × 22 columns</p>\n",
       "</div>"
      ],
      "text/plain": [
       "           followers    tweet_count  question_marks       verified  \\\n",
       "count  161633.000000  161633.000000   161633.000000  161633.000000   \n",
       "mean      554.266623   12096.145199        0.131539      -0.894687   \n",
       "std      7162.297957   70629.906060        0.337990       0.309126   \n",
       "min        -1.000000      -1.000000        0.000000      -1.000000   \n",
       "25%        -1.000000      -1.000000        0.000000      -1.000000   \n",
       "50%        -1.000000      -1.000000        0.000000      -1.000000   \n",
       "75%        -1.000000      -1.000000        0.000000      -1.000000   \n",
       "max    771137.000000  988507.000000        1.000000       1.000000   \n",
       "\n",
       "        accountlife  followers_count  exclamation_marks  capital letters  \\\n",
       "count  1.616330e+05    161633.000000      161633.000000    161633.000000   \n",
       "mean   2.462373e+07    895355.921223           0.158897         0.647748   \n",
       "std    1.098329e+07    306091.640702           0.365581         0.384170   \n",
       "min    8.531787e+06         0.004149           0.000000         0.000000   \n",
       "25%    1.884795e+07    999999.000000           0.000000         0.416667   \n",
       "50%    2.100541e+07    999999.000000           0.000000         0.583333   \n",
       "75%    4.015112e+07    999999.000000           0.000000         0.833333   \n",
       "max    4.066962e+07    999999.000000           1.000000         3.166667   \n",
       "\n",
       "       retweet_count       hashtags  ...   listed_count      emoticons  \\\n",
       "count  161633.000000  161633.000000  ...  161633.000000  161633.000000   \n",
       "mean      188.241597       0.759195  ...       3.220221       0.091200   \n",
       "std       450.747369       0.427573  ...      40.038852       0.287895   \n",
       "min         0.000000       0.000000  ...      -1.000000       0.000000   \n",
       "25%         0.000000       1.000000  ...      -1.000000       0.000000   \n",
       "50%        23.000000       1.000000  ...      -1.000000       0.000000   \n",
       "75%       175.000000       1.000000  ...      -1.000000       0.000000   \n",
       "max      3056.000000       1.000000  ...    3686.000000       1.000000   \n",
       "\n",
       "         reply_count    quote_count     like_count  time_after_posting  \\\n",
       "count  161633.000000  161633.000000  161633.000000        1.616330e+05   \n",
       "mean        0.553643       0.106315       4.351735       -1.773270e+07   \n",
       "std         4.225030       1.184351      43.697955        6.943488e+07   \n",
       "min         0.000000       0.000000       0.000000       -4.740775e+08   \n",
       "25%         0.000000       0.000000       0.000000        9.999990e+05   \n",
       "50%         0.000000       0.000000       0.000000        9.999990e+05   \n",
       "75%         0.000000       0.000000       0.000000        9.999990e+05   \n",
       "max        73.000000      21.000000     774.000000        9.999990e+05   \n",
       "\n",
       "           activity        has_url  has_first_person_pronouns  \\\n",
       "count  1.616330e+05  161633.000000                   161633.0   \n",
       "mean   5.989326e-03      -0.790711                        1.0   \n",
       "std    1.031468e-02       0.612191                        0.0   \n",
       "min    4.850550e-07      -1.000000                        1.0   \n",
       "25%    7.694501e-04      -1.000000                        1.0   \n",
       "50%    2.014465e-03      -1.000000                        1.0   \n",
       "75%    5.813276e-03      -1.000000                        1.0   \n",
       "max    9.382254e-02       1.000000                        1.0   \n",
       "\n",
       "       possibly_sensitive  \n",
       "count       161633.000000  \n",
       "mean             0.005946  \n",
       "std              0.076878  \n",
       "min              0.000000  \n",
       "25%              0.000000  \n",
       "50%              0.000000  \n",
       "75%              0.000000  \n",
       "max              1.000000  \n",
       "\n",
       "[8 rows x 22 columns]"
      ]
     },
     "execution_count": 35,
     "metadata": {},
     "output_type": "execute_result"
    }
   ],
   "source": [
    "df.describe()"
   ]
  },
  {
   "cell_type": "code",
   "execution_count": 36,
   "id": "5dae5d88",
   "metadata": {},
   "outputs": [
    {
     "data": {
      "text/plain": [
       "<AxesSubplot:>"
      ]
     },
     "execution_count": 36,
     "metadata": {},
     "output_type": "execute_result"
    },
    {
     "data": {
      "image/png": "[encoded data removed]",
      "text/plain": [
       "<Figure size 648x576 with 2 Axes>"
      ]
     },
     "metadata": {
      "needs_background": "light"
     },
     "output_type": "display_data"
    }
   ],
   "source": [
    "import seaborn as sns\n",
    "\n",
    "corrmat = df.corr()\n",
    "  \n",
    "f, ax = plt.subplots(figsize =(9, 8))\n",
    "sns.heatmap(corrmat, ax = ax, cmap =\"YlGnBu\", linewidths = 0.1)"
   ]
  },
  {
   "cell_type": "code",
   "execution_count": null,
   "id": "acf9268f",
   "metadata": {},
   "outputs": [],
   "source": []
  },
  {
   "cell_type": "code",
   "execution_count": null,
   "id": "d4758ec9",
   "metadata": {},
   "outputs": [],
   "source": []
  }
 ],
 "metadata": {
  "kernelspec": {
   "display_name": "Python 3 (ipykernel)",
   "language": "python",
   "name": "python3"
  },
  "language_info": {
   "codemirror_mode": {
    "name": "ipython",
    "version": 3
   },
   "file_extension": ".py",
   "mimetype": "text/x-python",
   "name": "python",
   "nbconvert_exporter": "python",
   "pygments_lexer": "ipython3",
   "version": "3.9.12"
  }
 },
 "nbformat": 4,
 "nbformat_minor": 5
}
