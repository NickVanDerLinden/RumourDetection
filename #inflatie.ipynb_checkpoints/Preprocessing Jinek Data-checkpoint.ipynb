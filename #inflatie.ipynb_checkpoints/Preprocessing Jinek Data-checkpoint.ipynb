{
 "cells": [
  {
   "cell_type": "code",
   "execution_count": 2,
   "id": "96121d6a",
   "metadata": {},
   "outputs": [],
   "source": [
    "import numpy as np\n",
    "import pandas as pd\n",
    "import matplotlib.pyplot as plt\n",
    "from datetime import date\n",
    "import nltk\n",
    "from nltk.tokenize import word_tokenize\n",
    "from pytwitter import Api\n",
    "import json\n",
    "import math\n",
    "\n",
    "#!pip install emoji\n",
    "from emoji import UNICODE_EMOJI\n",
    "\n",
    "from sklearn.cluster import KMeans\n",
    "from sklearn.metrics import silhouette_score\n",
    "\n",
    "#API key = z5uFu3NIteA6EBf1ou3LrraTQ\n",
    "#API key secret = uAPN84aJgdNvPYjXCNpdk07rMDrhYkpc2xw7euaQkXmzL6ZQBw\n",
    "#bearer token = AAAAAAAAAAAAAAAAAAAAALRUaAEAAAAA0WNStdCEAZ%2FOa5JQTVc%2BnT7P3nY%3D4QvSzmESKEo8KrBF0vczfZn4LgNjIAZvXQbGIwq4pA0kNm3sJG\n",
    "#Access token = 1488811610542063617-3aFMTFTnQKp3mpOw0wKUc9v2QD624x\n",
    "#Acces token secret = sWIiaRUSfsVdXQYuVbV4jM0jH5sKChx9vruy0oYpQPxhw"
   ]
  },
  {
   "cell_type": "code",
   "execution_count": 3,
   "id": "c81f79eb",
   "metadata": {},
   "outputs": [
    {
     "data": {
      "text/plain": [
       "161633"
      ]
     },
     "execution_count": 3,
     "metadata": {},
     "output_type": "execute_result"
    }
   ],
   "source": [
    "# Using readline()\n",
    "file2 = open('#jinek.txt', 'r')\n",
    "count = 0\n",
    "tweets2 = []\n",
    "\n",
    "while True:\n",
    "    count += 1\n",
    " \n",
    "    # Get next line from file\n",
    "    line = file2.readline()\n",
    " \n",
    "    # if line is empty\n",
    "    # end of file is reached\n",
    "    if not line:\n",
    "        break\n",
    "    tweets2.append(json.loads(line,encoding=\"utf-8\"))\n",
    "    \n",
    "data2 = []\n",
    "for i in range(len(tweets2)):\n",
    "    for j in range(len(tweets2[i][\"data\"])):\n",
    "        temp = []\n",
    "        if tweets2[i][\"data\"][0][\"lang\"] == 'nl':\n",
    "            temp.append(tweets2[i][\"data\"][0])\n",
    "            user = [k for k in tweets2[0][\"includes\"][\"users\"] \n",
    "                    if k[\"id\"] == tweets2[i][\"data\"][j][\"author_id\"]]\n",
    "            temp.append(user)\n",
    "            data2.append(temp)\n",
    "len(data2)"
   ]
  },
  {
   "cell_type": "code",
   "execution_count": 4,
   "id": "410e40de",
   "metadata": {},
   "outputs": [
    {
     "data": {
      "text/plain": [
       "[{'lang': 'nl',\n",
       "  'entities': {'mentions': [{'start': 3,\n",
       "     'end': 15,\n",
       "     'username': 'EelcoHoecke',\n",
       "     'id': '1174967016014303234'}],\n",
       "   'hashtags': [{'start': 24, 'end': 36, 'tag': 'devooravond'},\n",
       "    {'start': 123, 'end': 128, 'tag': 'woke'}]},\n",
       "  'public_metrics': {'retweet_count': 19,\n",
       "   'reply_count': 0,\n",
       "   'like_count': 0,\n",
       "   'quote_count': 0},\n",
       "  'reply_settings': 'everyone',\n",
       "  'conversation_id': '1504938640962637830',\n",
       "  'created_at': '2022-03-18T21:51:47.000Z',\n",
       "  'author_id': '2305592671',\n",
       "  'referenced_tweets': [{'type': 'retweeted', 'id': '1504931135016554499'}],\n",
       "  'source': 'Twitter Web App',\n",
       "  'text': 'RT @EelcoHoecke: Exact. #devooravond was een topprogramma en Fidan Ekiz was top! Ze is gecanceld omdat ze te rechts was... #woke maakt meer…',\n",
       "  'possibly_sensitive': False,\n",
       "  'id': '1504938640962637830'},\n",
       " [{'description': 'Allergie voor klimaatdrammers. Anti EU. Islam-beu. Stem PVV.\\nLidmaatschap FVD opgezegd na schandalige stemming over AOW.',\n",
       "   'username': 'Deon10000',\n",
       "   'id': '2305592671',\n",
       "   'pinned_tweet_id': '1194164922357293062',\n",
       "   'verified': False,\n",
       "   'created_at': '2014-01-22T23:00:09.000Z',\n",
       "   'protected': False,\n",
       "   'profile_image_url': 'https://pbs.twimg.com/profile_images/1110090342953611264/Ed0-u2Lk_normal.png',\n",
       "   'url': '',\n",
       "   'public_metrics': {'followers_count': 1744,\n",
       "    'following_count': 2228,\n",
       "    'tweet_count': 133308,\n",
       "    'listed_count': 1},\n",
       "   'location': 'zwervend',\n",
       "   'name': 'Deon'}]]"
      ]
     },
     "execution_count": 4,
     "metadata": {},
     "output_type": "execute_result"
    }
   ],
   "source": [
    "data2[0]"
   ]
  },
  {
   "cell_type": "code",
   "execution_count": 5,
   "id": "cbefbc1f",
   "metadata": {},
   "outputs": [],
   "source": [
    "#expansions=[ \"attachments.media_keys\", \n",
    "#                               \"author_id\", \n",
    "#                               \"entities.mentions.username\",\n",
    "#                               \"in_reply_to_user_id\", \n",
    "#                               \"referenced_tweets.id\", \n",
    "#                               \"referenced_tweets.id.author_id\"], \n",
    "\n",
    "#                          media_fields=[\"duration_ms\", \n",
    "#                                        \"height\", \n",
    "#                                        \"media_key\", \n",
    "#                                        \"preview_image_url\", \n",
    "#                                        \"type\", \n",
    "#                                        \"url\", \n",
    "#                                        \"width\", \n",
    "#                                        \"public_metrics\", \n",
    "#                                        \"alt_text\"],\n",
    "\n",
    "#                          tweet_fields=[\"attachments\", \n",
    "#                                        \"author_id\",  \n",
    "#                                        \"conversation_id\", \n",
    "#                                        \"created_at\", \n",
    "#                                        \"entities\", \n",
    "#                                        \"id\", \n",
    "#                                        \"in_reply_to_user_id\", \n",
    "#                                        \"lang\", \n",
    "#                                        \"public_metrics\", \n",
    "#                                        \"possibly_sensitive\", \n",
    "#                                        \"referenced_tweets\", \n",
    "#                                        \"reply_settings\", \n",
    "#                                        \"source\", \n",
    "#                                        \"text\", \n",
    "#                                        \"withheld\"],\n",
    "\n",
    "#                          user_fields=[\"created_at\", \n",
    "#                                       \"description\", \n",
    "#                                       \"entities\", \n",
    "#                                       \"id\", \n",
    "#                                       \"location\", \n",
    "#                                       \"name\", \n",
    "#                                       \"pinned_tweet_id\", \n",
    "#                                       \"profile_image_url\", \n",
    "#                                       \"protected\", \n",
    "#                                       \"public_metrics\", \n",
    "#                                       \"url\", \n",
    "#                                       \"username\", \n",
    "#                                       \"verified\", \n",
    "#                                       \"withheld\"],\n"
   ]
  },
  {
   "cell_type": "code",
   "execution_count": 6,
   "id": "948e8bc8",
   "metadata": {},
   "outputs": [
    {
     "data": {
      "text/plain": [
       "[{'lang': 'nl',\n",
       "  'entities': {'mentions': [{'start': 3,\n",
       "     'end': 15,\n",
       "     'username': 'EelcoHoecke',\n",
       "     'id': '1174967016014303234'}],\n",
       "   'hashtags': [{'start': 24, 'end': 36, 'tag': 'devooravond'},\n",
       "    {'start': 123, 'end': 128, 'tag': 'woke'}]},\n",
       "  'public_metrics': {'retweet_count': 19,\n",
       "   'reply_count': 0,\n",
       "   'like_count': 0,\n",
       "   'quote_count': 0},\n",
       "  'reply_settings': 'everyone',\n",
       "  'conversation_id': '1504938640962637830',\n",
       "  'created_at': '2022-03-18T21:51:47.000Z',\n",
       "  'author_id': '2305592671',\n",
       "  'referenced_tweets': [{'type': 'retweeted', 'id': '1504931135016554499'}],\n",
       "  'source': 'Twitter Web App',\n",
       "  'text': 'RT @EelcoHoecke: Exact. #devooravond was een topprogramma en Fidan Ekiz was top! Ze is gecanceld omdat ze te rechts was... #woke maakt meer…',\n",
       "  'possibly_sensitive': False,\n",
       "  'id': '1504938640962637830'},\n",
       " [{'description': 'Cynisch volger van Feyenoord, gek op Southern Rock, Country, Americana,The Boston Red Sox en The Rolling Stones, Keith Richards in het bijzonder.',\n",
       "   'username': 'Paulus858520671',\n",
       "   'id': '1063919637291769861',\n",
       "   'pinned_tweet_id': '1226578540981837826',\n",
       "   'verified': False,\n",
       "   'created_at': '2018-11-17T22:19:42.000Z',\n",
       "   'protected': False,\n",
       "   'profile_image_url': 'https://pbs.twimg.com/profile_images/1465674571735085059/64QSOv3Z_normal.jpg',\n",
       "   'url': '',\n",
       "   'public_metrics': {'followers_count': 191,\n",
       "    'following_count': 79,\n",
       "    'tweet_count': 25391,\n",
       "    'listed_count': 0},\n",
       "   'name': 'Paul.'}]]"
      ]
     },
     "execution_count": 6,
     "metadata": {},
     "output_type": "execute_result"
    }
   ],
   "source": [
    "data2[100]\n"
   ]
  },
  {
   "cell_type": "code",
   "execution_count": 7,
   "id": "51e673b5",
   "metadata": {},
   "outputs": [
    {
     "data": {
      "text/plain": [
       "'RT @EelcoHoecke: Exact. #devooravond was een topprogramma en Fidan Ekiz was top! Ze is gecanceld omdat ze te rechts was... #woke maakt meer…'"
      ]
     },
     "execution_count": 7,
     "metadata": {},
     "output_type": "execute_result"
    }
   ],
   "source": [
    "data2[0][0][\"text\"]"
   ]
  },
  {
   "cell_type": "code",
   "execution_count": 8,
   "id": "6ad28382",
   "metadata": {},
   "outputs": [],
   "source": [
    "import time \n",
    "#text = data2[x][0][\"text\"]\n",
    "\n",
    "features = []\n",
    "for x in range(0,len(data2)):\n",
    "    temp = []\n",
    "    if data2[x][1] != []:\n",
    "        followers_count = data2[x][1][0][\"public_metrics\"][\"followers_count\"]\n",
    "        temp.append(followers_count)\n",
    "    else:\n",
    "        temp.append(-1)\n",
    "\n",
    "    if data2[x][1] != []:        \n",
    "        tweetcount = data2[x][1][0][\"public_metrics\"][\"tweet_count\"]\n",
    "        temp.append(tweetcount)\n",
    "    else:\n",
    "        temp.append(-1)\n",
    "\n",
    "    qmarks = \"?\" in data2[x][0][\"text\"]\n",
    "    temp.append(int(qmarks))\n",
    "\n",
    "    if data2[x][1] != []:\n",
    "        verified = data2[x][1][0][\"verified\"]\n",
    "        temp.append(int(verified))    \n",
    "    else:\n",
    "        temp.append(-1)\n",
    "        \n",
    "    accountlife = time.mktime(time.localtime()) - time.mktime(time.strptime(data2[x][0][\"created_at\"], \"%Y-%m-%dT%H:%M:%S.000Z\"))\n",
    "    temp.append(accountlife)\n",
    "\n",
    "    if data2[x][1] != []:    \n",
    "        ratio = (data2[x][1][0][\"public_metrics\"][\"followers_count\"]+1.0)/(data2[x][1][0][\"public_metrics\"][\"following_count\"]+2.0)\n",
    "        temp.append(ratio)\n",
    "    else:\n",
    "        temp.append(999999)\n",
    "        \n",
    "    emark = \"!\" in data2[x][0][\"text\"]\n",
    "    temp.append(int(emark))\n",
    "\n",
    "    capitalletters = sum(1 for c in data2[x][0][\"text\"] if c.isupper())/sum(1 for c in data2[x][0])\n",
    "    temp.append(capitalletters)\n",
    "\n",
    "    retweet_count = data2[x][0][\"public_metrics\"][\"retweet_count\"]\n",
    "    temp.append(retweet_count)\n",
    "    \n",
    "    hashtags = \"#\" in data2[x][0][\"text\"]\n",
    "    temp.append(int(hashtags))\n",
    "    \n",
    "    if data2[x][1] != []:\n",
    "        following = data2[x][1][0][\"public_metrics\"][\"following_count\"]\n",
    "        temp.append(following)\n",
    "    else:\n",
    "        temp.append(-1)\n",
    "\n",
    "    text_length = len(data2[x][0][\"text\"])\n",
    "    temp.append(text_length)\n",
    "    \n",
    "    if data2[x][1] != []:    \n",
    "        listed_count = data2[x][1][0][\"public_metrics\"][\"listed_count\"]\n",
    "        temp.append(listed_count)\n",
    "    else:\n",
    "        temp.append(-1)\n",
    "\n",
    "    emoticons = True in [s in UNICODE_EMOJI['en'] for s in data2[x][0][\"text\"]]\n",
    "    temp.append(int(emoticons))\n",
    "    \n",
    "    reply_count = data2[x][0][\"public_metrics\"][\"reply_count\"]\n",
    "    temp.append(reply_count)\n",
    "    \n",
    "    quote_count = data2[x][0][\"public_metrics\"][\"quote_count\"]\n",
    "    temp.append(quote_count)\n",
    "    \n",
    "    like_count = data2[x][0][\"public_metrics\"][\"like_count\"]\n",
    "    temp.append(like_count)\n",
    "    \n",
    "    if data2[x][1] != []:\n",
    "        timeafterposting = time.mktime(time.strptime(data2[x][1][0][\"created_at\"],\"%Y-%m-%dT%H:%M:%S.000Z\")) - time.mktime(time.strptime(data2[x][0][\"created_at\"],\"%Y-%m-%dT%H:%M:%S.000Z\"))\n",
    "        temp.append(timeafterposting)\n",
    "    else:\n",
    "        temp.append(999999)\n",
    "\n",
    "    pos_tags = nltk.pos_tag(nltk.word_tokenize(data2[x][0][\"text\"]))\n",
    "    temp.append(pos_tags)\n",
    "    \n",
    "    activity = tweetcount/accountlife\n",
    "    temp.append(activity)\n",
    "\n",
    "    if data2[x][1] != []:\n",
    "        has_url = \"profile_image_url\" in data2[x][1][0]\n",
    "        temp.append(int(has_url))\n",
    "    else:\n",
    "        temp.append(-1)\n",
    "        \n",
    "    fpp = True in [i in data2[x][0][\"text\"].lower() for i in [\"me\", \"my\", \"i\", \"mine\"]]\n",
    "    temp.append(int(fpp))\n",
    "\n",
    "    nsfw = data2[x][0][\"possibly_sensitive\"] \n",
    "    temp.append(int(nsfw))\n",
    "    features.append(temp)"
   ]
  },
  {
   "cell_type": "code",
   "execution_count": 9,
   "id": "554b2f8f",
   "metadata": {},
   "outputs": [
    {
     "data": {
      "text/plain": [
       "161633"
      ]
     },
     "execution_count": 9,
     "metadata": {},
     "output_type": "execute_result"
    }
   ],
   "source": [
    "len(features)"
   ]
  },
  {
   "cell_type": "code",
   "execution_count": 10,
   "id": "6eaeccfe",
   "metadata": {},
   "outputs": [
    {
     "data": {
      "text/plain": [
       "23"
      ]
     },
     "execution_count": 10,
     "metadata": {},
     "output_type": "execute_result"
    }
   ],
   "source": [
    "len(features[0])"
   ]
  },
  {
   "cell_type": "code",
   "execution_count": 11,
   "id": "7d35d91e",
   "metadata": {},
   "outputs": [
    {
     "data": {
      "text/plain": [
       "[int,\n",
       " int,\n",
       " int,\n",
       " int,\n",
       " float,\n",
       " float,\n",
       " int,\n",
       " float,\n",
       " int,\n",
       " int,\n",
       " int,\n",
       " int,\n",
       " int,\n",
       " int,\n",
       " int,\n",
       " int,\n",
       " int,\n",
       " float,\n",
       " list,\n",
       " float,\n",
       " int,\n",
       " int,\n",
       " int]"
      ]
     },
     "execution_count": 11,
     "metadata": {},
     "output_type": "execute_result"
    }
   ],
   "source": [
    "[type(x) for x in features[0]]"
   ]
  },
  {
   "cell_type": "code",
   "execution_count": 12,
   "id": "8db4af63",
   "metadata": {},
   "outputs": [
    {
     "data": {
      "text/plain": [
       "Text(0, 0.5, 'frequency')"
      ]
     },
     "execution_count": 12,
     "metadata": {},
     "output_type": "execute_result"
    },
    {
     "data": {
      "image/png": "[encoded data removed]",
      "text/plain": [
       "<Figure size 432x288 with 1 Axes>"
      ]
     },
     "metadata": {
      "needs_background": "light"
     },
     "output_type": "display_data"
    }
   ],
   "source": [
    "unique, counts = np.unique([x[0] for x in features], return_counts=True)\n",
    "plt.plot(unique[1:-1], counts[1:-1])\n",
    "plt.xlabel(\"follower count\")\n",
    "plt.ylabel(\"frequency\")"
   ]
  },
  {
   "cell_type": "code",
   "execution_count": 13,
   "id": "f646f5f6",
   "metadata": {},
   "outputs": [
    {
     "data": {
      "text/plain": [
       "Text(0, 0.5, 'frequency')"
      ]
     },
     "execution_count": 13,
     "metadata": {},
     "output_type": "execute_result"
    },
    {
     "data": {
      "image/png": "[encoded data removed]",
      "text/plain": [
       "<Figure size 432x288 with 1 Axes>"
      ]
     },
     "metadata": {
      "needs_background": "light"
     },
     "output_type": "display_data"
    }
   ],
   "source": [
    "unique, counts = np.unique([x[1] for x in features], return_counts=True)\n",
    "plt.plot(unique[1:-1], counts[1:-1])\n",
    "plt.xlabel(\"tweet count\")\n",
    "plt.ylabel(\"frequency\")"
   ]
  },
  {
   "cell_type": "code",
   "execution_count": 14,
   "id": "ccb34f62",
   "metadata": {},
   "outputs": [
    {
     "data": {
      "text/plain": [
       "array([140372,  21261], dtype=int64)"
      ]
     },
     "execution_count": 14,
     "metadata": {},
     "output_type": "execute_result"
    }
   ],
   "source": [
    "unique, counts = np.unique([x[2] for x in features], return_counts=True)\n",
    "counts\n",
    "\n",
    "#qmarks"
   ]
  },
  {
   "cell_type": "code",
   "execution_count": 15,
   "id": "1e4bae7a",
   "metadata": {},
   "outputs": [
    {
     "data": {
      "text/plain": [
       "array([144719,  16806,    108], dtype=int64)"
      ]
     },
     "execution_count": 15,
     "metadata": {},
     "output_type": "execute_result"
    }
   ],
   "source": [
    "unique, counts = np.unique([x[3] for x in features], return_counts=True)\n",
    "counts\n",
    "\n",
    "#verified "
   ]
  },
  {
   "cell_type": "code",
   "execution_count": 16,
   "id": "0b70212f",
   "metadata": {},
   "outputs": [
    {
     "data": {
      "text/plain": [
       "Text(0, 0.5, 'frequency')"
      ]
     },
     "execution_count": 16,
     "metadata": {},
     "output_type": "execute_result"
    },
    {
     "data": {
      "image/png": "[encoded data removed]",
      "text/plain": [
       "<Figure size 432x288 with 1 Axes>"
      ]
     },
     "metadata": {
      "needs_background": "light"
     },
     "output_type": "display_data"
    }
   ],
   "source": [
    "unique, counts = np.unique([x[4] for x in features], return_counts=True)\n",
    "plt.plot(unique, counts)\n",
    "plt.xlabel(\"account life\")\n",
    "plt.ylabel(\"frequency\")"
   ]
  },
  {
   "cell_type": "code",
   "execution_count": 17,
   "id": "0d2baaf9",
   "metadata": {},
   "outputs": [
    {
     "data": {
      "text/plain": [
       "Text(0, 0.5, 'frequency')"
      ]
     },
     "execution_count": 17,
     "metadata": {},
     "output_type": "execute_result"
    },
    {
     "data": {
      "image/png": "[encoded data removed]",
      "text/plain": [
       "<Figure size 432x288 with 1 Axes>"
      ]
     },
     "metadata": {
      "needs_background": "light"
     },
     "output_type": "display_data"
    }
   ],
   "source": [
    "unique, counts = np.unique([x[5] for x in features], return_counts=True)\n",
    "plt.plot(unique[:-1], counts[:-1])\n",
    "plt.xlabel(\"ratio\")\n",
    "plt.ylabel(\"frequency\")"
   ]
  },
  {
   "cell_type": "code",
   "execution_count": 18,
   "id": "79b5c892",
   "metadata": {},
   "outputs": [
    {
     "data": {
      "text/plain": [
       "array([135950,  25683], dtype=int64)"
      ]
     },
     "execution_count": 18,
     "metadata": {},
     "output_type": "execute_result"
    }
   ],
   "source": [
    "unique, counts = np.unique([x[6] for x in features], return_counts=True)\n",
    "counts\n",
    "\n",
    "#exclamation points "
   ]
  },
  {
   "cell_type": "code",
   "execution_count": 19,
   "id": "c3157457",
   "metadata": {},
   "outputs": [
    {
     "data": {
      "text/plain": [
       "Text(0, 0.5, 'frequency')"
      ]
     },
     "execution_count": 19,
     "metadata": {},
     "output_type": "execute_result"
    },
    {
     "data": {
      "image/png": "[encoded data removed]",
      "text/plain": [
       "<Figure size 432x288 with 1 Axes>"
      ]
     },
     "metadata": {
      "needs_background": "light"
     },
     "output_type": "display_data"
    }
   ],
   "source": [
    "unique, counts = np.unique([x[7] for x in features], return_counts=True)\n",
    "plt.plot(unique, counts)\n",
    "plt.xlabel(\"capital letter ratio\")\n",
    "plt.xlim(0,1)\n",
    "plt.ylabel(\"frequency\")"
   ]
  },
  {
   "cell_type": "code",
   "execution_count": 20,
   "id": "7c8e08f0",
   "metadata": {},
   "outputs": [
    {
     "data": {
      "text/plain": [
       "Text(0, 0.5, 'frequency')"
      ]
     },
     "execution_count": 20,
     "metadata": {},
     "output_type": "execute_result"
    },
    {
     "data": {
      "image/png": "[encoded data removed]",
      "text/plain": [
       "<Figure size 432x288 with 1 Axes>"
      ]
     },
     "metadata": {
      "needs_background": "light"
     },
     "output_type": "display_data"
    }
   ],
   "source": [
    "unique, counts = np.unique([x[8] for x in features], return_counts=True)\n",
    "plt.plot(unique, counts)\n",
    "plt.xlabel(\"retweet_count\")\n",
    "plt.ylabel(\"frequency\")"
   ]
  },
  {
   "cell_type": "code",
   "execution_count": 21,
   "id": "825fda36",
   "metadata": {},
   "outputs": [
    {
     "data": {
      "text/plain": [
       "array([ 38922, 122711], dtype=int64)"
      ]
     },
     "execution_count": 21,
     "metadata": {},
     "output_type": "execute_result"
    }
   ],
   "source": [
    "unique, counts = np.unique([x[9] for x in features], return_counts=True)\n",
    "counts\n",
    "\n",
    "#hashtags"
   ]
  },
  {
   "cell_type": "code",
   "execution_count": 22,
   "id": "f344e529",
   "metadata": {},
   "outputs": [
    {
     "data": {
      "text/plain": [
       "Text(0, 0.5, 'frequency')"
      ]
     },
     "execution_count": 22,
     "metadata": {},
     "output_type": "execute_result"
    },
    {
     "data": {
      "image/png": "[encoded data removed]",
      "text/plain": [
       "<Figure size 432x288 with 1 Axes>"
      ]
     },
     "metadata": {
      "needs_background": "light"
     },
     "output_type": "display_data"
    }
   ],
   "source": [
    "unique, counts = np.unique([x[10] for x in features], return_counts=True)\n",
    "plt.plot(unique[1:], counts[1:])\n",
    "plt.xlabel(\"following count\")\n",
    "plt.ylabel(\"frequency\")"
   ]
  },
  {
   "cell_type": "code",
   "execution_count": 23,
   "id": "f2fa884b",
   "metadata": {},
   "outputs": [
    {
     "data": {
      "text/plain": [
       "Text(0, 0.5, 'frequency')"
      ]
     },
     "execution_count": 23,
     "metadata": {},
     "output_type": "execute_result"
    },
    {
     "data": {
      "image/png": "[encoded data removed]",
      "text/plain": [
       "<Figure size 432x288 with 1 Axes>"
      ]
     },
     "metadata": {
      "needs_background": "light"
     },
     "output_type": "display_data"
    }
   ],
   "source": [
    "unique, counts = np.unique([x[11] for x in features], return_counts=True)\n",
    "plt.plot(unique, counts)\n",
    "plt.xlabel(\"text length\")\n",
    "plt.ylabel(\"frequency\")"
   ]
  },
  {
   "cell_type": "code",
   "execution_count": 24,
   "id": "85bc66b3",
   "metadata": {},
   "outputs": [
    {
     "data": {
      "text/plain": [
       "Text(0, 0.5, 'frequency')"
      ]
     },
     "execution_count": 24,
     "metadata": {},
     "output_type": "execute_result"
    },
    {
     "data": {
      "image/png": "[encoded data removed]",
      "text/plain": [
       "<Figure size 432x288 with 1 Axes>"
      ]
     },
     "metadata": {
      "needs_background": "light"
     },
     "output_type": "display_data"
    }
   ],
   "source": [
    "unique, counts = np.unique([x[12] for x in features], return_counts=True)\n",
    "plt.plot(unique[1:], counts[1:])\n",
    "plt.xlabel(\"listed count\")\n",
    "plt.ylabel(\"frequency\")"
   ]
  },
  {
   "cell_type": "code",
   "execution_count": 25,
   "id": "561b41e9",
   "metadata": {},
   "outputs": [
    {
     "data": {
      "text/plain": [
       "array([146892,  14741], dtype=int64)"
      ]
     },
     "execution_count": 25,
     "metadata": {},
     "output_type": "execute_result"
    }
   ],
   "source": [
    "unique, counts = np.unique([x[13] for x in features], return_counts=True)\n",
    "counts\n",
    "\n",
    "#emoticons"
   ]
  },
  {
   "cell_type": "code",
   "execution_count": 26,
   "id": "06ace3c5",
   "metadata": {},
   "outputs": [
    {
     "data": {
      "text/plain": [
       "Text(0, 0.5, 'frequency')"
      ]
     },
     "execution_count": 26,
     "metadata": {},
     "output_type": "execute_result"
    },
    {
     "data": {
      "image/png": "[encoded data removed]",
      "text/plain": [
       "<Figure size 432x288 with 1 Axes>"
      ]
     },
     "metadata": {
      "needs_background": "light"
     },
     "output_type": "display_data"
    }
   ],
   "source": [
    "unique, counts = np.unique([x[14] for x in features], return_counts=True)\n",
    "plt.plot(unique, counts)\n",
    "plt.xlabel(\"reply count\")\n",
    "plt.ylabel(\"frequency\")"
   ]
  },
  {
   "cell_type": "code",
   "execution_count": null,
   "id": "0ae4d167",
   "metadata": {},
   "outputs": [],
   "source": []
  },
  {
   "cell_type": "code",
   "execution_count": 27,
   "id": "0b139445",
   "metadata": {},
   "outputs": [
    {
     "data": {
      "text/plain": [
       "array([156390,   3845,    481,    433,    484], dtype=int64)"
      ]
     },
     "execution_count": 27,
     "metadata": {},
     "output_type": "execute_result"
    }
   ],
   "source": [
    "unique, counts = np.unique([x[15] for x in features], return_counts=True)\n",
    "counts\n",
    "\n",
    "#quote count "
   ]
  },
  {
   "cell_type": "code",
   "execution_count": 28,
   "id": "078f283f",
   "metadata": {},
   "outputs": [
    {
     "data": {
      "text/plain": [
       "Text(0, 0.5, 'frequency')"
      ]
     },
     "execution_count": 28,
     "metadata": {},
     "output_type": "execute_result"
    },
    {
     "data": {
      "image/png": "[encoded data removed]",
      "text/plain": [
       "<Figure size 432x288 with 1 Axes>"
      ]
     },
     "metadata": {
      "needs_background": "light"
     },
     "output_type": "display_data"
    }
   ],
   "source": [
    "unique, counts = np.unique([x[16] for x in features], return_counts=True)\n",
    "plt.plot(unique, counts)\n",
    "plt.xlabel(\"like count\")\n",
    "plt.ylabel(\"frequency\")"
   ]
  },
  {
   "cell_type": "code",
   "execution_count": 29,
   "id": "66980735",
   "metadata": {},
   "outputs": [
    {
     "data": {
      "text/plain": [
       "Text(0, 0.5, 'frequency')"
      ]
     },
     "execution_count": 29,
     "metadata": {},
     "output_type": "execute_result"
    },
    {
     "data": {
      "image/png": "[encoded data removed]",
      "text/plain": [
       "<Figure size 432x288 with 1 Axes>"
      ]
     },
     "metadata": {
      "needs_background": "light"
     },
     "output_type": "display_data"
    }
   ],
   "source": [
    "unique, counts = np.unique([x[17] for x in features], return_counts=True)\n",
    "counts\n",
    "\n",
    "plt.plot(unique[:-1], counts[:-1])\n",
    "plt.xlabel(\"time after posting\")\n",
    "plt.ylabel(\"frequency\")\n",
    "\n",
    "#time after posting "
   ]
  },
  {
   "cell_type": "code",
   "execution_count": 30,
   "id": "8f633f5d",
   "metadata": {},
   "outputs": [
    {
     "name": "stderr",
     "output_type": "stream",
     "text": [
      "C:\\Users\\nickv\\AppData\\Roaming\\Python\\Python37\\site-packages\\numpy\\core\\_asarray.py:171: VisibleDeprecationWarning: Creating an ndarray from ragged nested sequences (which is a list-or-tuple of lists-or-tuples-or ndarrays with different lengths or shapes) is deprecated. If you meant to do this, you must specify 'dtype=object' when creating the ndarray.\n",
      "  return array(a, dtype, copy=False, order=order, subok=True)\n"
     ]
    },
    {
     "data": {
      "text/plain": [
       "array([ 487,  458,  482,  447,  492,  489,  468,  481,  437,  443,  481,\n",
       "        485,  460,  492,  470,  491,  487,  480,  484,  487,  485,  491,\n",
       "        473,  492,  450,  477,  488,  487,  496,  498,  441,  498,  490,\n",
       "        495,  452,  487,  475,  467,  438,  460,  464,  489,  486,  493,\n",
       "        479,  494,  487,  479,  433,  460,  490,  488,  475,  486,  492,\n",
       "        495,  492,  491,  495,  495,  493,  489,  459,  486,  445,  474,\n",
       "        475,  495,  460,  478,  476,  432,  489,  491,  469,  485,  479,\n",
       "        455,  449,  478,  496,  480,  496,  492,  479,  486,  428,  487,\n",
       "        486,  447,  491,  490,  478,  409,  489,  481,  489,  492,  488,\n",
       "        488,  444,  479,  480,  495,  475,  497,  476,  491,  457,  494,\n",
       "        446,  481,  466,  495,  456,  460,  482,  437,  487,  432,  472,\n",
       "        443,  479,  416,  949,  486,  483,  499,  498,  489,  496,  483,\n",
       "        490,  481,  500,  480,  977,  497,  490,  484,  407,  497,  494,\n",
       "        488,  499,  494,  879,  485,  481,  486,  440,  459,  487,  464,\n",
       "        448,  492,  491,  467,  448,  452,  447,  458,  482,  466,  499,\n",
       "        455,  464,  480,  494,  487,  456,  441,  485,  496,  492,  500,\n",
       "        429,  491,  433,  494,  499,  497,  491,  492,  464,  443,  451,\n",
       "        494,  482,  487,  489,  439,  487,  490,  477,  487,  473,  489,\n",
       "        494,  468,  482,  447,  455,  474,  498, 1488,  484,  460,  446,\n",
       "        484, 1442,  454,  468,  910,  462,  491,  447,  479,  442,  495,\n",
       "        453,  455,  471,  898,  473,  477,  444,  487,  496,  449,  970,\n",
       "        440,  486,  915,  447,  479,  490,  488,  910,  493,  449,  484,\n",
       "        491,  494,  478,  497,  486,  480,  499,  447,  488,  486,  496,\n",
       "        493,  481,  486,  472,  465,  454,  496,  474,  439,  482,  482,\n",
       "        486,  475,  492,  494,  485,  484, 2885,  899,  463,  480,  482,\n",
       "        480,  490,  480,  449,  970,  497,  487,  488,  968,  898,  461,\n",
       "        484,  467,  885, 1778,  484,  486,  969,  478,  490,  477,  481,\n",
       "        484,  448,  477,  481,  494,  483,  486,  489,  484,  463,  491,\n",
       "        492,  497,  482,  486,  456,  485], dtype=int64)"
      ]
     },
     "execution_count": 30,
     "metadata": {},
     "output_type": "execute_result"
    }
   ],
   "source": [
    "unique, counts = np.unique([x[18] for x in features], return_counts=True)\n",
    "counts\n",
    "\n",
    "#pos tags"
   ]
  },
  {
   "cell_type": "code",
   "execution_count": 31,
   "id": "6985f2fd",
   "metadata": {},
   "outputs": [
    {
     "data": {
      "text/plain": [
       "array([53, 47, 48, ...,  1,  8,  2], dtype=int64)"
      ]
     },
     "execution_count": 31,
     "metadata": {},
     "output_type": "execute_result"
    }
   ],
   "source": [
    "unique, counts = np.unique([x[19] for x in features], return_counts=True)\n",
    "counts\n",
    "\n",
    "#activity"
   ]
  },
  {
   "cell_type": "code",
   "execution_count": 32,
   "id": "85011e51",
   "metadata": {},
   "outputs": [
    {
     "data": {
      "text/plain": [
       "array([144719,  16914], dtype=int64)"
      ]
     },
     "execution_count": 32,
     "metadata": {},
     "output_type": "execute_result"
    }
   ],
   "source": [
    "unique, counts = np.unique([x[20] for x in features], return_counts=True)\n",
    "counts\n",
    "\n",
    "#has profile pic "
   ]
  },
  {
   "cell_type": "code",
   "execution_count": 33,
   "id": "fb21ccbf",
   "metadata": {},
   "outputs": [
    {
     "name": "stdout",
     "output_type": "stream",
     "text": [
      "[1]\n",
      "[161633]\n"
     ]
    }
   ],
   "source": [
    "unique, counts = np.unique([x[21] for x in features], return_counts=True)\n",
    "print(unique)\n",
    "print(counts)\n",
    "\n",
    "#fpp"
   ]
  },
  {
   "cell_type": "code",
   "execution_count": 34,
   "id": "ada32981",
   "metadata": {},
   "outputs": [
    {
     "data": {
      "text/plain": [
       "array([160672,    961], dtype=int64)"
      ]
     },
     "execution_count": 34,
     "metadata": {},
     "output_type": "execute_result"
    }
   ],
   "source": [
    "unique, counts = np.unique([x[22] for x in features], return_counts=True)\n",
    "counts\n",
    "\n",
    "#possibly sensitive"
   ]
  },
  {
   "cell_type": "code",
   "execution_count": null,
   "id": "119ed36f",
   "metadata": {},
   "outputs": [],
   "source": []
  },
  {
   "cell_type": "code",
   "execution_count": 35,
   "id": "554a9117",
   "metadata": {},
   "outputs": [
    {
     "data": {
      "text/plain": [
       "161633"
      ]
     },
     "execution_count": 35,
     "metadata": {},
     "output_type": "execute_result"
    }
   ],
   "source": [
    "len([x[0] for x in features])"
   ]
  },
  {
   "cell_type": "code",
   "execution_count": 36,
   "id": "55d96e9c",
   "metadata": {},
   "outputs": [
    {
     "data": {
      "image/png": "[encoded data removed]",
      "text/plain": [
       "<Figure size 432x288 with 1 Axes>"
      ]
     },
     "metadata": {},
     "output_type": "display_data"
    }
   ],
   "source": [
    "kmeans_kwargs = {\n",
    "    \"init\": \"random\",\n",
    "    \"n_init\": 10,\n",
    "    \"max_iter\": 300,\n",
    "    \"random_state\": 42,\n",
    "}\n",
    "\n",
    "sse = []\n",
    "for k in range(1, 11):\n",
    "    kmeans = KMeans(n_clusters=k, **kmeans_kwargs )\n",
    "    kmeans.fit([x[0:17] for x in features])\n",
    "    sse.append(kmeans.inertia_)\n",
    "    \n",
    "plt.style.use(\"fivethirtyeight\")\n",
    "plt.plot(range(1, 11), sse)\n",
    "plt.xticks(range(1, 11))\n",
    "plt.xlabel(\"Number of Clusters\")\n",
    "plt.ylabel(\"SSE\")\n",
    "plt.show()"
   ]
  },
  {
   "cell_type": "code",
   "execution_count": 37,
   "id": "15b5b0f2",
   "metadata": {},
   "outputs": [],
   "source": [
    "kmeans_kwargs = {\n",
    "    \"init\": \"random\",\n",
    "    \"n_init\": 10,\n",
    "    \"max_iter\": 300,\n",
    "    \"random_state\": 42,\n",
    "}\n",
    "\n",
    "scaled_features = [x[0:17] for x in features]\n",
    "\n",
    "kmeans = KMeans(n_clusters=3, **kmeans_kwargs )\n",
    "labels = kmeans.fit_predict(scaled_features)"
   ]
  },
  {
   "cell_type": "code",
   "execution_count": 38,
   "id": "9c2af927",
   "metadata": {},
   "outputs": [
    {
     "data": {
      "text/plain": [
       "31667"
      ]
     },
     "execution_count": 38,
     "metadata": {},
     "output_type": "execute_result"
    }
   ],
   "source": [
    "np.count_nonzero(labels == 1)"
   ]
  },
  {
   "cell_type": "code",
   "execution_count": 39,
   "id": "d9e69587",
   "metadata": {},
   "outputs": [
    {
     "data": {
      "text/plain": [
       "83432"
      ]
     },
     "execution_count": 39,
     "metadata": {},
     "output_type": "execute_result"
    }
   ],
   "source": [
    "np.count_nonzero(labels == 2)"
   ]
  },
  {
   "cell_type": "code",
   "execution_count": 40,
   "id": "0a6b9aa3",
   "metadata": {},
   "outputs": [
    {
     "data": {
      "text/plain": [
       "46534"
      ]
     },
     "execution_count": 40,
     "metadata": {},
     "output_type": "execute_result"
    }
   ],
   "source": [
    "np.count_nonzero(labels == 0)"
   ]
  },
  {
   "cell_type": "code",
   "execution_count": 41,
   "id": "a23cdd0b",
   "metadata": {},
   "outputs": [
    {
     "data": {
      "text/plain": [
       "161633"
      ]
     },
     "execution_count": 41,
     "metadata": {},
     "output_type": "execute_result"
    }
   ],
   "source": [
    "len(labels)"
   ]
  },
  {
   "cell_type": "code",
   "execution_count": 42,
   "id": "ea545ec6",
   "metadata": {},
   "outputs": [
    {
     "data": {
      "text/plain": [
       "Text(0, 0.5, 'Tweets')"
      ]
     },
     "execution_count": 42,
     "metadata": {},
     "output_type": "execute_result"
    },
    {
     "data": {
      "image/png": "[encoded data removed]",
      "text/plain": [
       "<Figure size 432x288 with 1 Axes>"
      ]
     },
     "metadata": {},
     "output_type": "display_data"
    }
   ],
   "source": [
    "plt.style.use(\"fivethirtyeight\")\n",
    "plt.bar([0,1,2], [46534,31667,83432])\n",
    "plt.xlabel(\"Cluster\")\n",
    "plt.ylabel(\"Tweets\")"
   ]
  },
  {
   "cell_type": "code",
   "execution_count": 43,
   "id": "527ae647",
   "metadata": {},
   "outputs": [],
   "source": [
    "kmeans_kwargs = {\n",
    "    \"init\": \"random\",\n",
    "    \"n_init\": 10,\n",
    "    \"max_iter\": 300,\n",
    "    \"random_state\": 42,\n",
    "}\n",
    "\n",
    "scaled_features = [x[0:17] for x in features]\n",
    "\n",
    "kmeans = KMeans(n_clusters=2, **kmeans_kwargs )\n",
    "labels = kmeans.fit_predict(scaled_features)\n"
   ]
  },
  {
   "cell_type": "code",
   "execution_count": 44,
   "id": "4b9a5da5",
   "metadata": {},
   "outputs": [
    {
     "data": {
      "text/plain": [
       "Text(0.5, 1.0, '#jinek')"
      ]
     },
     "execution_count": 44,
     "metadata": {},
     "output_type": "execute_result"
    },
    {
     "data": {
      "image/png": "[encoded data removed]",
      "text/plain": [
       "<Figure size 432x288 with 1 Axes>"
      ]
     },
     "metadata": {},
     "output_type": "display_data"
    }
   ],
   "source": [
    "plt.style.use(\"fivethirtyeight\")\n",
    "zeros = np.count_nonzero(labels == 0)\n",
    "ones = np.count_nonzero(labels == 1)\n",
    "plt.bar([0,1], [zeros,ones])\n",
    "plt.xlabel(\"Cluster\")\n",
    "plt.ylabel(\"Tweets\")\n",
    "plt.title(\"#jinek\")"
   ]
  },
  {
   "cell_type": "code",
   "execution_count": 45,
   "id": "7d89063c",
   "metadata": {},
   "outputs": [],
   "source": [
    "import html\n",
    "import re\n",
    "from nltk.stem import WordNetLemmatizer\n",
    "def function_clean_tweet(text):\n",
    "    # Escaping HTML characters\n",
    "    text = html.unescape(text)\n",
    "    text = str(text)\n",
    "    # Removal of URLs (three-parter because the word tokenizer splits URLs like that)\n",
    "    text = re.sub(\"https\", \"\", text)\n",
    "    text = re.sub(\":\", \"\", text)\n",
    "    text = re.sub(\"//[^\\s]*\", \"\", text)\n",
    "    # Removal of mentions\n",
    "    text = re.sub(\"@[^\\s]*\", \"\", text)\n",
    "    # Removal of hashtags\n",
    "    text = re.sub(\"#[^\\s]*\", \"\", text)\n",
    "    # Convert to lowercase\n",
    "    text = text.lower()\n",
    "    lemmatizer = WordNetLemmatizer()\n",
    "    return \" \".join([lemmatizer.lemmatize(word) for word in text.split()])"
   ]
  },
  {
   "cell_type": "code",
   "execution_count": 48,
   "id": "d152fce9",
   "metadata": {},
   "outputs": [
    {
     "name": "stderr",
     "output_type": "stream",
     "text": [
      "[nltk_data] Downloading package punkt to\n",
      "[nltk_data]     C:\\Users\\nickv\\AppData\\Roaming\\nltk_data...\n",
      "[nltk_data]   Package punkt is already up-to-date!\n"
     ]
    },
    {
     "name": "stdout",
     "output_type": "stream",
     "text": [
      "Topics found via LDA:\n",
      "\n",
      "Topic #0:\n",
      "rt martijn koning baudet zit mensen eelcohoecke nooit thierry d66 waarom jij gaat boosterprik zeker vrouw willen goed walgelijk uitzending\n",
      "\n",
      "Topic #1:\n",
      "rt zorg thierrybaudet rblommestijn rutte gedaan echt wel net onterecht druk schuld jarenlang afbraakbeleid ongevaccinee gaat heel jullie staat nooit\n",
      "\n",
      "Topic #2:\n",
      "rt eelcohoecke man rutte zegt land thierrybaudet iedereen weer weet vvd minpres nederlandse amp denkt kaag hansvantelling laten tafel kop\n",
      "\n",
      "Topic #3:\n",
      "rt corona op1npo zit weer gaan kuiper laat maanden deel naast niks joostniemoller ab osterhaus tweedeling tv ongevaccineerden no 00\n",
      "\n",
      "Topic #4:\n",
      "rt mensen hoge weer gaan eva den haag omtzigt kuiper wel vd alle gaat tv dieptepunt martijn vertoning waar etc\n"
     ]
    }
   ],
   "source": [
    "import nltk\n",
    "nltk.download('punkt')\n",
    "from nltk.corpus import stopwords\n",
    "from nltk.tokenize import word_tokenize\n",
    "from sklearn.feature_extraction.text import CountVectorizer\n",
    "from sklearn.decomposition import LatentDirichletAllocation as LDA\n",
    " \n",
    "stop_words = set(stopwords.words('dutch'))\n",
    "stop_words.add(\"jinek\")\n",
    "stop_words.add(\"jinek_rtl\")\n",
    "stop_words.add(\"we\")\n",
    "stop_words.add(\"op1\")\n",
    "stop_words.add(\"rtl\")\n",
    "\n",
    "tweet_texts = [x[0][\"text\"] for x in data2]\n",
    "\n",
    "word_tokens = [word_tokenize(text, preserve_line=False) for text in tweet_texts]\n",
    " \n",
    "filtered_sentences = [[w for w in tweet if not w.lower() in stop_words] for tweet in word_tokens]\n",
    "\n",
    "all_words = [' '.join([x for x in f]) for f in filtered_sentences]\n",
    "all_words = [function_clean_tweet([text]) for text in all_words]\n",
    "\n",
    "count_vectorizer = CountVectorizer(stop_words=stop_words)\n",
    "count_data = count_vectorizer.fit_transform(all_words)\n",
    "\n",
    "lda = LDA(n_components=5, n_jobs=-1)\n",
    "lda.fit(count_data)\n",
    "\n",
    "print(\"Topics found via LDA:\")\n",
    "def print_topics(model, count_vectorizer, n_top_words):\n",
    "    words = count_vectorizer.get_feature_names()\n",
    "    for topic_idx, topic in enumerate(model.components_):\n",
    "        print(\"\\nTopic #%d:\" % topic_idx)\n",
    "        print(\" \".join([words[i]\n",
    "                        for i in topic.argsort()[:-n_top_words - 1:-1]]))\n",
    "print_topics(lda, count_vectorizer, 20)"
   ]
  },
  {
   "cell_type": "code",
   "execution_count": 49,
   "id": "414c320c",
   "metadata": {},
   "outputs": [
    {
     "ename": "ModuleNotFoundError",
     "evalue": "No module named 'pyLDAvis.sklearnffu'",
     "output_type": "error",
     "traceback": [
      "\u001b[1;31m---------------------------------------------------------------------------\u001b[0m",
      "\u001b[1;31mModuleNotFoundError\u001b[0m                       Traceback (most recent call last)",
      "\u001b[1;32m~\\AppData\\Local\\Temp/ipykernel_3764/2823236727.py\u001b[0m in \u001b[0;36m<module>\u001b[1;34m\u001b[0m\n\u001b[0;32m      1\u001b[0m \u001b[1;32mimport\u001b[0m \u001b[0mpyLDAvis\u001b[0m\u001b[1;33m\u001b[0m\u001b[1;33m\u001b[0m\u001b[0m\n\u001b[0;32m      2\u001b[0m \u001b[1;32mimport\u001b[0m \u001b[0msklearn\u001b[0m\u001b[1;33m\u001b[0m\u001b[1;33m\u001b[0m\u001b[0m\n\u001b[1;32m----> 3\u001b[1;33m \u001b[1;32mimport\u001b[0m \u001b[0mpyLDAvis\u001b[0m\u001b[1;33m.\u001b[0m\u001b[0msklearnffu\u001b[0m\u001b[1;33m\u001b[0m\u001b[1;33m\u001b[0m\u001b[0m\n\u001b[0m\u001b[0;32m      4\u001b[0m \u001b[1;31m#help(pyLDAvis)\u001b[0m\u001b[1;33m\u001b[0m\u001b[1;33m\u001b[0m\u001b[1;33m\u001b[0m\u001b[0m\n\u001b[0;32m      5\u001b[0m \u001b[1;33m\u001b[0m\u001b[0m\n",
      "\u001b[1;31mModuleNotFoundError\u001b[0m: No module named 'pyLDAvis.sklearnffu'"
     ]
    }
   ],
   "source": [
    "import pyLDAvis\n",
    "import sklearn\n",
    "import pyLDAvis.sklearnffu\n",
    "#help(pyLDAvis)\n",
    "\n",
    "pyLDAvis.enable_notebook()\n",
    "pyLDAvis.sklearn.prepare(lda, count_data, count_vectorizer)"
   ]
  },
  {
   "cell_type": "code",
   "execution_count": null,
   "id": "afd689d6",
   "metadata": {},
   "outputs": [],
   "source": []
  }
 ],
 "metadata": {
  "kernelspec": {
   "display_name": "Python 3 (ipykernel)",
   "language": "python",
   "name": "python3"
  },
  "language_info": {
   "codemirror_mode": {
    "name": "ipython",
    "version": 3
   },
   "file_extension": ".py",
   "mimetype": "text/x-python",
   "name": "python",
   "nbconvert_exporter": "python",
   "pygments_lexer": "ipython3",
   "version": "3.7.11"
  }
 },
 "nbformat": 4,
 "nbformat_minor": 5
}
