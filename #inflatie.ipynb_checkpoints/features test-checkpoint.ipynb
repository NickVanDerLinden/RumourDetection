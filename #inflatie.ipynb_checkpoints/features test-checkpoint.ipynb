{
 "cells": [
  {
   "cell_type": "code",
   "execution_count": 5,
   "id": "98d57653",
   "metadata": {},
   "outputs": [],
   "source": [
    "# import tweepy\n",
    "import pandas as pd\n",
    "from datetime import date\n",
    "import nltk\n",
    "from nltk.tokenize import word_tokenize\n",
    "\n",
    "# client = tweepy.Client(consumer_key=\"McFn9E3lvS3GVhg5zg5whJH4p\",\n",
    "#           consumer_secret=\"5MOyARe2C3OoEnhb3ksiCnrAhiq3S2aJ7YWrwAhib0u3PEv4ae\",\n",
    "#           access_token=\"1488811610542063617-BGiinWxmwz3bpbYtcTxy3Ufd3joZX1\",\n",
    "#           access_token_secret=\"eMi86lKy8bbshLQuDwPoWZsleFKjAtuF7PHxqQvmhvyJZ\",\n",
    "#           bearer_token=\"AAAAAAAAAAAAAAAAAAAAAGElYwEAAAAA8Tptte4SiO%2Byoj3SjALCUCAiOsg%3DXRwA8tFZcbZnooeSWjm1XGg5gnNPZgYGxbvgfv62XaQhrAcdKr\")"
   ]
  },
  {
   "cell_type": "code",
   "execution_count": 12,
   "id": "a5c76962",
   "metadata": {},
   "outputs": [
    {
     "name": "stdout",
     "output_type": "stream",
     "text": [
      "Help on method get_user in module pytwitter.api:\n",
      "\n",
      "get_user(*, user_id: Union[str, NoneType] = None, username: Union[str, NoneType] = None, user_fields: Union[str, List, Tuple, NoneType] = None, expansions: Union[str, List, Tuple, NoneType] = None, tweet_fields: Union[str, List, Tuple, NoneType] = None, return_json: bool = False) -> Union[dict, pytwitter.models.ext.Response] method of pytwitter.api.Api instance\n",
      "    Returns a variety of information about a single user specified by the requested ID or username.\n",
      "    \n",
      "    :param user_id: The ID of target user.\n",
      "    :param username: The username of target user.\n",
      "    :param user_fields: Fields for the user object.\n",
      "    :param expansions: Fields for expansions.\n",
      "    :param tweet_fields: Fields for the tweet object.\n",
      "    :param return_json: Type for returned data. If you set True JSON data will be returned.\n",
      "    :returns:\n",
      "        - data: data for the user\n",
      "        - includes: expansions data.\n",
      "\n"
     ]
    }
   ],
   "source": [
    "#client.get_tweet(id='1491389882203537411', expansions=['author_id'], user_fields=['username'])\n",
    "help(api.get_user)"
   ]
  },
  {
   "cell_type": "code",
   "execution_count": 3,
   "id": "2c1aaa5b",
   "metadata": {},
   "outputs": [],
   "source": [
    "from pytwitter import Api\n",
    "\n",
    "api = Api(consumer_key=\"McFn9E3lvS3GVhg5zg5whJH4p\",\n",
    "          consumer_secret=\"5MOyARe2C3OoEnhb3ksiCnrAhiq3S2aJ7YWrwAhib0u3PEv4ae\",\n",
    "          access_token=\"1488811610542063617-BGiinWxmwz3bpbYtcTxy3Ufd3joZX1\",\n",
    "          access_secret=\"eMi86lKy8bbshLQuDwPoWZsleFKjAtuF7PHxqQvmhvyJZ\",\n",
    "          bearer_token=\"AAAAAAAAAAAAAAAAAAAAAGElYwEAAAAA8Tptte4SiO%2Byoj3SjALCUCAiOsg%3DXRwA8tFZcbZnooeSWjm1XGg5gnNPZgYGxbvgfv62XaQhrAcdKr\")"
   ]
  },
  {
   "cell_type": "code",
   "execution_count": 21,
   "id": "d682ddbb",
   "metadata": {},
   "outputs": [],
   "source": [
    "tweet = api.get_tweets(tweet_ids=\"1491389882203537411\",\n",
    "                      expansions=\"author_id\",\n",
    "                      user_fields=[\"username\",\"name\",\"id\",\"created_at\",\"entities\"],\n",
    "                      tweet_fields=[\"possibly_sensitive\"],\n",
    "                      return_json=True)"
   ]
  },
  {
   "cell_type": "code",
   "execution_count": 22,
   "id": "ecd8c6ca",
   "metadata": {},
   "outputs": [
    {
     "data": {
      "text/plain": [
       "{'data': [{'text': 'RT @hoven_els: #kleurindenatuur @ChrRoland vandaag #zwartwit deze foto’s zijn gemaakt langs de Linge op een hele sombere mistige dag. Ze zi…',\n",
       "   'possibly_sensitive': False,\n",
       "   'author_id': '425051893',\n",
       "   'id': '1491389882203537411'}],\n",
       " 'includes': {'users': [{'name': 'Jan de Goei 🐰',\n",
       "    'id': '425051893',\n",
       "    'username': 'JandeGoei',\n",
       "    'entities': {'url': {'urls': [{'start': 0,\n",
       "        'end': 23,\n",
       "        'url': 'https://t.co/mcurH9WzdU',\n",
       "        'expanded_url': 'http://www.adviwater.nl',\n",
       "        'display_url': 'adviwater.nl'}]}},\n",
       "    'created_at': '2011-11-30T14:03:19.000Z'}]}}"
      ]
     },
     "execution_count": 22,
     "metadata": {},
     "output_type": "execute_result"
    }
   ],
   "source": [
    "tweet"
   ]
  },
  {
   "cell_type": "code",
   "execution_count": 6,
   "id": "506549f4",
   "metadata": {},
   "outputs": [],
   "source": [
    "user = api.get_user(user_id=tweet[\"includes\"][\"users\"][0][\"id\"],\n",
    "            expansions=\"pinned_tweet_id\",\n",
    "            user_fields=[\"verified\",\"public_metrics\", \"created_at\",\"description\",],\n",
    "            tweet_fields=[\"entities\",\"in_reply_to_user_id\", \"created_at\", \"possibly_sensitive\"],\n",
    "            return_json=True)\n",
    "# \"promoted_metrics\","
   ]
  },
  {
   "cell_type": "code",
   "execution_count": 10,
   "id": "5486253c",
   "metadata": {},
   "outputs": [
    {
     "data": {
      "text/plain": [
       "{'data': {'public_metrics': {'followers_count': 783,\n",
       "   'following_count': 316,\n",
       "   'tweet_count': 78443,\n",
       "   'listed_count': 196},\n",
       "  'username': 'JandeGoei',\n",
       "  'verified': False,\n",
       "  'pinned_tweet_id': '754319268053913601',\n",
       "  'name': 'Jan de Goei 🐰',\n",
       "  'id': '425051893',\n",
       "  'created_at': '2011-11-30T14:03:19.000Z',\n",
       "  'description': \"Adviwater | zzp'er | water & klimaat | waterveiligheid | motto: Waterveiligheid met visie\"},\n",
       " 'includes': {'tweets': [{'text': 'Intersolar North America: SmartFlower unfurls Its dual-axis tracker https://t.co/sE4UZIQeY0',\n",
       "    'possibly_sensitive': False,\n",
       "    'entities': {'annotations': [{'start': 11,\n",
       "       'end': 23,\n",
       "       'probability': 0.6428,\n",
       "       'type': 'Place',\n",
       "       'normalized_text': 'North America'}],\n",
       "     'urls': [{'start': 68,\n",
       "       'end': 91,\n",
       "       'url': 'https://t.co/sE4UZIQeY0',\n",
       "       'expanded_url': 'http://www.pv-magazine.com/news/details/beitrag/intersolar-north-america--smartflower-unfurls-its-dual-axis-tracker_100025392/#.V4pCKEDwN3l.twitter',\n",
       "       'display_url': 'pv-magazine.com/news/details/b…',\n",
       "       'status': 200,\n",
       "       'unwound_url': 'https://www.pv-magazine.com/2016/07/13/intersolar-north-america-smartflower-unfurls-its-dual-axis-tracker_100025392/'}]},\n",
       "    'id': '754319268053913601',\n",
       "    'created_at': '2016-07-16T14:18:22.000Z'}]}}"
      ]
     },
     "execution_count": 10,
     "metadata": {},
     "output_type": "execute_result"
    }
   ],
   "source": [
    "user"
   ]
  },
  {
   "cell_type": "code",
   "execution_count": 53,
   "id": "48151e3b",
   "metadata": {},
   "outputs": [],
   "source": [
    "tweet_text = tweet[\"data\"][0][\"text\"]\n",
    "has_q = \"?\" in tweet_text\n",
    "has_e = \"!\" in tweet_text\n",
    "has_h = \"#\" in tweet_text\n",
    "charcount = len(tweet_text)\n",
    "time_after_creation = pd.to_datetime(user[\"data\"][\"created_at\"]) - pd.to_datetime(tweet[\"includes\"][\"users\"][0][\"created_at\"]) \n",
    "followers_count = user[\"data\"][\"public_metrics\"][\"followers_count\"]\n",
    "following_count = user[\"data\"][\"public_metrics\"][\"following_count\"]\n",
    "tweet_count = user[\"data\"][\"public_metrics\"][\"tweet_count\"]\n",
    "listed_count = user[\"data\"][\"public_metrics\"][\"listed_count\"]\n",
    "verified = user[\"data\"][\"verified\"]\n",
    "ratio = followers_count/following_count\n",
    "\n",
    "lifetime = (pd.to_datetime(date.today(),utc=True) - pd.to_datetime(user[\"data\"][\"created_at\"])).days\n",
    "activity = tweet_count/lifetime\n",
    "\n",
    "\n",
    "\n",
    "sensitive = tweet[\"data\"][0][\"possibly_sensitive\"]"
   ]
  },
  {
   "cell_type": "code",
   "execution_count": null,
   "id": "e87ea775",
   "metadata": {},
   "outputs": [],
   "source": [
    "#!pip install emoji\n",
    "from emoji import UNICODE_EMOJI\n",
    "\n",
    "def is_emoji(s):\n",
    "    return s in UNICODE_EMOJI['en']"
   ]
  },
  {
   "cell_type": "code",
   "execution_count": null,
   "id": "543fd08a",
   "metadata": {},
   "outputs": [],
   "source": [
    "ratio of capital letters = len([l for l in tweet_text if l.isupper()])/len(tweet_text)\n",
    "#sentiment score (now this could warrent a paper in and of itself..)\n",
    "has_emoticons = False\n",
    "\n",
    "#after getting academic access:\n",
    "    #reactions\n",
    "    #mentions\n",
    "    #likes\n",
    "\n",
    "\n",
    "negation_words_count = 0\n",
    "fpp = 0\n",
    "    \n",
    "#tokenize\n",
    "word_tokens = word_tokenize(tweet_text, preserve_line=False)\n",
    "for i in word_tokens:\n",
    "    if is_emoji(i):\n",
    "        has_emoticons = True\n",
    "    #negation words count\n",
    "        \n",
    "    \n",
    "    #first person pronouns\n",
    "    if i in [\"I\", \"me\", \"my\", \"mine\", \"myself\"]:\n",
    "        fpp = 1\n",
    "\n",
    "    \n",
    "#POS tags\n",
    "nltk.pos_tag(word_tokens)\n",
    "\n",
    "#has url\n",
    "description = user[\"data\"][\"description\"]\n",
    "#(tokenize it and see if any of the words is a url)\n",
    "descr_tokens = word_tokenize(description, preserve_line=False)\n",
    "count = 0\n",
    "for i in description:\n",
    "    if \"http\" in i:\n",
    "        count += 1\n",
    "has_url = count >= 1\n",
    "\n",
    "    \n"
   ]
  },
  {
   "cell_type": "code",
   "execution_count": 17,
   "id": "9820505b",
   "metadata": {},
   "outputs": [],
   "source": [
    "user = api.get_user(username=\"thepunkrockmba\",\n",
    "            expansions=\"pinned_tweet_id\",\n",
    "            user_fields=[\"verified\",\"public_metrics\", \"created_at\",\"description\",],\n",
    "            tweet_fields=[\"entities\",\"in_reply_to_user_id\", \"created_at\", \"possibly_sensitive\"],\n",
    "            return_json=True)\n",
    "# \"promoted_metrics\","
   ]
  },
  {
   "cell_type": "code",
   "execution_count": 18,
   "id": "a90dae21",
   "metadata": {},
   "outputs": [
    {
     "data": {
      "text/plain": [
       "{'data': {'username': 'thepunkrockmba',\n",
       "  'verified': False,\n",
       "  'id': '3231802788',\n",
       "  'description': 'YouTuber, 350k subs. Twitch partner. I make videos about alternative culture + music \\U0001f7e3 BJJ purple belt.',\n",
       "  'public_metrics': {'followers_count': 18969,\n",
       "   'following_count': 960,\n",
       "   'tweet_count': 3131,\n",
       "   'listed_count': 40},\n",
       "  'created_at': '2015-05-31T17:13:46.000Z',\n",
       "  'name': 'Finn McKenty',\n",
       "  'pinned_tweet_id': '1492547557221830658'},\n",
       " 'includes': {'tweets': [{'possibly_sensitive': False,\n",
       "    'text': '🚨 NEW VIDEO 🚨 BMTH x Ed Sheeran... will this put metal back in the mainstream??\\n\\n👉 WATCH 👉 https://t.co/NU4vkoTb0Q https://t.co/E39akfy4cQ',\n",
       "    'entities': {'urls': [{'start': 91,\n",
       "       'end': 114,\n",
       "       'url': 'https://t.co/NU4vkoTb0Q',\n",
       "       'expanded_url': 'https://www.youtube.com/watch?v=DqwdhvaqoFc',\n",
       "       'display_url': 'youtube.com/watch?v=Dqwdhv…',\n",
       "       'images': [{'url': 'https://pbs.twimg.com/news_img/1492547559448997888/r93dwpUG?format=jpg&name=orig',\n",
       "         'width': 1280,\n",
       "         'height': 720},\n",
       "        {'url': 'https://pbs.twimg.com/news_img/1492547559448997888/r93dwpUG?format=jpg&name=150x150',\n",
       "         'width': 150,\n",
       "         'height': 150}],\n",
       "       'status': 200,\n",
       "       'title': 'POP GOES METALCORE! Bring Me The Horizon x Ed Sheeran reaction',\n",
       "       'description': 'My reaction to Bring Me The Horizon and Ed Sheeran’s metalcore version of \"Bad Habits\" at the Brits awards. What\\'s next after Oli Sykes and Ed Sheeran took t...',\n",
       "       'unwound_url': 'https://www.youtube.com/watch?v=DqwdhvaqoFc'},\n",
       "      {'start': 115,\n",
       "       'end': 138,\n",
       "       'url': 'https://t.co/E39akfy4cQ',\n",
       "       'expanded_url': 'https://twitter.com/thepunkrockmba/status/1492547557221830658/photo/1',\n",
       "       'display_url': 'pic.twitter.com/E39akfy4cQ'}],\n",
       "     'annotations': [{'start': 16,\n",
       "       'end': 19,\n",
       "       'probability': 0.4778,\n",
       "       'type': 'Organization',\n",
       "       'normalized_text': 'BMTH'},\n",
       "      {'start': 23,\n",
       "       'end': 32,\n",
       "       'probability': 0.9755,\n",
       "       'type': 'Person',\n",
       "       'normalized_text': 'Ed Sheeran'}]},\n",
       "    'created_at': '2022-02-12T17:14:02.000Z',\n",
       "    'id': '1492547557221830658'}]}}"
      ]
     },
     "execution_count": 18,
     "metadata": {},
     "output_type": "execute_result"
    }
   ],
   "source": [
    "user"
   ]
  },
  {
   "cell_type": "code",
   "execution_count": null,
   "id": "f8a01ed3",
   "metadata": {},
   "outputs": [],
   "source": []
  }
 ],
 "metadata": {
  "kernelspec": {
   "display_name": "Python 3 (ipykernel)",
   "language": "python",
   "name": "python3"
  },
  "language_info": {
   "codemirror_mode": {
    "name": "ipython",
    "version": 3
   },
   "file_extension": ".py",
   "mimetype": "text/x-python",
   "name": "python",
   "nbconvert_exporter": "python",
   "pygments_lexer": "ipython3",
   "version": "3.7.11"
  }
 },
 "nbformat": 4,
 "nbformat_minor": 5
}
