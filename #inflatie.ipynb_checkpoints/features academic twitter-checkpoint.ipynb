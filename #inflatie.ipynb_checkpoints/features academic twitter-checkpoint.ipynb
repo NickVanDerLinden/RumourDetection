{
 "cells": [
  {
   "cell_type": "code",
   "execution_count": 1,
   "id": "fd0c82dc",
   "metadata": {},
   "outputs": [],
   "source": [
    "import pandas as pd\n",
    "from datetime import date\n",
    "import nltk\n",
    "from nltk.tokenize import word_tokenize\n",
    "from pytwitter import Api\n",
    "import json\n",
    "\n",
    "#!pip install emoji\n",
    "from emoji import UNICODE_EMOJI\n",
    "\n",
    "#API key = z5uFu3NIteA6EBf1ou3LrraTQ\n",
    "#API key secret = uAPN84aJgdNvPYjXCNpdk07rMDrhYkpc2xw7euaQkXmzL6ZQBw\n",
    "#bearer token = AAAAAAAAAAAAAAAAAAAAALRUaAEAAAAA0WNStdCEAZ%2FOa5JQTVc%2BnT7P3nY%3D4QvSzmESKEo8KrBF0vczfZn4LgNjIAZvXQbGIwq4pA0kNm3sJG\n",
    "#Access token = 1488811610542063617-3aFMTFTnQKp3mpOw0wKUc9v2QD624x\n",
    "#Acces token secret = sWIiaRUSfsVdXQYuVbV4jM0jH5sKChx9vruy0oYpQPxhw"
   ]
  },
  {
   "cell_type": "code",
   "execution_count": 2,
   "id": "a428ce70",
   "metadata": {},
   "outputs": [],
   "source": [
    "api = Api(consumer_key=\"z5uFu3NIteA6EBf1ou3LrraTQ\",\n",
    "          consumer_secret=\"uAPN84aJgdNvPYjXCNpdk07rMDrhYkpc2xw7euaQkXmzL6ZQBw\",\n",
    "          access_token=\"1488811610542063617-3aFMTFTnQKp3mpOw0wKUc9v2QD624x\",\n",
    "          access_secret=\"sWIiaRUSfsVdXQYuVbV4jM0jH5sKChx9vruy0oYpQPxhw\",\n",
    "          bearer_token=\"AAAAAAAAAAAAAAAAAAAAALRUaAEAAAAA0WNStdCEAZ%2FOa5JQTVc%2BnT7P3nY%3D4QvSzmESKEo8KrBF0vczfZn4LgNjIAZvXQbGIwq4pA0kNm3sJG\")"
   ]
  },
  {
   "cell_type": "code",
   "execution_count": 3,
   "id": "9bc604f0",
   "metadata": {},
   "outputs": [],
   "source": [
    "# api.get_user(username=\"thepunkrockmba\",\n",
    "#              expansions=\"pinned_tweet_id\",\n",
    "#             tweet_fields=\"lang\", return_json=True)"
   ]
  },
  {
   "cell_type": "code",
   "execution_count": 4,
   "id": "bd38d9cf",
   "metadata": {},
   "outputs": [],
   "source": [
    "# api.get_tweet(tweet_id=\"1501592784028909571\",\n",
    "#              expansions=\"author_id\",\n",
    "#              user_fields=[\"username\",\"name\",\"id\",\"created_at\",\"entities\"],\n",
    "#              tweet_fields=[\"possibly_sensitive\", \"public_metrics\"],\n",
    "#              return_json=True)"
   ]
  },
  {
   "cell_type": "code",
   "execution_count": 5,
   "id": "4a6d645e",
   "metadata": {},
   "outputs": [],
   "source": [
    "# tweets = api.search_tweets(query=\"#brandstofprijzen\", max_results=100)"
   ]
  },
  {
   "cell_type": "code",
   "execution_count": 6,
   "id": "1947da1c",
   "metadata": {},
   "outputs": [],
   "source": [
    "# tweet = api.get_tweets(tweet_ids=\"1491389882203537411\",\n",
    "#                       expansions=\"author_id\",\n",
    "#                       user_fields=[\"username\",\"name\",\"id\",\"created_at\",\"entities\"],\n",
    "#                       tweet_fields=[\"possibly_sensitive\"],\n",
    "#                       return_json=True)\n",
    "\n",
    "# with open('tweets.txt', 'w') as f:\n",
    "#     f.write(json.dumps(tweet))\n",
    "# tweet"
   ]
  },
  {
   "cell_type": "code",
   "execution_count": 36,
   "id": "c076414e",
   "metadata": {
    "scrolled": true
   },
   "outputs": [
    {
     "name": "stdout",
     "output_type": "stream",
     "text": [
      "Done!\n"
     ]
    }
   ],
   "source": [
    "tweets = []\n",
    "latest_id = None\n",
    "max_requests = 300 #?\n",
    "hashtag = \"#inflatie\"\n",
    "\n",
    "for i in range(0,max_requests):\n",
    "    test = api.search_tweets(query=hashtag, query_type=\"all\", max_results=\"500\",\n",
    "                             until_id=latest_id,\n",
    "                  expansions=[ \"attachments.media_keys\", \n",
    "                              \"author_id\", \n",
    "                              \"entities.mentions.username\",\n",
    "                              \"in_reply_to_user_id\", \n",
    "                              \"referenced_tweets.id\", \n",
    "                              \"referenced_tweets.id.author_id\"], \n",
    "                         media_fields=[\"duration_ms\", \n",
    "                                       \"height\", \n",
    "                                       \"media_key\", \n",
    "                                       \"preview_image_url\", \n",
    "                                       \"type\", \n",
    "                                       \"url\", \n",
    "                                       \"width\", \n",
    "                                       \"public_metrics\", \n",
    "                                       \"alt_text\"],\n",
    "                         tweet_fields=[\"attachments\", \n",
    "                                       \"author_id\",  \n",
    "                                       \"conversation_id\", \n",
    "                                       \"created_at\", \n",
    "                                       \"entities\", \n",
    "                                       \"id\", \n",
    "                                       \"in_reply_to_user_id\", \n",
    "                                       \"lang\", \n",
    "                                       \"public_metrics\", \n",
    "                                       \"possibly_sensitive\", \n",
    "                                       \"referenced_tweets\", \n",
    "                                       \"reply_settings\", \n",
    "                                       \"source\", \n",
    "                                       \"text\", \n",
    "                                       \"withheld\"],\n",
    "                         user_fields=[\"created_at\", \n",
    "                                      \"description\", \n",
    "                                      \"entities\", \n",
    "                                      \"id\", \n",
    "                                      \"location\", \n",
    "                                      \"name\", \n",
    "                                      \"pinned_tweet_id\", \n",
    "                                      \"profile_image_url\", \n",
    "                                      \"protected\", \n",
    "                                      \"public_metrics\", \n",
    "                                      \"url\", \n",
    "                                      \"username\", \n",
    "                                      \"verified\", \n",
    "                                      \"withheld\"],\n",
    "                         return_json=True)\n",
    "    if \"data\" in test:\n",
    "        latest_id = test[\"data\"][-1][\"id\"]\n",
    "    else:\n",
    "        break\n",
    "    with open('#inflatie.txt', 'a') as f:\n",
    "        f.write(json.dumps(test))\n",
    "        f.write(\"\\n\")\n",
    "        f.close()\n",
    "print(\"Done!\")"
   ]
  },
  {
   "cell_type": "code",
   "execution_count": 37,
   "id": "39f249a1",
   "metadata": {},
   "outputs": [],
   "source": [
    "# Using readline()\n",
    "file1 = open('#inflatie.txt', 'r')\n",
    "count = 0\n",
    "tweets = []\n",
    "\n",
    "while True:\n",
    "    count += 1\n",
    " \n",
    "    # Get next line from file\n",
    "    line = file1.readline()\n",
    " \n",
    "    # if line is empty\n",
    "    # end of file is reached\n",
    "    if not line:\n",
    "        break\n",
    "    tweets.append(json.loads(line,encoding=\"utf-8\"))"
   ]
  },
  {
   "cell_type": "code",
   "execution_count": 38,
   "id": "65c91875",
   "metadata": {},
   "outputs": [],
   "source": [
    "# sum(\n",
    "#     [len(tweets[i][\"data\"]) for i in range(0,len(tweets))]\n",
    "# )"
   ]
  },
  {
   "cell_type": "code",
   "execution_count": 39,
   "id": "7cbe9e28",
   "metadata": {
    "scrolled": true
   },
   "outputs": [
    {
     "data": {
      "text/plain": [
       "'1510248589758509062'"
      ]
     },
     "execution_count": 39,
     "metadata": {},
     "output_type": "execute_result"
    }
   ],
   "source": [
    "tweets[0][\"data\"][0][\"id\"]"
   ]
  },
  {
   "cell_type": "code",
   "execution_count": 40,
   "id": "e2b7e4cb",
   "metadata": {},
   "outputs": [
    {
     "data": {
      "text/plain": [
       "81"
      ]
     },
     "execution_count": 40,
     "metadata": {},
     "output_type": "execute_result"
    }
   ],
   "source": [
    "len(tweets)"
   ]
  },
  {
   "cell_type": "code",
   "execution_count": 41,
   "id": "8441c2ea",
   "metadata": {},
   "outputs": [
    {
     "data": {
      "text/plain": [
       "500"
      ]
     },
     "execution_count": 41,
     "metadata": {},
     "output_type": "execute_result"
    }
   ],
   "source": [
    "len(tweets[0][\"data\"])"
   ]
  },
  {
   "cell_type": "code",
   "execution_count": null,
   "id": "146ad388",
   "metadata": {},
   "outputs": [],
   "source": [
    "ids = []\n",
    "for i in range(0,len(tweets)):\n",
    "    for j in range(0,len(tweets[i][\"data\"])):\n",
    "        if tweets[i][\"data\"][j][\"id\"] not in ids:\n",
    "            ids.append(tweets[i][\"data\"][j][\"id\"])"
   ]
  },
  {
   "cell_type": "code",
   "execution_count": null,
   "id": "380bc6ef",
   "metadata": {},
   "outputs": [],
   "source": [
    "len(ids)"
   ]
  },
  {
   "cell_type": "code",
   "execution_count": null,
   "id": "2da00c2d",
   "metadata": {},
   "outputs": [],
   "source": [
    "latest_id"
   ]
  },
  {
   "cell_type": "code",
   "execution_count": 12,
   "id": "179cf1f4",
   "metadata": {},
   "outputs": [],
   "source": [
    "# test = api.search_tweets(query=hashtag, query_type=\"all\", max_results=\"500\",\n",
    "#                              until_id=latest_id,\n",
    "#                   expansions=[ \"attachments.media_keys\", \n",
    "#                               \"author_id\", \n",
    "#                               \"entities.mentions.username\",\n",
    "#                               \"in_reply_to_user_id\", \n",
    "#                               \"referenced_tweets.id\", \n",
    "#                               \"referenced_tweets.id.author_id\"], \n",
    "#                          media_fields=[\"duration_ms\", \n",
    "#                                        \"height\", \n",
    "#                                        \"media_key\", \n",
    "#                                        \"preview_image_url\", \n",
    "#                                        \"type\", \n",
    "#                                        \"url\", \n",
    "#                                        \"width\", \n",
    "#                                        \"public_metrics\", \n",
    "#                                        \"alt_text\"],\n",
    "#                          tweet_fields=[\"attachments\", \n",
    "#                                        \"author_id\",  \n",
    "#                                        \"conversation_id\", \n",
    "#                                        \"created_at\", \n",
    "#                                        \"entities\", \n",
    "#                                        \"id\", \n",
    "#                                        \"in_reply_to_user_id\", \n",
    "#                                        \"lang\", \n",
    "#                                        \"public_metrics\", \n",
    "#                                        \"possibly_sensitive\", \n",
    "#                                        \"referenced_tweets\", \n",
    "#                                        \"reply_settings\", \n",
    "#                                        \"source\", \n",
    "#                                        \"text\", \n",
    "#                                        \"withheld\"],\n",
    "#                          user_fields=[\"created_at\", \n",
    "#                                       \"description\", \n",
    "#                                       \"entities\", \n",
    "#                                       \"id\", \n",
    "#                                       \"location\", \n",
    "#                                       \"name\", \n",
    "#                                       \"pinned_tweet_id\", \n",
    "#                                       \"profile_image_url\", \n",
    "#                                       \"protected\", \n",
    "#                                       \"public_metrics\", \n",
    "#                                       \"url\", \n",
    "#                                       \"username\", \n",
    "#                                       \"verified\", \n",
    "#                                       \"withheld\"],\n",
    "#                          return_json=True)\n",
    "# test"
   ]
  },
  {
   "cell_type": "code",
   "execution_count": null,
   "id": "02234127",
   "metadata": {},
   "outputs": [],
   "source": []
  }
 ],
 "metadata": {
  "kernelspec": {
   "display_name": "Python 3 (ipykernel)",
   "language": "python",
   "name": "python3"
  },
  "language_info": {
   "codemirror_mode": {
    "name": "ipython",
    "version": 3
   },
   "file_extension": ".py",
   "mimetype": "text/x-python",
   "name": "python",
   "nbconvert_exporter": "python",
   "pygments_lexer": "ipython3",
   "version": "3.7.11"
  }
 },
 "nbformat": 4,
 "nbformat_minor": 5
}
