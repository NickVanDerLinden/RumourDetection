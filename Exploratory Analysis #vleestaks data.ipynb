{
 "cells": [
  {
   "cell_type": "code",
   "execution_count": 1,
   "id": "329f3b18",
   "metadata": {},
   "outputs": [],
   "source": [
    "import numpy as np\n",
    "import pandas as pd\n",
    "import matplotlib.pyplot as plt\n",
    "from datetime import date\n",
    "import nltk\n",
    "from nltk.tokenize import word_tokenize\n",
    "from pytwitter import Api\n",
    "import json\n",
    "import math\n",
    "\n",
    "#!pip install emoji\n",
    "from emoji import UNICODE_EMOJI\n",
    "\n",
    "from sklearn.cluster import KMeans\n",
    "from sklearn.metrics import silhouette_score\n",
    "\n",
    "#API key = \n",
    "#API key secret \n",
    "#bearer token \n",
    "#Access token \n",
    "#Acces token secret "
   ]
  },
  {
   "cell_type": "code",
   "execution_count": 2,
   "id": "8c44fda0",
   "metadata": {},
   "outputs": [
    {
     "data": {
      "text/plain": [
       "10542"
      ]
     },
     "execution_count": 2,
     "metadata": {},
     "output_type": "execute_result"
    }
   ],
   "source": [
    "\n",
    "file1 = open('#vleestaks.txt', 'r')\n",
    "count = 0\n",
    "tweets = []\n",
    "\n",
    "while True:\n",
    "    count += 1\n",
    " \n",
    "    # Get next line from file\n",
    "    line = file1.readline()\n",
    " \n",
    "    # if line is empty\n",
    "    # end of file is reached\n",
    "    if not line:\n",
    "        break\n",
    "    tweets.append(json.loads(line,encoding=\"utf-8\"))\n",
    "    \n",
    "data = []\n",
    "for i in range(len(tweets)):\n",
    "    for j in range(len(tweets[i][\"data\"])):\n",
    "        temp = []\n",
    "        if tweets[i][\"data\"][0][\"lang\"] == 'nl':\n",
    "            temp.append(tweets[i][\"data\"][0])\n",
    "            user = [k for k in tweets[0][\"includes\"][\"users\"] \n",
    "                    if k[\"id\"] == tweets[i][\"data\"][j][\"author_id\"]]\n",
    "            temp.append(user)\n",
    "            data.append(temp)\n",
    "len(data)"
   ]
  },
  {
   "cell_type": "code",
   "execution_count": 9,
   "id": "79c5df51",
   "metadata": {},
   "outputs": [],
   "source": [
    "import time \n",
    "#text = data2[x][0][\"text\"]\n",
    "\n",
    "features = []\n",
    "for x in range(0,len(data)):\n",
    "    temp = []\n",
    "    if data[x][1] != []:\n",
    "        followers_count = data[x][1][0][\"public_metrics\"][\"followers_count\"]\n",
    "        temp.append(followers_count)\n",
    "    else:\n",
    "        temp.append(-1)\n",
    "\n",
    "    tweetcount = -1 \n",
    "    if data[x][1] != []:        \n",
    "        tweetcount = data[x][1][0][\"public_metrics\"][\"tweet_count\"]\n",
    "        temp.append(tweetcount)\n",
    "    else:\n",
    "        temp.append(-1)\n",
    "\n",
    "    qmarks = \"?\" in data[x][0][\"text\"]\n",
    "    temp.append(int(qmarks))\n",
    "\n",
    "    if data[x][1] != []:\n",
    "        verified = data[x][1][0][\"verified\"]\n",
    "        temp.append(int(verified))    \n",
    "    else:\n",
    "        temp.append(-1)\n",
    "        \n",
    "    accountlife = time.mktime(time.localtime()) - time.mktime(time.strptime(data[x][0][\"created_at\"], \"%Y-%m-%dT%H:%M:%S.000Z\"))\n",
    "    temp.append(accountlife)\n",
    "\n",
    "    if data[x][1] != []:    \n",
    "        ratio = (data[x][1][0][\"public_metrics\"][\"followers_count\"]+1)/(data[x][1][0][\"public_metrics\"][\"following_count\"]+2)\n",
    "        temp.append(ratio)\n",
    "    else:\n",
    "        temp.append(999999)\n",
    "        \n",
    "    emark = \"!\" in data[x][0][\"text\"]\n",
    "    temp.append(int(emark))\n",
    "\n",
    "    capitalletters = sum(1 for c in data[x][0][\"text\"] if c.isupper())/sum(1 for c in data[x][0])\n",
    "    temp.append(capitalletters)\n",
    "\n",
    "    retweet_count = data[x][0][\"public_metrics\"][\"retweet_count\"]\n",
    "    temp.append(retweet_count)\n",
    "    \n",
    "    hashtags = \"#\" in data[x][0][\"text\"]\n",
    "    temp.append(int(hashtags))\n",
    "    \n",
    "    if data[x][1] != []:\n",
    "        following = data[x][1][0][\"public_metrics\"][\"following_count\"]\n",
    "        temp.append(following)\n",
    "    else:\n",
    "        temp.append(-1)\n",
    "\n",
    "    text_length = len(data[x][0][\"text\"])\n",
    "    temp.append(text_length)\n",
    "    \n",
    "    if data[x][1] != []:    \n",
    "        listed_count = data[x][1][0][\"public_metrics\"][\"listed_count\"]\n",
    "        temp.append(listed_count)\n",
    "    else:\n",
    "        temp.append(-1)\n",
    "\n",
    "    emoticons = True in [s in UNICODE_EMOJI['en'] for s in data[x][0][\"text\"]]\n",
    "    temp.append(int(emoticons))\n",
    "    \n",
    "    reply_count = data[x][0][\"public_metrics\"][\"reply_count\"]\n",
    "    temp.append(reply_count)\n",
    "    \n",
    "    quote_count = data[x][0][\"public_metrics\"][\"quote_count\"]\n",
    "    temp.append(quote_count)\n",
    "    \n",
    "    like_count = data[x][0][\"public_metrics\"][\"like_count\"]\n",
    "    temp.append(like_count)\n",
    "    \n",
    "    if data[x][1] != []:\n",
    "        timeafterposting = time.mktime(time.strptime(data[x][1][0][\"created_at\"],\"%Y-%m-%dT%H:%M:%S.000Z\")) - time.mktime(time.strptime(data[x][0][\"created_at\"],\"%Y-%m-%dT%H:%M:%S.000Z\"))\n",
    "        temp.append(timeafterposting)\n",
    "    else:\n",
    "        temp.append(999999)\n",
    "\n",
    "    pos_tags = nltk.pos_tag(nltk.word_tokenize(data[x][0][\"text\"]))\n",
    "    temp.append(pos_tags)\n",
    "    \n",
    "    activity = tweetcount/accountlife\n",
    "    temp.append(activity)\n",
    "\n",
    "    if data[x][1] != []:\n",
    "        has_url = \"profile_image_url\" in data[x][1][0]\n",
    "        temp.append(int(has_url))\n",
    "    else:\n",
    "        temp.append(-1)\n",
    "        \n",
    "    fpp = True in [i in data[x][0][\"text\"].lower() for i in [\"me\", \"my\", \"i\", \"mine\"]]\n",
    "    temp.append(int(fpp))\n",
    "\n",
    "    nsfw = data[x][0][\"possibly_sensitive\"] \n",
    "    temp.append(int(nsfw))\n",
    "    features.append(temp)"
   ]
  },
  {
   "cell_type": "code",
   "execution_count": 10,
   "id": "05ce960d",
   "metadata": {},
   "outputs": [
    {
     "data": {
      "text/plain": [
       "[int,\n",
       " int,\n",
       " int,\n",
       " int,\n",
       " float,\n",
       " float,\n",
       " int,\n",
       " float,\n",
       " int,\n",
       " int,\n",
       " int,\n",
       " int,\n",
       " int,\n",
       " int,\n",
       " int,\n",
       " int,\n",
       " int,\n",
       " float,\n",
       " list,\n",
       " float,\n",
       " int,\n",
       " int,\n",
       " int]"
      ]
     },
     "execution_count": 10,
     "metadata": {},
     "output_type": "execute_result"
    }
   ],
   "source": [
    "[type(x) for x in features[0]]"
   ]
  },
  {
   "cell_type": "code",
   "execution_count": 11,
   "id": "b4f3674b",
   "metadata": {},
   "outputs": [
    {
     "data": {
      "text/plain": [
       "Text(0, 0.5, 'frequency')"
      ]
     },
     "execution_count": 11,
     "metadata": {},
     "output_type": "execute_result"
    },
    {
     "data": {
      "image/png": "[encoded data removed]",
      "text/plain": [
       "<Figure size 432x288 with 1 Axes>"
      ]
     },
     "metadata": {},
     "output_type": "display_data"
    }
   ],
   "source": [
    "plt.style.use(\"fivethirtyeight\")\n",
    "unique, counts = np.unique([x[0] for x in features], return_counts=True)\n",
    "plt.plot(unique[1:-1], counts[1:-1])\n",
    "plt.xlabel(\"follower count\")\n",
    "plt.ylabel(\"frequency\")"
   ]
  },
  {
   "cell_type": "code",
   "execution_count": 12,
   "id": "06d37ca3",
   "metadata": {},
   "outputs": [
    {
     "data": {
      "text/plain": [
       "Text(0, 0.5, 'frequency')"
      ]
     },
     "execution_count": 12,
     "metadata": {},
     "output_type": "execute_result"
    },
    {
     "data": {
      "image/png": "[encoded data removed]",
      "text/plain": [
       "<Figure size 432x288 with 1 Axes>"
      ]
     },
     "metadata": {},
     "output_type": "display_data"
    }
   ],
   "source": [
    "unique, counts = np.unique([x[1] for x in features], return_counts=True)\n",
    "plt.plot(unique[1:-7], counts[1:-7])\n",
    "plt.xlabel(\"tweet count\")\n",
    "plt.ylabel(\"frequency\")"
   ]
  },
  {
   "cell_type": "code",
   "execution_count": 13,
   "id": "a2f4df90",
   "metadata": {},
   "outputs": [
    {
     "data": {
      "text/plain": [
       "array([9955,  587], dtype=int64)"
      ]
     },
     "execution_count": 13,
     "metadata": {},
     "output_type": "execute_result"
    }
   ],
   "source": [
    "unique, counts = np.unique([x[2] for x in features], return_counts=True)\n",
    "counts\n",
    "#qmarks"
   ]
  },
  {
   "cell_type": "code",
   "execution_count": 14,
   "id": "f9418b50",
   "metadata": {},
   "outputs": [
    {
     "data": {
      "text/plain": [
       "array([9143, 1385,   14], dtype=int64)"
      ]
     },
     "execution_count": 14,
     "metadata": {},
     "output_type": "execute_result"
    }
   ],
   "source": [
    "unique, counts = np.unique([x[3] for x in features], return_counts=True)\n",
    "counts\n",
    "\n",
    "#verified \n"
   ]
  },
  {
   "cell_type": "code",
   "execution_count": 15,
   "id": "f3305487",
   "metadata": {},
   "outputs": [
    {
     "data": {
      "text/plain": [
       "array([-1,  0,  1])"
      ]
     },
     "execution_count": 15,
     "metadata": {},
     "output_type": "execute_result"
    }
   ],
   "source": [
    "unique"
   ]
  },
  {
   "cell_type": "code",
   "execution_count": 16,
   "id": "57156aa8",
   "metadata": {},
   "outputs": [
    {
     "data": {
      "text/plain": [
       "Text(0, 0.5, 'frequency')"
      ]
     },
     "execution_count": 16,
     "metadata": {},
     "output_type": "execute_result"
    },
    {
     "data": {
      "image/png": "[encoded data removed]",
      "text/plain": [
       "<Figure size 432x288 with 1 Axes>"
      ]
     },
     "metadata": {},
     "output_type": "display_data"
    }
   ],
   "source": [
    "unique, counts = np.unique([x[4] for x in features], return_counts=True)\n",
    "plt.plot(unique[:-1], counts[:-1])\n",
    "plt.xlabel(\"account life\")\n",
    "plt.ylabel(\"frequency\")"
   ]
  },
  {
   "cell_type": "code",
   "execution_count": 17,
   "id": "cb5695b4",
   "metadata": {},
   "outputs": [
    {
     "data": {
      "text/plain": [
       "Text(0, 0.5, 'frequency')"
      ]
     },
     "execution_count": 17,
     "metadata": {},
     "output_type": "execute_result"
    },
    {
     "data": {
      "image/png": "[encoded data removed]",
      "text/plain": [
       "<Figure size 432x288 with 1 Axes>"
      ]
     },
     "metadata": {},
     "output_type": "display_data"
    }
   ],
   "source": [
    "unique, counts = np.unique([x[5] for x in features], return_counts=True)\n",
    "plt.plot(unique[:-10], counts[:-10])\n",
    "plt.xlabel(\"ratio\")\n",
    "plt.ylabel(\"frequency\")"
   ]
  },
  {
   "cell_type": "code",
   "execution_count": 18,
   "id": "a624e79d",
   "metadata": {},
   "outputs": [
    {
     "data": {
      "text/plain": [
       "array([10070,   472], dtype=int64)"
      ]
     },
     "execution_count": 18,
     "metadata": {},
     "output_type": "execute_result"
    }
   ],
   "source": [
    "unique, counts = np.unique([x[6] for x in features], return_counts=True)\n",
    "counts\n",
    "\n",
    "#exclamation points "
   ]
  },
  {
   "cell_type": "code",
   "execution_count": 19,
   "id": "dc24e602",
   "metadata": {},
   "outputs": [
    {
     "data": {
      "text/plain": [
       "Text(0, 0.5, 'frequency')"
      ]
     },
     "execution_count": 19,
     "metadata": {},
     "output_type": "execute_result"
    },
    {
     "data": {
      "image/png": "[encoded data removed]",
      "text/plain": [
       "<Figure size 432x288 with 1 Axes>"
      ]
     },
     "metadata": {},
     "output_type": "display_data"
    }
   ],
   "source": [
    "unique, counts = np.unique([x[7] for x in features], return_counts=True)\n",
    "plt.plot(unique, counts)\n",
    "plt.xlabel(\"capital letter ratio\")\n",
    "plt.xlim(0,1)\n",
    "plt.ylabel(\"frequency\")"
   ]
  },
  {
   "cell_type": "code",
   "execution_count": 20,
   "id": "0f4e3bff",
   "metadata": {},
   "outputs": [
    {
     "data": {
      "text/plain": [
       "Text(0, 0.5, 'frequency')"
      ]
     },
     "execution_count": 20,
     "metadata": {},
     "output_type": "execute_result"
    },
    {
     "data": {
      "image/png": "[encoded data removed]",
      "text/plain": [
       "<Figure size 432x288 with 1 Axes>"
      ]
     },
     "metadata": {},
     "output_type": "display_data"
    }
   ],
   "source": [
    "unique, counts = np.unique([x[8] for x in features], return_counts=True)\n",
    "plt.plot(unique, counts)\n",
    "plt.xlabel(\"retweet_count\")\n",
    "plt.ylabel(\"frequency\")"
   ]
  },
  {
   "cell_type": "code",
   "execution_count": 21,
   "id": "6a45ad2b",
   "metadata": {},
   "outputs": [
    {
     "data": {
      "text/plain": [
       "array([3996, 6546], dtype=int64)"
      ]
     },
     "execution_count": 21,
     "metadata": {},
     "output_type": "execute_result"
    }
   ],
   "source": [
    "unique, counts = np.unique([x[9] for x in features], return_counts=True)\n",
    "counts\n",
    "\n",
    "#hashtags"
   ]
  },
  {
   "cell_type": "code",
   "execution_count": 22,
   "id": "9ff2587f",
   "metadata": {},
   "outputs": [
    {
     "data": {
      "text/plain": [
       "Text(0, 0.5, 'frequency')"
      ]
     },
     "execution_count": 22,
     "metadata": {},
     "output_type": "execute_result"
    },
    {
     "data": {
      "image/png": "[encoded data removed]",
      "text/plain": [
       "<Figure size 432x288 with 1 Axes>"
      ]
     },
     "metadata": {},
     "output_type": "display_data"
    }
   ],
   "source": [
    "unique, counts = np.unique([x[10] for x in features], return_counts=True)\n",
    "plt.plot(unique[1:], counts[1:])\n",
    "plt.xlabel(\"following count\")\n",
    "plt.ylabel(\"frequency\")"
   ]
  },
  {
   "cell_type": "code",
   "execution_count": 23,
   "id": "543b3220",
   "metadata": {},
   "outputs": [
    {
     "data": {
      "text/plain": [
       "Text(0, 0.5, 'frequency')"
      ]
     },
     "execution_count": 23,
     "metadata": {},
     "output_type": "execute_result"
    },
    {
     "data": {
      "image/png": "[encoded data removed]",
      "text/plain": [
       "<Figure size 432x288 with 1 Axes>"
      ]
     },
     "metadata": {},
     "output_type": "display_data"
    }
   ],
   "source": [
    "unique, counts = np.unique([x[11] for x in features], return_counts=True)\n",
    "plt.plot(unique, counts)\n",
    "plt.xlabel(\"text length\")\n",
    "plt.ylabel(\"frequency\")"
   ]
  },
  {
   "cell_type": "code",
   "execution_count": 24,
   "id": "6e9d70e4",
   "metadata": {},
   "outputs": [
    {
     "data": {
      "text/plain": [
       "Text(0, 0.5, 'frequency')"
      ]
     },
     "execution_count": 24,
     "metadata": {},
     "output_type": "execute_result"
    },
    {
     "data": {
      "image/png": "[encoded data removed]",
      "text/plain": [
       "<Figure size 432x288 with 1 Axes>"
      ]
     },
     "metadata": {},
     "output_type": "display_data"
    }
   ],
   "source": [
    "unique, counts = np.unique([x[12] for x in features], return_counts=True)\n",
    "plt.plot(unique[1:-20], counts[1:-20])\n",
    "plt.xlabel(\"listed count\")\n",
    "plt.ylabel(\"frequency\")"
   ]
  },
  {
   "cell_type": "code",
   "execution_count": 25,
   "id": "8d179a1a",
   "metadata": {},
   "outputs": [
    {
     "name": "stdout",
     "output_type": "stream",
     "text": [
      "[0 1]\n",
      "[9545  997]\n"
     ]
    }
   ],
   "source": [
    "unique, counts = np.unique([x[13] for x in features], return_counts=True)\n",
    "print(unique)\n",
    "print(counts)\n",
    "\n",
    "#emoticons"
   ]
  },
  {
   "cell_type": "code",
   "execution_count": null,
   "id": "5118faa6",
   "metadata": {},
   "outputs": [],
   "source": []
  },
  {
   "cell_type": "code",
   "execution_count": 26,
   "id": "a3d53fac",
   "metadata": {},
   "outputs": [
    {
     "data": {
      "text/plain": [
       "array([0, 1])"
      ]
     },
     "execution_count": 26,
     "metadata": {},
     "output_type": "execute_result"
    }
   ],
   "source": [
    "unique"
   ]
  },
  {
   "cell_type": "code",
   "execution_count": 27,
   "id": "104a7dd4",
   "metadata": {},
   "outputs": [
    {
     "name": "stdout",
     "output_type": "stream",
     "text": [
      "[0]\n",
      "[10542]\n"
     ]
    }
   ],
   "source": [
    "unique, counts = np.unique([x[14] for x in features], return_counts=True)\n",
    "print(unique)\n",
    "print(counts)\n",
    "#plt.plot(unique, counts)\n",
    "# plt.xlabel(\"reply count\")\n",
    "# plt.ylabel(\"frequency\")"
   ]
  },
  {
   "cell_type": "code",
   "execution_count": 28,
   "id": "00c39726",
   "metadata": {},
   "outputs": [
    {
     "name": "stdout",
     "output_type": "stream",
     "text": [
      "[10542]\n",
      "[0]\n"
     ]
    }
   ],
   "source": [
    "unique, counts = np.unique([x[15] for x in features], return_counts=True)\n",
    "print(counts)\n",
    "print(unique)\n",
    "#quote count "
   ]
  },
  {
   "cell_type": "code",
   "execution_count": 29,
   "id": "956f84cb",
   "metadata": {},
   "outputs": [
    {
     "name": "stdout",
     "output_type": "stream",
     "text": [
      "[0 1]\n",
      "[10042   500]\n"
     ]
    }
   ],
   "source": [
    "unique, counts = np.unique([x[16] for x in features], return_counts=True)\n",
    "print(unique)\n",
    "print(counts)\n",
    "# plt.plot(unique, counts)\n",
    "# plt.xlabel(\"like count\")\n",
    "# plt.ylabel(\"frequency\")\n"
   ]
  },
  {
   "cell_type": "code",
   "execution_count": 30,
   "id": "765c84a9",
   "metadata": {},
   "outputs": [
    {
     "data": {
      "text/plain": [
       "Text(0, 0.5, 'frequency')"
      ]
     },
     "execution_count": 30,
     "metadata": {},
     "output_type": "execute_result"
    },
    {
     "data": {
      "image/png": "[encoded data removed]",
      "text/plain": [
       "<Figure size 432x288 with 1 Axes>"
      ]
     },
     "metadata": {},
     "output_type": "display_data"
    }
   ],
   "source": [
    "unique, counts = np.unique([x[17] for x in features], return_counts=True)\n",
    "counts\n",
    "\n",
    "plt.plot(unique[:-1], counts[:-1])\n",
    "plt.xlabel(\"time after posting\")\n",
    "plt.ylabel(\"frequency\")\n",
    "\n",
    "#time after posting \n",
    "\n"
   ]
  },
  {
   "cell_type": "code",
   "execution_count": 31,
   "id": "622faa6e",
   "metadata": {},
   "outputs": [
    {
     "name": "stderr",
     "output_type": "stream",
     "text": [
      "C:\\Users\\nickv\\AppData\\Roaming\\Python\\Python37\\site-packages\\numpy\\core\\_asarray.py:171: VisibleDeprecationWarning: Creating an ndarray from ragged nested sequences (which is a list-or-tuple of lists-or-tuples-or ndarrays with different lengths or shapes) is deprecated. If you meant to do this, you must specify 'dtype=object' when creating the ndarray.\n",
      "  return array(a, dtype, copy=False, order=order, subok=True)\n"
     ]
    },
    {
     "data": {
      "text/plain": [
       "array([ 500,  500,  497,  493,  500,   87,  499,  999,  500, 1000, 1998,\n",
       "       1000,  997,  500,  472], dtype=int64)"
      ]
     },
     "execution_count": 31,
     "metadata": {},
     "output_type": "execute_result"
    }
   ],
   "source": [
    "unique, counts = np.unique([x[18] for x in features], return_counts=True)\n",
    "counts\n",
    "\n",
    "#pos tags"
   ]
  },
  {
   "cell_type": "code",
   "execution_count": 32,
   "id": "14a051d4",
   "metadata": {},
   "outputs": [
    {
     "data": {
      "text/plain": [
       "Text(0, 0.5, 'frequency')"
      ]
     },
     "execution_count": 32,
     "metadata": {},
     "output_type": "execute_result"
    },
    {
     "data": {
      "image/png": "[encoded data removed]",
      "text/plain": [
       "<Figure size 432x288 with 1 Axes>"
      ]
     },
     "metadata": {},
     "output_type": "display_data"
    }
   ],
   "source": [
    "unique, counts = np.unique([x[19] for x in features], return_counts=True)\n",
    "counts\n",
    "\n",
    "plt.plot(unique[1:-1], counts[1:-1])\n",
    "plt.xlabel(\"activity\")\n",
    "plt.ylabel(\"frequency\")"
   ]
  },
  {
   "cell_type": "code",
   "execution_count": 33,
   "id": "2dc3da60",
   "metadata": {},
   "outputs": [
    {
     "data": {
      "text/plain": [
       "array([9143, 1399], dtype=int64)"
      ]
     },
     "execution_count": 33,
     "metadata": {},
     "output_type": "execute_result"
    }
   ],
   "source": [
    "unique, counts = np.unique([x[20] for x in features], return_counts=True)\n",
    "counts\n",
    "\n",
    "#has profile pic "
   ]
  },
  {
   "cell_type": "code",
   "execution_count": 34,
   "id": "9694cd22",
   "metadata": {},
   "outputs": [
    {
     "name": "stdout",
     "output_type": "stream",
     "text": [
      "[1]\n",
      "[10542]\n"
     ]
    }
   ],
   "source": [
    "unique, counts = np.unique([x[21] for x in features], return_counts=True)\n",
    "print(unique)\n",
    "print(counts)\n",
    "\n",
    "#fpp"
   ]
  },
  {
   "cell_type": "code",
   "execution_count": 35,
   "id": "b1c62c58",
   "metadata": {},
   "outputs": [
    {
     "data": {
      "text/plain": [
       "array([10542], dtype=int64)"
      ]
     },
     "execution_count": 35,
     "metadata": {},
     "output_type": "execute_result"
    }
   ],
   "source": [
    "unique, counts = np.unique([x[22] for x in features], return_counts=True)\n",
    "counts\n",
    "\n",
    "#possibly sensitive"
   ]
  },
  {
   "cell_type": "code",
   "execution_count": 36,
   "id": "8b73836b",
   "metadata": {},
   "outputs": [
    {
     "data": {
      "text/plain": [
       "array([0])"
      ]
     },
     "execution_count": 36,
     "metadata": {},
     "output_type": "execute_result"
    }
   ],
   "source": [
    "unique"
   ]
  },
  {
   "cell_type": "code",
   "execution_count": 37,
   "id": "4b417768",
   "metadata": {},
   "outputs": [
    {
     "data": {
      "image/png": "[encoded data removed]",
      "text/plain": [
       "<Figure size 432x288 with 1 Axes>"
      ]
     },
     "metadata": {},
     "output_type": "display_data"
    }
   ],
   "source": [
    "kmeans_kwargs = {\n",
    "    \"init\": \"random\",\n",
    "    \"n_init\": 10,\n",
    "    \"max_iter\": 300,\n",
    "    \"random_state\": 42,\n",
    "}\n",
    "\n",
    "sse = []\n",
    "for k in range(1, 11):\n",
    "    kmeans = KMeans(n_clusters=k, **kmeans_kwargs )\n",
    "    kmeans.fit([x[0:17] for x in features])\n",
    "    sse.append(kmeans.inertia_)\n",
    "    \n",
    "plt.style.use(\"fivethirtyeight\")\n",
    "plt.plot(range(1, 11), sse)\n",
    "plt.xticks(range(1, 11))\n",
    "plt.xlabel(\"Number of Clusters\")\n",
    "plt.ylabel(\"SSE\")\n",
    "plt.show()"
   ]
  },
  {
   "cell_type": "code",
   "execution_count": 38,
   "id": "d763867c",
   "metadata": {},
   "outputs": [],
   "source": [
    "kmeans_kwargs = {\n",
    "    \"init\": \"random\",\n",
    "    \"n_init\": 10,\n",
    "    \"max_iter\": 300,\n",
    "    \"random_state\": 42,\n",
    "}\n",
    "\n",
    "scaled_features = [x[0:17] for x in features]\n",
    "\n",
    "kmeans = KMeans(n_clusters=3, **kmeans_kwargs )\n",
    "labels = kmeans.fit_predict(scaled_features)"
   ]
  },
  {
   "cell_type": "code",
   "execution_count": 39,
   "id": "479073ec",
   "metadata": {},
   "outputs": [
    {
     "data": {
      "text/plain": [
       "9962"
      ]
     },
     "execution_count": 39,
     "metadata": {},
     "output_type": "execute_result"
    }
   ],
   "source": [
    "np.count_nonzero(labels == 1)"
   ]
  },
  {
   "cell_type": "code",
   "execution_count": 40,
   "id": "7a2b1656",
   "metadata": {},
   "outputs": [
    {
     "data": {
      "text/plain": [
       "87"
      ]
     },
     "execution_count": 40,
     "metadata": {},
     "output_type": "execute_result"
    }
   ],
   "source": [
    "np.count_nonzero(labels == 2)"
   ]
  },
  {
   "cell_type": "code",
   "execution_count": 41,
   "id": "1b9918cb",
   "metadata": {},
   "outputs": [
    {
     "data": {
      "text/plain": [
       "493"
      ]
     },
     "execution_count": 41,
     "metadata": {},
     "output_type": "execute_result"
    }
   ],
   "source": [
    "np.count_nonzero(labels == 0)"
   ]
  },
  {
   "cell_type": "code",
   "execution_count": 42,
   "id": "e06a0b23",
   "metadata": {},
   "outputs": [
    {
     "data": {
      "text/plain": [
       "10542"
      ]
     },
     "execution_count": 42,
     "metadata": {},
     "output_type": "execute_result"
    }
   ],
   "source": [
    "len(labels)"
   ]
  },
  {
   "cell_type": "code",
   "execution_count": 43,
   "id": "52f25cb4",
   "metadata": {},
   "outputs": [
    {
     "data": {
      "text/plain": [
       "Text(0, 0.5, 'Tweets')"
      ]
     },
     "execution_count": 43,
     "metadata": {},
     "output_type": "execute_result"
    },
    {
     "data": {
      "image/png": "[encoded data removed]",
      "text/plain": [
       "<Figure size 432x288 with 1 Axes>"
      ]
     },
     "metadata": {},
     "output_type": "display_data"
    }
   ],
   "source": [
    "plt.style.use(\"fivethirtyeight\")\n",
    "plt.bar([0,1,2], [46534,31667,83432])\n",
    "plt.xticks([0,1,2])\n",
    "plt.xlabel(\"Cluster\")\n",
    "plt.ylabel(\"Tweets\")"
   ]
  },
  {
   "cell_type": "code",
   "execution_count": 44,
   "id": "ea2de514",
   "metadata": {},
   "outputs": [],
   "source": [
    "kmeans_kwargs = {\n",
    "    \"init\": \"random\",\n",
    "    \"n_init\": 10,\n",
    "    \"max_iter\": 300,\n",
    "    \"random_state\": 42,\n",
    "}\n",
    "\n",
    "scaled_features = [x[0:17] for x in features]\n",
    "\n",
    "kmeans = KMeans(n_clusters=2, **kmeans_kwargs )\n",
    "labels = kmeans.fit_predict(scaled_features)\n"
   ]
  },
  {
   "cell_type": "code",
   "execution_count": 56,
   "id": "ad826ba0",
   "metadata": {},
   "outputs": [
    {
     "data": {
      "text/plain": [
       "Text(0.5, 1.0, '#vleestaks')"
      ]
     },
     "execution_count": 56,
     "metadata": {},
     "output_type": "execute_result"
    },
    {
     "data": {
      "image/png": "[encoded data removed]",
      "text/plain": [
       "<Figure size 432x288 with 1 Axes>"
      ]
     },
     "metadata": {},
     "output_type": "display_data"
    }
   ],
   "source": [
    "plt.style.use(\"fivethirtyeight\")\n",
    "zeros = np.count_nonzero(labels == 0)\n",
    "ones = np.count_nonzero(labels == 1)\n",
    "plt.bar([0,1], [zeros,ones])\n",
    "plt.xticks([0,1])\n",
    "plt.xlabel(\"Cluster\")\n",
    "plt.ylabel(\"Tweets\")\n",
    "plt.title(\"#vleestaks\")"
   ]
  },
  {
   "cell_type": "code",
   "execution_count": 46,
   "id": "a191b941",
   "metadata": {},
   "outputs": [],
   "source": [
    "import html\n",
    "import re\n",
    "from nltk.stem import WordNetLemmatizer\n",
    "def function_clean_tweet(text):\n",
    "    # Escaping HTML characters\n",
    "    text = html.unescape(text)\n",
    "    text = str(text)\n",
    "    # Removal of URLs (three-parter because the word tokenizer splits URLs like that)\n",
    "    text = re.sub(\"https\", \"\", text)\n",
    "    text = re.sub(\":\", \"\", text)\n",
    "    text = re.sub(\"//[^\\s]*\", \"\", text)\n",
    "    # Removal of mentions\n",
    "    text = re.sub(\"@[^\\s]*\", \"\", text)\n",
    "    # Removal of hashtags\n",
    "    text = re.sub(\"#[^\\s]*\", \"\", text)\n",
    "    # Convert to lowercase\n",
    "    text = text.lower()\n",
    "    lemmatizer = WordNetLemmatizer()\n",
    "    return \" \".join([lemmatizer.lemmatize(word) for word in text.split()])"
   ]
  },
  {
   "cell_type": "code",
   "execution_count": 47,
   "id": "f7399e59",
   "metadata": {},
   "outputs": [
    {
     "name": "stderr",
     "output_type": "stream",
     "text": [
      "[nltk_data] Downloading package punkt to\n",
      "[nltk_data]     C:\\Users\\nickv\\AppData\\Roaming\\nltk_data...\n",
      "[nltk_data]   Package punkt is already up-to-date!\n"
     ]
    },
    {
     "name": "stdout",
     "output_type": "stream",
     "text": [
      "Topics found via LDA:\n",
      "\n",
      "Topic #0:\n",
      "gezondheid euro miljarden wassenbergfrank productie doorberekend klimaat betaald schade natuur vaker steed gebeuren detail aangeeft overheid kleinste huisvader gedraagt ongehoordnedtv\n",
      "\n",
      "Topic #1:\n",
      "jan vliegtaks jndkgrf briefje burgerhaat nieuw paternotte sneeuw zelensky klapvee tweedekamer zelenski verschrikkelijk oakentersagain pijnlijk we reacties woutel logisch zichtbaar\n",
      "\n",
      "Topic #2:\n",
      "minder overmars schuld allemaal dickpik mensen miljard dyanaloehr minstens miljoen maak ton jaar half gt per co2 duurder 40 dode\n",
      "\n",
      "Topic #3:\n",
      "waar regering on future ineens komt the europe waarvan conference panel arnowellens vandaan 52 tappcoalitie mensen vegetariersbond onze tekenden petitie\n",
      "\n",
      "Topic #4:\n",
      "lientje1967 tijd gaan rekeningen dak voedsel be energie prijzen benzine mensen even ministerlnv achterban fan vleesvervangers waar cda meerderheid nederlanders\n"
     ]
    }
   ],
   "source": [
    "import nltk\n",
    "nltk.download('punkt')\n",
    "from nltk.corpus import stopwords\n",
    "from nltk.tokenize import word_tokenize\n",
    "from sklearn.feature_extraction.text import CountVectorizer\n",
    "from sklearn.decomposition import LatentDirichletAllocation as LDA\n",
    "\n",
    "tweet_texts = [x[0][\"text\"] for x in data]\n",
    " \n",
    "stop_words = set(stopwords.words('dutch'))\n",
    "stop_words.add(\"rt\")\n",
    "stop_words.add(\"vlees\")\n",
    "stop_words.add(\"vleestaks\")\n",
    "\n",
    "word_tokens = [word_tokenize(text, preserve_line=False) for text in tweet_texts]\n",
    " \n",
    "filtered_sentences = [[w for w in tweet if not w.lower() in stop_words] for tweet in word_tokens]\n",
    "\n",
    "all_words = [' '.join([x for x in f]) for f in filtered_sentences]\n",
    "all_words = [function_clean_tweet([text]) for text in all_words]\n",
    "\n",
    "count_vectorizer = CountVectorizer(stop_words=stop_words)\n",
    "count_data = count_vectorizer.fit_transform(all_words)\n",
    "\n",
    "lda = LDA(n_components=5, n_jobs=-1)\n",
    "lda.fit(count_data)\n",
    "\n",
    "print(\"Topics found via LDA:\")\n",
    "def print_topics(model, count_vectorizer, n_top_words):\n",
    "    words = count_vectorizer.get_feature_names()\n",
    "    for topic_idx, topic in enumerate(model.components_):\n",
    "        print(\"\\nTopic #%d:\" % topic_idx)\n",
    "        print(\" \".join([words[i]\n",
    "                        for i in topic.argsort()[:-n_top_words - 1:-1]]))\n",
    "print_topics(lda, count_vectorizer, 20)"
   ]
  },
  {
   "cell_type": "code",
   "execution_count": 48,
   "id": "02e051d5",
   "metadata": {},
   "outputs": [
    {
     "name": "stderr",
     "output_type": "stream",
     "text": [
      "C:\\Users\\nickv\\Anaconda3\\lib\\site-packages\\pyLDAvis\\_prepare.py:232: FutureWarning: In a future version of pandas all arguments of DataFrame.drop except for the argument 'labels' will be keyword-only\n",
      "  head(R).drop('saliency', 1)\n"
     ]
    },
    {
     "data": {
      "text/html": [
       "\n",
       "<link rel=\"stylesheet\" type=\"text/css\" href=\"https://cdn.rawgit.com/bmabey/pyLDAvis/files/ldavis.v1.0.0.css\">\n",
       "\n",
       "\n",
       "<div id=\"ldavis_el1148413137881028567790624975\"></div>\n",
       "<script type=\"text/javascript\">\n",
       "\n",
       "var ldavis_el1148413137881028567790624975_data = {\"mdsDat\": {\"x\": [0.23477988282701798, -0.19425262112703773, -0.34252856589853187, 0.18126524468479693, 0.12073605951375428], \"y\": [0.06363872995184765, -0.38267890053588605, 0.26754588402886775, -0.06364834265086267, 0.11514262920603331], \"topics\": [1, 2, 3, 4, 5], \"cluster\": [1, 1, 1, 1, 1], \"Freq\": [37.737440078958215, 20.0634729569345, 19.63155817548708, 11.452024276016969, 11.115504512603238]}, \"tinfo\": {\"Term\": [\"jan\", \"lientje1967\", \"vliegtaks\", \"minder\", \"mensen\", \"voedsel\", \"rekeningen\", \"dak\", \"prijzen\", \"be\", \"benzine\", \"energie\", \"gaan\", \"tijd\", \"waar\", \"gezondheid\", \"productie\", \"euro\", \"miljarden\", \"wassenbergfrank\", \"klimaat\", \"schade\", \"doorberekend\", \"betaald\", \"natuur\", \"jndkgrf\", \"briefje\", \"burgerhaat\", \"nieuw\", \"paternotte\", \"lientje1967\", \"be\", \"gaan\", \"prijzen\", \"rekeningen\", \"tijd\", \"energie\", \"dak\", \"benzine\", \"voedsel\", \"even\", \"ministerlnv\", \"achterban\", \"fan\", \"vleesvervangers\", \"vvd\", \"falcohassel\", \"meerderheid\", \"ziet\", \"zi\", \"cda\", \"44\", \"zelfs\", \"nederlanders\", \"eerder\", \"rutgervdnoort\", \"beste\", \"staghouwer\", \"aandoe\", \"henk\", \"betutteling\", \"link\", \"rechtersok\", \"mensen\", \"waar\", \"52\", \"productie\", \"euro\", \"miljarden\", \"wassenbergfrank\", \"natuur\", \"betaald\", \"schade\", \"gezondheid\", \"klimaat\", \"doorberekend\", \"vaker\", \"steed\", \"huisvader\", \"ongehoordnedtv\", \"kleinste\", \"gedraagt\", \"overheid\", \"gebeuren\", \"detail\", \"aangeeft\", \"voedselsysteem\", \"volgt\", \"verduurzamen\", \"genoemd\", \"duurzaambv\", \"middel\", \"eten\", \"ga\", \"nemen\", \"modernegezegden\", \"extra\", \"tappcoalitie\", \"mariannethieme\", \"jan\", \"vliegtaks\", \"briefje\", \"burgerhaat\", \"nieuw\", \"paternotte\", \"jndkgrf\", \"sneeuw\", \"verschrikkelijk\", \"oakentersagain\", \"tweedekamer\", \"zelenski\", \"zelensky\", \"klapvee\", \"logisch\", \"we\", \"hashtags\", \"staat\", \"woutel\", \"reacties\", \"zichtbaar\", \"pijnlijk\", \"maken\", \"denken\", \"hoi\", \"extra\", \"ga\", \"tijgerbrood\", \"vandaag\", \"eten\", \"waar\", \"vleesvervangers\", \"fan\", \"ministerlnv\", \"even\", \"mensen\", \"europe\", \"komt\", \"the\", \"conference\", \"future\", \"on\", \"waarvan\", \"arnowellens\", \"ineens\", \"regering\", \"vandaan\", \"panel\", \"plan\", \"vegetariersbond\", \"000\", \"petitie\", \"onze\", \"tekenden\", \"52\", \"tappcoalitie\", \"waar\", \"mensen\", \"hoi\", \"wij\", \"tijgerbrood\", \"vandaag\", \"biefstukje\", \"mariannethieme\", \"modernegezegden\", \"eten\", \"ga\", \"nemen\", \"extra\", \"vleestomaten\", \"dierendag\", \"fan\", \"vleesvervangers\", \"ministerlnv\", \"even\", \"lientje1967\", \"rekeningen\", \"be\", \"energie\", \"minder\", \"overmars\", \"dickpik\", \"schuld\", \"allemaal\", \"co2\", \"dode\", \"duurder\", \"dyanaloehr\", \"minstens\", \"miljard\", \"per\", \"miljoen\", \"40\", \"maak\", \"jaar\", \"gt\", \"half\", \"ton\", \"mensen\", \"hoi\", \"dierendag\", \"tijgerbrood\", \"wij\", \"mariannethieme\", \"ga\", \"biefstukje\", \"nemen\", \"vleestomaten\", \"vandaag\", \"modernegezegden\", \"eten\", \"extra\", \"waar\", \"fan\", \"vleesvervangers\", \"even\", \"ministerlnv\", \"lientje1967\", \"52\", \"prijzen\", \"dak\", \"energie\"], \"Freq\": [1966.0, 2869.0, 1475.0, 1081.0, 2968.0, 1912.0, 1912.0, 1912.0, 1912.0, 1912.0, 1912.0, 1912.0, 1912.0, 1912.0, 1503.0, 998.0, 998.0, 998.0, 998.0, 998.0, 998.0, 998.0, 998.0, 998.0, 998.0, 983.0, 983.0, 983.0, 983.0, 983.0, 2868.9650307562083, 1912.0692127419602, 1912.0692127419602, 1912.0692127419602, 1912.0692127419602, 1912.0692127419602, 1912.0692127419602, 1912.0692127419602, 1912.0692127419602, 1912.0692127419602, 1434.5781812687926, 1434.5781812687926, 957.0871805991717, 957.0871548006587, 957.0871548006587, 478.6392676373172, 478.6392676373172, 478.6392676373172, 478.6392676373172, 478.6392676373172, 478.6392676373172, 478.6392676373172, 478.6392676373172, 478.6392676373172, 477.68237405328557, 477.68237405328557, 477.68237405328557, 477.68237405328654, 477.68237405328654, 477.682374053283, 477.6823740532863, 477.6823740532866, 477.68237405328654, 1910.8339165458185, 955.5187398768851, 477.95022435850854, 998.0929623863085, 998.0929623863085, 998.0929623863085, 998.0929623863085, 998.0929623863068, 998.0929623863075, 998.0929623863075, 998.0929623863091, 998.0929623863075, 998.0929623863075, 996.0951773122482, 996.0951773122482, 499.64580935008775, 499.64580935008775, 499.64580935008775, 499.64580935008775, 499.64580935008786, 499.64580935008786, 499.64580935008786, 499.64580935008786, 496.6491312862656, 496.6491312862656, 496.6491312862656, 496.6491312862656, 496.6491312862656, 496.6491312862656, 87.10337939840494, 87.10337939840494, 87.10337939840494, 87.10337939840494, 87.10337939840494, 496.26223570362015, 87.10337939840494, 1965.89884527166, 1474.4732737756422, 983.0476990172663, 983.0476990172658, 983.0476990172642, 983.0476990172642, 983.0476990172679, 980.0991429760336, 980.0991429760281, 980.0991429760276, 980.0991429760294, 980.0991429760281, 980.0991429760311, 980.0991429760311, 491.6221307802329, 491.6221307802331, 491.62213078023274, 491.62213078023274, 491.6221307802329, 491.6221307802329, 491.6221307802329, 491.62213078023336, 491.6221307802312, 491.6221307802312, 0.19657221770264038, 0.19657221770264038, 0.19657221770264038, 0.19657221770264038, 0.19657221770264038, 0.19657221770264038, 0.19657992859767973, 0.1965788962632959, 0.1965788962632959, 0.1965773059332772, 0.1965773059332772, 0.19657711676859066, 545.6092826689809, 545.6092826689809, 545.6092826689809, 545.6092826689809, 545.6092826689809, 545.6092826689809, 545.6092826689809, 545.6092826689809, 545.6092826689809, 545.6092826689809, 545.6092826689809, 545.6092826689809, 515.0673768627804, 515.0673768627804, 515.0673768627804, 515.0673768627804, 515.0673768627804, 515.0673768627804, 515.8528395216927, 515.4898717591211, 547.397166003412, 515.4691654218503, 0.2181606513123478, 0.2181606513123478, 0.2181606513123478, 0.2181606513123478, 0.2181606513123478, 0.2181606513123478, 0.2181606513123478, 0.2181606513123478, 0.2181606513123478, 0.2181606513123478, 0.2181606513123478, 0.2181606513123478, 0.2181606513123478, 0.21817562276170244, 0.21817562276170244, 0.2181719750233587, 0.2181719750233587, 0.2181694180332344, 0.21816631567190767, 0.21816631567190767, 0.21816631567190767, 1081.1497799068386, 548.3584518256246, 548.3584518256246, 548.3584518256246, 548.3584518256246, 540.6845159181667, 540.6845159181667, 540.6845159181667, 540.6845159181667, 540.6845159181667, 540.6845159181667, 540.6845159181667, 540.6845159181667, 540.6845159181667, 540.6845159181667, 540.6845159181667, 540.6845159181667, 540.6845159181667, 540.6845159181667, 541.6959602973967, 0.21926005480101532, 0.21926005480101532, 0.21926005480101532, 0.21926005480101532, 0.21926005480101532, 0.21926005480101532, 0.21926005480101532, 0.21926005480101532, 0.21926005480101532, 0.21926005480101532, 0.21926005480101532, 0.21926005480101532, 0.21926005480101532, 0.21927700357237756, 0.2192747340750446, 0.2192747340750446, 0.2192712381133909, 0.2192712381133909, 0.21926888423000687, 0.21926834836058587, 0.21926595941606924, 0.21926595941606924, 0.21926595941606924], \"Total\": [1966.0, 2869.0, 1475.0, 1081.0, 2968.0, 1912.0, 1912.0, 1912.0, 1912.0, 1912.0, 1912.0, 1912.0, 1912.0, 1912.0, 1503.0, 998.0, 998.0, 998.0, 998.0, 998.0, 998.0, 998.0, 998.0, 998.0, 998.0, 983.0, 983.0, 983.0, 983.0, 983.0, 2869.798829706242, 1912.9030029515857, 1912.9030029515857, 1912.9030029515857, 1912.9030029515857, 1912.9030029515857, 1912.9030029515857, 1912.9030029515857, 1912.9030029515857, 1912.9030029515857, 1435.4119873581094, 1435.4119873581094, 957.9209684734236, 957.920971231304, 957.920971231304, 479.47305551969896, 479.47305551969896, 479.47305551969896, 479.47305551969896, 479.47305551969896, 479.47305551969896, 479.47305551969896, 479.47305551969896, 479.47305551969896, 478.51615944400874, 478.51615944400874, 478.51615944400874, 478.5161594440097, 478.5161594440097, 478.5161594440062, 478.5161594440095, 478.51615944400976, 478.5161594440097, 2968.3954047738275, 1503.531551033361, 994.4186924229242, 998.9183389739787, 998.9183389739787, 998.9183389739787, 998.9183389739787, 998.918338973977, 998.9183389739777, 998.9183389739777, 998.9183389739793, 998.9183389739777, 998.9183389739777, 996.9205548507302, 996.9205548507302, 500.47118594228556, 500.47118594228556, 500.47118594228556, 500.47118594228556, 500.4711859422857, 500.4711859422857, 500.4711859422857, 500.4711859422857, 497.4745097864266, 497.4745097864266, 497.4745097864266, 497.4745097864266, 497.4745097864266, 497.4745097864266, 87.92875246786981, 87.92875246786981, 87.92875246786981, 87.92875246786981, 87.92875246786981, 1012.3593288706177, 87.92875246786981, 1966.7274338807404, 1475.301860621639, 983.8762876291805, 983.8762876291801, 983.8762876291785, 983.8762876291785, 983.8762876291821, 980.9277344031202, 980.9277344031148, 980.9277344031142, 980.927734403116, 980.9277344031148, 980.9277344031177, 980.9277344031177, 492.45071410375573, 492.4507141037559, 492.45071410375556, 492.45071410375556, 492.45071410375573, 492.45071410375573, 492.45071410375573, 492.4507141037562, 492.450714103754, 492.450714103754, 87.9287524678697, 87.92875246786981, 87.92875246786981, 87.92875246786981, 87.92875246786981, 87.92875246786981, 1503.531551033361, 957.920971231304, 957.920971231304, 1435.4119873581094, 1435.4119873581094, 2968.3954047738275, 546.4162710417028, 546.4162710417028, 546.4162710417028, 546.4162710417028, 546.4162710417028, 546.4162710417028, 546.4162710417028, 546.4162710417028, 546.4162710417028, 546.4162710417028, 546.4162710417028, 546.4162710417028, 515.8743675583455, 515.8743675583455, 515.8743675583455, 515.8743675583455, 515.8743675583455, 515.8743675583455, 994.4186924229242, 1012.3593288706177, 1503.531551033361, 2968.3954047738275, 87.9287524678697, 87.92875246786981, 87.92875246786981, 87.92875246786981, 87.92875246786981, 87.92875246786981, 87.92875246786981, 87.92875246786981, 87.92875246786981, 87.92875246786981, 87.92875246786981, 87.92875246786981, 87.92875246786981, 957.920971231304, 957.920971231304, 1435.4119873581094, 1435.4119873581094, 2869.798829706242, 1912.9030029515857, 1912.9030029515857, 1912.9030029515857, 1081.9556676991876, 549.1643519037843, 549.1643519037843, 549.1643519037843, 549.1643519037843, 541.490403711589, 541.490403711589, 541.490403711589, 541.490403711589, 541.490403711589, 541.490403711589, 541.490403711589, 541.490403711589, 541.490403711589, 541.490403711589, 541.490403711589, 541.490403711589, 541.490403711589, 541.490403711589, 2968.3954047738275, 87.9287524678697, 87.92875246786981, 87.92875246786981, 87.92875246786981, 87.92875246786981, 87.92875246786981, 87.92875246786981, 87.92875246786981, 87.92875246786981, 87.92875246786981, 87.92875246786981, 87.92875246786981, 87.92875246786981, 1503.531551033361, 957.920971231304, 957.920971231304, 1435.4119873581094, 1435.4119873581094, 2869.798829706242, 994.4186924229242, 1912.9030029515857, 1912.9030029515857, 1912.9030029515857], \"Category\": [\"Default\", \"Default\", \"Default\", \"Default\", \"Default\", \"Default\", \"Default\", \"Default\", \"Default\", \"Default\", \"Default\", \"Default\", \"Default\", \"Default\", \"Default\", \"Default\", \"Default\", \"Default\", \"Default\", \"Default\", \"Default\", \"Default\", \"Default\", \"Default\", \"Default\", \"Default\", \"Default\", \"Default\", \"Default\", \"Default\", \"Topic1\", \"Topic1\", \"Topic1\", \"Topic1\", \"Topic1\", \"Topic1\", \"Topic1\", \"Topic1\", \"Topic1\", \"Topic1\", \"Topic1\", \"Topic1\", \"Topic1\", \"Topic1\", \"Topic1\", \"Topic1\", \"Topic1\", \"Topic1\", \"Topic1\", \"Topic1\", \"Topic1\", \"Topic1\", \"Topic1\", \"Topic1\", \"Topic1\", \"Topic1\", \"Topic1\", \"Topic1\", \"Topic1\", \"Topic1\", \"Topic1\", \"Topic1\", \"Topic1\", \"Topic1\", \"Topic1\", \"Topic1\", \"Topic2\", \"Topic2\", \"Topic2\", \"Topic2\", \"Topic2\", \"Topic2\", \"Topic2\", \"Topic2\", \"Topic2\", \"Topic2\", \"Topic2\", \"Topic2\", \"Topic2\", \"Topic2\", \"Topic2\", \"Topic2\", \"Topic2\", \"Topic2\", \"Topic2\", \"Topic2\", \"Topic2\", \"Topic2\", \"Topic2\", \"Topic2\", \"Topic2\", \"Topic2\", \"Topic2\", \"Topic2\", \"Topic2\", \"Topic2\", \"Topic2\", \"Topic2\", \"Topic2\", \"Topic3\", \"Topic3\", \"Topic3\", \"Topic3\", \"Topic3\", \"Topic3\", \"Topic3\", \"Topic3\", \"Topic3\", \"Topic3\", \"Topic3\", \"Topic3\", \"Topic3\", \"Topic3\", \"Topic3\", \"Topic3\", \"Topic3\", \"Topic3\", \"Topic3\", \"Topic3\", \"Topic3\", \"Topic3\", \"Topic3\", \"Topic3\", \"Topic3\", \"Topic3\", \"Topic3\", \"Topic3\", \"Topic3\", \"Topic3\", \"Topic3\", \"Topic3\", \"Topic3\", \"Topic3\", \"Topic3\", \"Topic3\", \"Topic4\", \"Topic4\", \"Topic4\", \"Topic4\", \"Topic4\", \"Topic4\", \"Topic4\", \"Topic4\", \"Topic4\", \"Topic4\", \"Topic4\", \"Topic4\", \"Topic4\", \"Topic4\", \"Topic4\", \"Topic4\", \"Topic4\", \"Topic4\", \"Topic4\", \"Topic4\", \"Topic4\", \"Topic4\", \"Topic4\", \"Topic4\", \"Topic4\", \"Topic4\", \"Topic4\", \"Topic4\", \"Topic4\", \"Topic4\", \"Topic4\", \"Topic4\", \"Topic4\", \"Topic4\", \"Topic4\", \"Topic4\", \"Topic4\", \"Topic4\", \"Topic4\", \"Topic4\", \"Topic4\", \"Topic4\", \"Topic4\", \"Topic5\", \"Topic5\", \"Topic5\", \"Topic5\", \"Topic5\", \"Topic5\", \"Topic5\", \"Topic5\", \"Topic5\", \"Topic5\", \"Topic5\", \"Topic5\", \"Topic5\", \"Topic5\", \"Topic5\", \"Topic5\", \"Topic5\", \"Topic5\", \"Topic5\", \"Topic5\", \"Topic5\", \"Topic5\", \"Topic5\", \"Topic5\", \"Topic5\", \"Topic5\", \"Topic5\", \"Topic5\", \"Topic5\", \"Topic5\", \"Topic5\", \"Topic5\", \"Topic5\", \"Topic5\", \"Topic5\", \"Topic5\", \"Topic5\", \"Topic5\", \"Topic5\", \"Topic5\", \"Topic5\", \"Topic5\", \"Topic5\"], \"logprob\": [30.0, 29.0, 28.0, 27.0, 26.0, 25.0, 24.0, 23.0, 22.0, 21.0, 20.0, 19.0, 18.0, 17.0, 16.0, 15.0, 14.0, 13.0, 12.0, 11.0, 10.0, 9.0, 8.0, 7.0, 6.0, 5.0, 4.0, 3.0, 2.0, 1.0, -2.603, -3.0088, -3.0088, -3.0088, -3.0088, -3.0088, -3.0088, -3.0088, -3.0088, -3.0088, -3.2961, -3.2961, -3.7008, -3.7008, -3.7008, -4.3938, -4.3938, -4.3938, -4.3938, -4.3938, -4.3938, -4.3938, -4.3938, -4.3938, -4.3958, -4.3958, -4.3958, -4.3958, -4.3958, -4.3958, -4.3958, -4.3958, -4.3958, -3.0094, -3.7025, -4.3952, -3.0271, -3.0271, -3.0271, -3.0271, -3.0271, -3.0271, -3.0271, -3.0271, -3.0271, -3.0271, -3.0291, -3.0291, -3.7191, -3.7191, -3.7191, -3.7191, -3.7191, -3.7191, -3.7191, -3.7191, -3.7251, -3.7251, -3.7251, -3.7251, -3.7251, -3.7251, -5.4659, -5.4659, -5.4659, -5.4659, -5.4659, -3.7259, -5.4659, -2.3275, -2.6152, -3.0206, -3.0206, -3.0206, -3.0206, -3.0206, -3.0236, -3.0236, -3.0236, -3.0236, -3.0236, -3.0236, -3.0236, -3.7135, -3.7135, -3.7135, -3.7135, -3.7135, -3.7135, -3.7135, -3.7135, -3.7135, -3.7135, -11.5379, -11.5379, -11.5379, -11.5379, -11.5379, -11.5379, -11.5379, -11.5379, -11.5379, -11.5379, -11.5379, -11.5379, -3.0703, -3.0703, -3.0703, -3.0703, -3.0703, -3.0703, -3.0703, -3.0703, -3.0703, -3.0703, -3.0703, -3.0703, -3.1279, -3.1279, -3.1279, -3.1279, -3.1279, -3.1279, -3.1264, -3.1271, -3.0671, -3.1272, -10.8948, -10.8948, -10.8948, -10.8948, -10.8948, -10.8948, -10.8948, -10.8948, -10.8948, -10.8948, -10.8948, -10.8948, -10.8948, -10.8947, -10.8947, -10.8947, -10.8947, -10.8947, -10.8947, -10.8947, -10.8947, -2.3566, -3.0355, -3.0355, -3.0355, -3.0355, -3.0496, -3.0496, -3.0496, -3.0496, -3.0496, -3.0496, -3.0496, -3.0496, -3.0496, -3.0496, -3.0496, -3.0496, -3.0496, -3.0496, -3.0477, -10.8599, -10.8599, -10.8599, -10.8599, -10.8599, -10.8599, -10.8599, -10.8599, -10.8599, -10.8599, -10.8599, -10.8599, -10.8599, -10.8598, -10.8598, -10.8598, -10.8599, -10.8599, -10.8599, -10.8599, -10.8599, -10.8599, -10.8599], \"loglift\": [30.0, 29.0, 28.0, 27.0, 26.0, 25.0, 24.0, 23.0, 22.0, 21.0, 20.0, 19.0, 18.0, 17.0, 16.0, 15.0, 14.0, 13.0, 12.0, 11.0, 10.0, 9.0, 8.0, 7.0, 6.0, 5.0, 4.0, 3.0, 2.0, 1.0, 0.9742, 0.9741, 0.9741, 0.9741, 0.9741, 0.9741, 0.9741, 0.9741, 0.9741, 0.9741, 0.9739, 0.9739, 0.9736, 0.9736, 0.9736, 0.9728, 0.9728, 0.9728, 0.9728, 0.9728, 0.9728, 0.9728, 0.9728, 0.9728, 0.9728, 0.9728, 0.9728, 0.9728, 0.9728, 0.9728, 0.9728, 0.9728, 0.9728, 0.534, 0.5212, 0.2419, 1.6054, 1.6054, 1.6054, 1.6054, 1.6054, 1.6054, 1.6054, 1.6054, 1.6054, 1.6054, 1.6054, 1.6054, 1.6046, 1.6046, 1.6046, 1.6046, 1.6046, 1.6046, 1.6046, 1.6046, 1.6046, 1.6046, 1.6046, 1.6046, 1.6046, 1.6046, 1.5968, 1.5968, 1.5968, 1.5968, 1.5968, 0.8933, 1.5968, 1.6276, 1.6275, 1.6272, 1.6272, 1.6272, 1.6272, 1.6272, 1.6272, 1.6272, 1.6272, 1.6272, 1.6272, 1.6272, 1.6272, 1.6263, 1.6263, 1.6263, 1.6263, 1.6263, 1.6263, 1.6263, 1.6263, 1.6263, 1.6263, -4.4752, -4.4752, -4.4752, -4.4752, -4.4752, -4.4752, -7.3142, -6.8634, -6.8634, -7.2679, -7.2679, -7.9944, 2.1655, 2.1655, 2.1655, 2.1655, 2.1655, 2.1655, 2.1655, 2.1655, 2.1655, 2.1655, 2.1655, 2.1655, 2.1654, 2.1654, 2.1654, 2.1654, 2.1654, 2.1654, 1.5107, 1.4921, 1.1566, 0.4163, -3.832, -3.832, -3.832, -3.832, -3.832, -3.832, -3.832, -3.832, -3.832, -3.832, -3.832, -3.832, -3.832, -6.2202, -6.2202, -6.6247, -6.6247, -7.3175, -6.9119, -6.9119, -6.9119, 2.1961, 2.1954, 2.1954, 2.1954, 2.1954, 2.1953, 2.1953, 2.1953, 2.1953, 2.1953, 2.1953, 2.1953, 2.1953, 2.1953, 2.1953, 2.1953, 2.1953, 2.1953, 2.1953, 0.4958, -3.7972, -3.7972, -3.7972, -3.7972, -3.7972, -3.7972, -3.7972, -3.7972, -3.7972, -3.7972, -3.7972, -3.7972, -3.7972, -6.6362, -6.1854, -6.1854, -6.5898, -6.5898, -7.2826, -6.2228, -6.877, -6.877, -6.877]}, \"token.table\": {\"Topic\": [4, 5, 1, 1, 4, 1, 2, 1, 5, 4, 1, 1, 1, 2, 1, 2, 3, 3, 1, 5, 4, 1, 3, 2, 5, 2, 5, 2, 5, 2, 5, 1, 1, 2, 2, 4, 1, 2, 1, 1, 4, 2, 1, 2, 2, 2, 2, 5, 5, 3, 1, 2, 2, 4, 5, 3, 3, 3, 2, 2, 4, 1, 1, 3, 5, 3, 2, 1, 1, 4, 5, 2, 5, 2, 5, 5, 1, 5, 2, 2, 1, 2, 3, 3, 4, 2, 4, 2, 5, 4, 3, 5, 4, 3, 4, 1, 2, 3, 1, 4, 1, 1, 2, 5, 3, 3, 1, 2, 2, 4, 4, 4, 1, 2, 5, 3, 2, 2, 4, 4, 2, 3, 2, 1, 3, 1, 2, 2, 1, 1, 4, 4, 2, 3, 2, 3, 3, 3, 1, 1, 3, 1], \"Freq\": [0.9983050765586902, 0.9990943445936852, 0.9990133845598764, 0.4806828387701984, 0.5188961188397958, 0.9989213333054219, 0.9990585153440982, 0.999038575724163, 0.9978797751533801, 0.99923817963746, 0.9995279410664355, 0.9995279410664355, 0.9989213333054239, 0.999080666618934, 0.9989213333054223, 0.9894374429091418, 0.9991093518156717, 0.9991093518156723, 0.9990133845598764, 0.9990943445936852, 0.99923817963746, 0.9995279410664355, 0.999084752867961, 0.9990585153440982, 0.9978797751533801, 0.9894374429091418, 0.9990943445936852, 0.999080666618934, 0.9990943445936852, 0.9990461626131752, 0.9990943445936852, 0.9989213333054239, 0.9995279410664355, 0.9894374429091418, 0.999080666618933, 0.99923817963746, 0.999712983198038, 0.9894374429091418, 0.9990133845598764, 0.999038572847904, 0.99923817963746, 0.9894374429091418, 0.9995279410664355, 0.9990585153440982, 0.9990585153440984, 0.9990461626131752, 0.9990806666189325, 0.9990943445936852, 0.9990943445936852, 0.9990847528679578, 0.9989213333054292, 0.989437442909143, 0.9990585153440984, 0.99923817963746, 0.9990943445936852, 0.9996301297941906, 0.9991093518156702, 0.999054227573979, 0.9990585153440984, 0.999080666618934, 0.99923817963746, 0.999721642612028, 0.9989213333054218, 0.9990847528679575, 0.9990943445936852, 0.999084752867961, 0.9894374429091418, 0.9990133845598764, 0.6437821581743103, 0.1734944068339978, 0.1825902301049064, 0.9990461626131752, 0.9990943445936852, 0.999080666618933, 0.9990943445936852, 0.999116721943682, 0.999712983198038, 0.9990943445936852, 0.9894374429091418, 0.9990806666189348, 0.9990133845598764, 0.9894374429091418, 0.9991093518156738, 0.9990542275739825, 0.99923817963746, 0.9990585153440984, 0.9983050765586902, 0.9990585153440982, 0.9978797751533801, 0.99923817963746, 0.9991093518156738, 0.9990943445936852, 0.9983050765586902, 0.9990847528679566, 0.9983050765586902, 0.9995279410664355, 0.999080666618933, 0.9990847528679575, 0.9989213333054219, 0.99923817963746, 0.9995279410664355, 0.9989213333054239, 0.999080666618934, 0.9978797751533801, 0.9990542275739764, 0.9990847528679578, 0.9989213333054219, 0.9990766015945292, 0.48994461339466766, 0.508712653020673, 0.9983050765586902, 0.99923817963746, 0.9995279410664355, 0.9894374429091418, 0.9990943445936852, 0.9990542275739808, 0.9990766015945292, 0.9894374429091418, 0.99923817963746, 0.9983050765586902, 0.9990461626131752, 0.999054227573982, 0.9894374429091418, 0.999038572847904, 0.9991175632212038, 0.9995279410664355, 0.9990461626131752, 0.9990461626131752, 0.9990133845598764, 0.6358363410085751, 0.36381012398712403, 0.99923817963746, 0.999080666618933, 0.9990847528679572, 0.9894374429091418, 0.9990847528679575, 0.999054227573982, 0.999054227573979, 0.9990133845598764, 0.9990133845598764, 0.9990847528679575, 0.9990133845598764], \"Term\": [\"000\", \"40\", \"44\", \"52\", \"52\", \"aandoe\", \"aangeeft\", \"achterban\", \"allemaal\", \"arnowellens\", \"be\", \"benzine\", \"beste\", \"betaald\", \"betutteling\", \"biefstukje\", \"briefje\", \"burgerhaat\", \"cda\", \"co2\", \"conference\", \"dak\", \"denken\", \"detail\", \"dickpik\", \"dierendag\", \"dode\", \"doorberekend\", \"duurder\", \"duurzaambv\", \"dyanaloehr\", \"eerder\", \"energie\", \"eten\", \"euro\", \"europe\", \"even\", \"extra\", \"falcohassel\", \"fan\", \"future\", \"ga\", \"gaan\", \"gebeuren\", \"gedraagt\", \"genoemd\", \"gezondheid\", \"gt\", \"half\", \"hashtags\", \"henk\", \"hoi\", \"huisvader\", \"ineens\", \"jaar\", \"jan\", \"jndkgrf\", \"klapvee\", \"kleinste\", \"klimaat\", \"komt\", \"lientje1967\", \"link\", \"logisch\", \"maak\", \"maken\", \"mariannethieme\", \"meerderheid\", \"mensen\", \"mensen\", \"mensen\", \"middel\", \"miljard\", \"miljarden\", \"miljoen\", \"minder\", \"ministerlnv\", \"minstens\", \"modernegezegden\", \"natuur\", \"nederlanders\", \"nemen\", \"nieuw\", \"oakentersagain\", \"on\", \"ongehoordnedtv\", \"onze\", \"overheid\", \"overmars\", \"panel\", \"paternotte\", \"per\", \"petitie\", \"pijnlijk\", \"plan\", \"prijzen\", \"productie\", \"reacties\", \"rechtersok\", \"regering\", \"rekeningen\", \"rutgervdnoort\", \"schade\", \"schuld\", \"sneeuw\", \"staat\", \"staghouwer\", \"steed\", \"tappcoalitie\", \"tappcoalitie\", \"tekenden\", \"the\", \"tijd\", \"tijgerbrood\", \"ton\", \"tweedekamer\", \"vaker\", \"vandaag\", \"vandaan\", \"vegetariersbond\", \"verduurzamen\", \"verschrikkelijk\", \"vleestomaten\", \"vleesvervangers\", \"vliegtaks\", \"voedsel\", \"voedselsysteem\", \"volgt\", \"vvd\", \"waar\", \"waar\", \"waarvan\", \"wassenbergfrank\", \"we\", \"wij\", \"woutel\", \"zelenski\", \"zelensky\", \"zelfs\", \"zi\", \"zichtbaar\", \"ziet\"]}, \"R\": 30, \"lambda.step\": 0.01, \"plot.opts\": {\"xlab\": \"PC1\", \"ylab\": \"PC2\"}, \"topic.order\": [5, 1, 2, 4, 3]};\n",
       "\n",
       "function LDAvis_load_lib(url, callback){\n",
       "  var s = document.createElement('script');\n",
       "  s.src = url;\n",
       "  s.async = true;\n",
       "  s.onreadystatechange = s.onload = callback;\n",
       "  s.onerror = function(){console.warn(\"failed to load library \" + url);};\n",
       "  document.getElementsByTagName(\"head\")[0].appendChild(s);\n",
       "}\n",
       "\n",
       "if(typeof(LDAvis) !== \"undefined\"){\n",
       "   // already loaded: just create the visualization\n",
       "   !function(LDAvis){\n",
       "       new LDAvis(\"#\" + \"ldavis_el1148413137881028567790624975\", ldavis_el1148413137881028567790624975_data);\n",
       "   }(LDAvis);\n",
       "}else if(typeof define === \"function\" && define.amd){\n",
       "   // require.js is available: use it to load d3/LDAvis\n",
       "   require.config({paths: {d3: \"https://cdnjs.cloudflare.com/ajax/libs/d3/3.5.5/d3.min\"}});\n",
       "   require([\"d3\"], function(d3){\n",
       "      window.d3 = d3;\n",
       "      LDAvis_load_lib(\"https://cdn.rawgit.com/bmabey/pyLDAvis/files/ldavis.v1.0.0.js\", function(){\n",
       "        new LDAvis(\"#\" + \"ldavis_el1148413137881028567790624975\", ldavis_el1148413137881028567790624975_data);\n",
       "      });\n",
       "    });\n",
       "}else{\n",
       "    // require.js not available: dynamically load d3 & LDAvis\n",
       "    LDAvis_load_lib(\"https://cdnjs.cloudflare.com/ajax/libs/d3/3.5.5/d3.min.js\", function(){\n",
       "         LDAvis_load_lib(\"https://cdn.rawgit.com/bmabey/pyLDAvis/files/ldavis.v1.0.0.js\", function(){\n",
       "                 new LDAvis(\"#\" + \"ldavis_el1148413137881028567790624975\", ldavis_el1148413137881028567790624975_data);\n",
       "            })\n",
       "         });\n",
       "}\n",
       "</script>"
      ],
      "text/plain": [
       "PreparedData(topic_coordinates=              x         y  topics  cluster       Freq\n",
       "topic                                                \n",
       "4      0.234780  0.063639       1        1  37.737440\n",
       "0     -0.194253 -0.382679       2        1  20.063473\n",
       "1     -0.342529  0.267546       3        1  19.631558\n",
       "3      0.181265 -0.063648       4        1  11.452024\n",
       "2      0.120736  0.115143       5        1  11.115505, topic_info=            Term         Freq        Total Category  logprob  loglift\n",
       "54           jan  1966.000000  1966.000000  Default  30.0000  30.0000\n",
       "60   lientje1967  2869.000000  2869.000000  Default  29.0000  29.0000\n",
       "122    vliegtaks  1475.000000  1475.000000  Default  28.0000  28.0000\n",
       "72        minder  1081.000000  1081.000000  Default  27.0000  27.0000\n",
       "67        mensen  2968.000000  2968.000000  Default  26.0000  26.0000\n",
       "..           ...          ...          ...      ...      ...      ...\n",
       "60   lientje1967     0.219269  2869.798830   Topic5 -10.8599  -7.2826\n",
       "3             52     0.219268   994.418692   Topic5 -10.8599  -6.2228\n",
       "93       prijzen     0.219266  1912.903003   Topic5 -10.8599  -6.8770\n",
       "20           dak     0.219266  1912.903003   Topic5 -10.8599  -6.8770\n",
       "31       energie     0.219266  1912.903003   Topic5 -10.8599  -6.8770\n",
       "\n",
       "[221 rows x 6 columns], token_table=      Topic      Freq       Term\n",
       "term                            \n",
       "0         4  0.998305        000\n",
       "1         5  0.999094         40\n",
       "2         1  0.999013         44\n",
       "3         1  0.480683         52\n",
       "3         4  0.518896         52\n",
       "...     ...       ...        ...\n",
       "134       3  0.999054   zelensky\n",
       "135       1  0.999013      zelfs\n",
       "136       1  0.999013         zi\n",
       "137       3  0.999085  zichtbaar\n",
       "138       1  0.999013       ziet\n",
       "\n",
       "[142 rows x 3 columns], R=30, lambda_step=0.01, plot_opts={'xlab': 'PC1', 'ylab': 'PC2'}, topic_order=[5, 1, 2, 4, 3])"
      ]
     },
     "execution_count": 48,
     "metadata": {},
     "output_type": "execute_result"
    }
   ],
   "source": [
    "import pyLDAvis\n",
    "import sklearn\n",
    "import pyLDAvis.sklearn\n",
    "#help(pyLDAvis)\n",
    "\n",
    "pyLDAvis.enable_notebook()\n",
    "pyLDAvis.sklearn.prepare(lda, count_data, count_vectorizer)"
   ]
  },
  {
   "cell_type": "code",
   "execution_count": null,
   "id": "7c26f033",
   "metadata": {},
   "outputs": [],
   "source": []
  },
  {
   "cell_type": "code",
   "execution_count": null,
   "id": "42e9135a",
   "metadata": {},
   "outputs": [],
   "source": []
  },
  {
   "cell_type": "code",
   "execution_count": null,
   "id": "3197f21f",
   "metadata": {},
   "outputs": [],
   "source": []
  },
  {
   "cell_type": "code",
   "execution_count": null,
   "id": "ba4b4b6b",
   "metadata": {},
   "outputs": [],
   "source": []
  },
  {
   "cell_type": "code",
   "execution_count": null,
   "id": "b24737bb",
   "metadata": {},
   "outputs": [],
   "source": []
  },
  {
   "cell_type": "code",
   "execution_count": 3,
   "id": "280f62f6",
   "metadata": {},
   "outputs": [],
   "source": [
    "import time \n",
    "#text = data2[x][0][\"text\"]\n",
    "\n",
    "features = []\n",
    "for x in range(0,len(data)):\n",
    "    temp = []\n",
    "    if data[x][1] != []:\n",
    "        followers_count = data[x][1][0][\"public_metrics\"][\"followers_count\"]\n",
    "        temp.append(followers_count)\n",
    "    else:\n",
    "        temp.append(None)\n",
    "\n",
    "    tweetcount = -1 \n",
    "    if data[x][1] != []:        \n",
    "        tweetcount = data[x][1][0][\"public_metrics\"][\"tweet_count\"]\n",
    "        temp.append(tweetcount)\n",
    "    else:\n",
    "        temp.append(None)\n",
    "\n",
    "    qmarks = \"?\" in data[x][0][\"text\"]\n",
    "    temp.append(int(qmarks))\n",
    "\n",
    "    if data[x][1] != []:\n",
    "        verified = data[x][1][0][\"verified\"]\n",
    "        temp.append(int(verified))    \n",
    "    else:\n",
    "        temp.append(None)\n",
    "        \n",
    "    accountlife = time.mktime(time.localtime()) - time.mktime(time.strptime(data[x][0][\"created_at\"], \"%Y-%m-%dT%H:%M:%S.000Z\"))\n",
    "    temp.append(accountlife)\n",
    "\n",
    "    if data[x][1] != []:    \n",
    "        ratio = (data[x][1][0][\"public_metrics\"][\"followers_count\"]+1)/(data[x][1][0][\"public_metrics\"][\"following_count\"]+2)\n",
    "        temp.append(ratio)\n",
    "    else:\n",
    "        temp.append(None)\n",
    "        \n",
    "    emark = \"!\" in data[x][0][\"text\"]\n",
    "    temp.append(int(emark))\n",
    "\n",
    "    capitalletters = sum(1 for c in data[x][0][\"text\"] if c.isupper())/sum(1 for c in data[x][0])\n",
    "    temp.append(capitalletters)\n",
    "\n",
    "    retweet_count = data[x][0][\"public_metrics\"][\"retweet_count\"]\n",
    "    temp.append(retweet_count)\n",
    "    \n",
    "    hashtags = \"#\" in data[x][0][\"text\"]\n",
    "    temp.append(int(hashtags))\n",
    "    \n",
    "    if data[x][1] != []:\n",
    "        following = data[x][1][0][\"public_metrics\"][\"following_count\"]\n",
    "        temp.append(following)\n",
    "    else:\n",
    "        temp.append(None)\n",
    "\n",
    "    text_length = len(data[x][0][\"text\"])\n",
    "    temp.append(text_length)\n",
    "    \n",
    "    if data[x][1] != []:    \n",
    "        listed_count = data[x][1][0][\"public_metrics\"][\"listed_count\"]\n",
    "        temp.append(listed_count)\n",
    "    else:\n",
    "        temp.append(None)\n",
    "\n",
    "    emoticons = True in [s in UNICODE_EMOJI['en'] for s in data[x][0][\"text\"]]\n",
    "    temp.append(int(emoticons))\n",
    "    \n",
    "    reply_count = data[x][0][\"public_metrics\"][\"reply_count\"]\n",
    "    temp.append(reply_count)\n",
    "    \n",
    "    quote_count = data[x][0][\"public_metrics\"][\"quote_count\"]\n",
    "    temp.append(quote_count)\n",
    "    \n",
    "    like_count = data[x][0][\"public_metrics\"][\"like_count\"]\n",
    "    temp.append(like_count)\n",
    "    \n",
    "    if data[x][1] != []:\n",
    "        timeafterposting = time.mktime(time.strptime(data[x][1][0][\"created_at\"],\"%Y-%m-%dT%H:%M:%S.000Z\")) - time.mktime(time.strptime(data[x][0][\"created_at\"],\"%Y-%m-%dT%H:%M:%S.000Z\"))\n",
    "        temp.append(timeafterposting)\n",
    "    else:\n",
    "        temp.append(None)\n",
    "\n",
    "    pos_tags = nltk.pos_tag(nltk.word_tokenize(data[x][0][\"text\"]))\n",
    "    temp.append(pos_tags)\n",
    "    \n",
    "    activity = tweetcount/accountlife\n",
    "    temp.append(activity)\n",
    "\n",
    "    if data[x][1] != []:\n",
    "        has_url = \"profile_image_url\" in data[x][1][0]\n",
    "        temp.append(int(has_url))\n",
    "    else:\n",
    "        temp.append(None)\n",
    "        \n",
    "    fpp = True in [i in data[x][0][\"text\"].lower() for i in [\"me\", \"my\", \"i\", \"mine\"]]\n",
    "    temp.append(int(fpp))\n",
    "\n",
    "    nsfw = data[x][0][\"possibly_sensitive\"] \n",
    "    temp.append(int(nsfw))\n",
    "    features.append(temp)"
   ]
  },
  {
   "cell_type": "code",
   "execution_count": 4,
   "id": "21d05682",
   "metadata": {},
   "outputs": [],
   "source": [
    "np.array(features, dtype=object).shape\n",
    "\n",
    "columns = [\"followers\",\n",
    "          \"tweet_count\",\n",
    "          \"question_marks\",\n",
    "          \"verified\",\n",
    "          \"accountlife\",\n",
    "          \"followers_count\",\n",
    "          \"exclamation_marks\",\n",
    "          \"capital letters\",\n",
    "          \"retweet_count\",\n",
    "          \"hashtags\",\n",
    "          \"following\",\n",
    "          \"text length\",\n",
    "          \"listed_count\",\n",
    "          \"emoticons\",\n",
    "          \"reply_count\",\n",
    "          \"quote_count\",\n",
    "          \"like_count\",\n",
    "          \"time_after_posting\",\n",
    "          \"pos_tags\",\n",
    "          \"activity\",\n",
    "          \"has_url\",\n",
    "          \"has_first_person_pronouns\",\n",
    "          \"possibly_sensitive\"]\n",
    "df = pd.DataFrame(data=features, index=None, columns=columns)"
   ]
  },
  {
   "cell_type": "code",
   "execution_count": 5,
   "id": "55b5eeac",
   "metadata": {},
   "outputs": [
    {
     "data": {
      "text/html": [
       "<div>\n",
       "<style scoped>\n",
       "    .dataframe tbody tr th:only-of-type {\n",
       "        vertical-align: middle;\n",
       "    }\n",
       "\n",
       "    .dataframe tbody tr th {\n",
       "        vertical-align: top;\n",
       "    }\n",
       "\n",
       "    .dataframe thead th {\n",
       "        text-align: right;\n",
       "    }\n",
       "</style>\n",
       "<table border=\"1\" class=\"dataframe\">\n",
       "  <thead>\n",
       "    <tr style=\"text-align: right;\">\n",
       "      <th></th>\n",
       "      <th>followers</th>\n",
       "      <th>tweet_count</th>\n",
       "      <th>question_marks</th>\n",
       "      <th>verified</th>\n",
       "      <th>accountlife</th>\n",
       "      <th>followers_count</th>\n",
       "      <th>exclamation_marks</th>\n",
       "      <th>capital letters</th>\n",
       "      <th>retweet_count</th>\n",
       "      <th>hashtags</th>\n",
       "      <th>...</th>\n",
       "      <th>emoticons</th>\n",
       "      <th>reply_count</th>\n",
       "      <th>quote_count</th>\n",
       "      <th>like_count</th>\n",
       "      <th>time_after_posting</th>\n",
       "      <th>pos_tags</th>\n",
       "      <th>activity</th>\n",
       "      <th>has_url</th>\n",
       "      <th>has_first_person_pronouns</th>\n",
       "      <th>possibly_sensitive</th>\n",
       "    </tr>\n",
       "  </thead>\n",
       "  <tbody>\n",
       "    <tr>\n",
       "      <th>0</th>\n",
       "      <td>329.0</td>\n",
       "      <td>38910.0</td>\n",
       "      <td>0</td>\n",
       "      <td>0.0</td>\n",
       "      <td>4490534.0</td>\n",
       "      <td>2.185430</td>\n",
       "      <td>0</td>\n",
       "      <td>0.333333</td>\n",
       "      <td>166</td>\n",
       "      <td>1</td>\n",
       "      <td>...</td>\n",
       "      <td>0</td>\n",
       "      <td>0</td>\n",
       "      <td>0</td>\n",
       "      <td>0</td>\n",
       "      <td>-385764857.0</td>\n",
       "      <td>[(RT, NNP), (@, NNP), (Woutel, NNP), (:, :), (...</td>\n",
       "      <td>8.664894e-03</td>\n",
       "      <td>1.0</td>\n",
       "      <td>1</td>\n",
       "      <td>0</td>\n",
       "    </tr>\n",
       "    <tr>\n",
       "      <th>1</th>\n",
       "      <td>26.0</td>\n",
       "      <td>3341.0</td>\n",
       "      <td>0</td>\n",
       "      <td>0.0</td>\n",
       "      <td>4490534.0</td>\n",
       "      <td>1.350000</td>\n",
       "      <td>0</td>\n",
       "      <td>0.333333</td>\n",
       "      <td>166</td>\n",
       "      <td>1</td>\n",
       "      <td>...</td>\n",
       "      <td>0</td>\n",
       "      <td>0</td>\n",
       "      <td>0</td>\n",
       "      <td>0</td>\n",
       "      <td>-34134979.0</td>\n",
       "      <td>[(RT, NNP), (@, NNP), (Woutel, NNP), (:, :), (...</td>\n",
       "      <td>7.440095e-04</td>\n",
       "      <td>1.0</td>\n",
       "      <td>1</td>\n",
       "      <td>0</td>\n",
       "    </tr>\n",
       "    <tr>\n",
       "      <th>2</th>\n",
       "      <td>57.0</td>\n",
       "      <td>1129.0</td>\n",
       "      <td>0</td>\n",
       "      <td>0.0</td>\n",
       "      <td>4490534.0</td>\n",
       "      <td>0.123932</td>\n",
       "      <td>0</td>\n",
       "      <td>0.333333</td>\n",
       "      <td>166</td>\n",
       "      <td>1</td>\n",
       "      <td>...</td>\n",
       "      <td>0</td>\n",
       "      <td>0</td>\n",
       "      <td>0</td>\n",
       "      <td>0</td>\n",
       "      <td>-60571147.0</td>\n",
       "      <td>[(RT, NNP), (@, NNP), (Woutel, NNP), (:, :), (...</td>\n",
       "      <td>2.514178e-04</td>\n",
       "      <td>1.0</td>\n",
       "      <td>1</td>\n",
       "      <td>0</td>\n",
       "    </tr>\n",
       "    <tr>\n",
       "      <th>3</th>\n",
       "      <td>882.0</td>\n",
       "      <td>62123.0</td>\n",
       "      <td>0</td>\n",
       "      <td>0.0</td>\n",
       "      <td>4490534.0</td>\n",
       "      <td>1.392744</td>\n",
       "      <td>0</td>\n",
       "      <td>0.333333</td>\n",
       "      <td>166</td>\n",
       "      <td>1</td>\n",
       "      <td>...</td>\n",
       "      <td>0</td>\n",
       "      <td>0</td>\n",
       "      <td>0</td>\n",
       "      <td>0</td>\n",
       "      <td>-296161414.0</td>\n",
       "      <td>[(RT, NNP), (@, NNP), (Woutel, NNP), (:, :), (...</td>\n",
       "      <td>1.383421e-02</td>\n",
       "      <td>1.0</td>\n",
       "      <td>1</td>\n",
       "      <td>0</td>\n",
       "    </tr>\n",
       "    <tr>\n",
       "      <th>4</th>\n",
       "      <td>10.0</td>\n",
       "      <td>5601.0</td>\n",
       "      <td>0</td>\n",
       "      <td>0.0</td>\n",
       "      <td>4490534.0</td>\n",
       "      <td>0.392857</td>\n",
       "      <td>0</td>\n",
       "      <td>0.333333</td>\n",
       "      <td>166</td>\n",
       "      <td>1</td>\n",
       "      <td>...</td>\n",
       "      <td>0</td>\n",
       "      <td>0</td>\n",
       "      <td>0</td>\n",
       "      <td>0</td>\n",
       "      <td>-349609021.0</td>\n",
       "      <td>[(RT, NNP), (@, NNP), (Woutel, NNP), (:, :), (...</td>\n",
       "      <td>1.247290e-03</td>\n",
       "      <td>1.0</td>\n",
       "      <td>1</td>\n",
       "      <td>0</td>\n",
       "    </tr>\n",
       "    <tr>\n",
       "      <th>...</th>\n",
       "      <td>...</td>\n",
       "      <td>...</td>\n",
       "      <td>...</td>\n",
       "      <td>...</td>\n",
       "      <td>...</td>\n",
       "      <td>...</td>\n",
       "      <td>...</td>\n",
       "      <td>...</td>\n",
       "      <td>...</td>\n",
       "      <td>...</td>\n",
       "      <td>...</td>\n",
       "      <td>...</td>\n",
       "      <td>...</td>\n",
       "      <td>...</td>\n",
       "      <td>...</td>\n",
       "      <td>...</td>\n",
       "      <td>...</td>\n",
       "      <td>...</td>\n",
       "      <td>...</td>\n",
       "      <td>...</td>\n",
       "      <td>...</td>\n",
       "    </tr>\n",
       "    <tr>\n",
       "      <th>10537</th>\n",
       "      <td>NaN</td>\n",
       "      <td>NaN</td>\n",
       "      <td>1</td>\n",
       "      <td>NaN</td>\n",
       "      <td>335674277.0</td>\n",
       "      <td>NaN</td>\n",
       "      <td>0</td>\n",
       "      <td>0.500000</td>\n",
       "      <td>44</td>\n",
       "      <td>1</td>\n",
       "      <td>...</td>\n",
       "      <td>0</td>\n",
       "      <td>0</td>\n",
       "      <td>0</td>\n",
       "      <td>0</td>\n",
       "      <td>NaN</td>\n",
       "      <td>[(RT, NNP), (@, NNP), (Modernegezegden, NNP), ...</td>\n",
       "      <td>-2.979078e-09</td>\n",
       "      <td>NaN</td>\n",
       "      <td>1</td>\n",
       "      <td>0</td>\n",
       "    </tr>\n",
       "    <tr>\n",
       "      <th>10538</th>\n",
       "      <td>NaN</td>\n",
       "      <td>NaN</td>\n",
       "      <td>1</td>\n",
       "      <td>NaN</td>\n",
       "      <td>335674277.0</td>\n",
       "      <td>NaN</td>\n",
       "      <td>0</td>\n",
       "      <td>0.500000</td>\n",
       "      <td>44</td>\n",
       "      <td>1</td>\n",
       "      <td>...</td>\n",
       "      <td>0</td>\n",
       "      <td>0</td>\n",
       "      <td>0</td>\n",
       "      <td>0</td>\n",
       "      <td>NaN</td>\n",
       "      <td>[(RT, NNP), (@, NNP), (Modernegezegden, NNP), ...</td>\n",
       "      <td>-2.979078e-09</td>\n",
       "      <td>NaN</td>\n",
       "      <td>1</td>\n",
       "      <td>0</td>\n",
       "    </tr>\n",
       "    <tr>\n",
       "      <th>10539</th>\n",
       "      <td>NaN</td>\n",
       "      <td>NaN</td>\n",
       "      <td>1</td>\n",
       "      <td>NaN</td>\n",
       "      <td>335674277.0</td>\n",
       "      <td>NaN</td>\n",
       "      <td>0</td>\n",
       "      <td>0.500000</td>\n",
       "      <td>44</td>\n",
       "      <td>1</td>\n",
       "      <td>...</td>\n",
       "      <td>0</td>\n",
       "      <td>0</td>\n",
       "      <td>0</td>\n",
       "      <td>0</td>\n",
       "      <td>NaN</td>\n",
       "      <td>[(RT, NNP), (@, NNP), (Modernegezegden, NNP), ...</td>\n",
       "      <td>-2.979078e-09</td>\n",
       "      <td>NaN</td>\n",
       "      <td>1</td>\n",
       "      <td>0</td>\n",
       "    </tr>\n",
       "    <tr>\n",
       "      <th>10540</th>\n",
       "      <td>NaN</td>\n",
       "      <td>NaN</td>\n",
       "      <td>1</td>\n",
       "      <td>NaN</td>\n",
       "      <td>335674277.0</td>\n",
       "      <td>NaN</td>\n",
       "      <td>0</td>\n",
       "      <td>0.500000</td>\n",
       "      <td>44</td>\n",
       "      <td>1</td>\n",
       "      <td>...</td>\n",
       "      <td>0</td>\n",
       "      <td>0</td>\n",
       "      <td>0</td>\n",
       "      <td>0</td>\n",
       "      <td>NaN</td>\n",
       "      <td>[(RT, NNP), (@, NNP), (Modernegezegden, NNP), ...</td>\n",
       "      <td>-2.979078e-09</td>\n",
       "      <td>NaN</td>\n",
       "      <td>1</td>\n",
       "      <td>0</td>\n",
       "    </tr>\n",
       "    <tr>\n",
       "      <th>10541</th>\n",
       "      <td>NaN</td>\n",
       "      <td>NaN</td>\n",
       "      <td>1</td>\n",
       "      <td>NaN</td>\n",
       "      <td>335674277.0</td>\n",
       "      <td>NaN</td>\n",
       "      <td>0</td>\n",
       "      <td>0.500000</td>\n",
       "      <td>44</td>\n",
       "      <td>1</td>\n",
       "      <td>...</td>\n",
       "      <td>0</td>\n",
       "      <td>0</td>\n",
       "      <td>0</td>\n",
       "      <td>0</td>\n",
       "      <td>NaN</td>\n",
       "      <td>[(RT, NNP), (@, NNP), (Modernegezegden, NNP), ...</td>\n",
       "      <td>-2.979078e-09</td>\n",
       "      <td>NaN</td>\n",
       "      <td>1</td>\n",
       "      <td>0</td>\n",
       "    </tr>\n",
       "  </tbody>\n",
       "</table>\n",
       "<p>10542 rows × 23 columns</p>\n",
       "</div>"
      ],
      "text/plain": [
       "       followers  tweet_count  question_marks  verified  accountlife  \\\n",
       "0          329.0      38910.0               0       0.0    4490534.0   \n",
       "1           26.0       3341.0               0       0.0    4490534.0   \n",
       "2           57.0       1129.0               0       0.0    4490534.0   \n",
       "3          882.0      62123.0               0       0.0    4490534.0   \n",
       "4           10.0       5601.0               0       0.0    4490534.0   \n",
       "...          ...          ...             ...       ...          ...   \n",
       "10537        NaN          NaN               1       NaN  335674277.0   \n",
       "10538        NaN          NaN               1       NaN  335674277.0   \n",
       "10539        NaN          NaN               1       NaN  335674277.0   \n",
       "10540        NaN          NaN               1       NaN  335674277.0   \n",
       "10541        NaN          NaN               1       NaN  335674277.0   \n",
       "\n",
       "       followers_count  exclamation_marks  capital letters  retweet_count  \\\n",
       "0             2.185430                  0         0.333333            166   \n",
       "1             1.350000                  0         0.333333            166   \n",
       "2             0.123932                  0         0.333333            166   \n",
       "3             1.392744                  0         0.333333            166   \n",
       "4             0.392857                  0         0.333333            166   \n",
       "...                ...                ...              ...            ...   \n",
       "10537              NaN                  0         0.500000             44   \n",
       "10538              NaN                  0         0.500000             44   \n",
       "10539              NaN                  0         0.500000             44   \n",
       "10540              NaN                  0         0.500000             44   \n",
       "10541              NaN                  0         0.500000             44   \n",
       "\n",
       "       hashtags  ...  emoticons  reply_count  quote_count  like_count  \\\n",
       "0             1  ...          0            0            0           0   \n",
       "1             1  ...          0            0            0           0   \n",
       "2             1  ...          0            0            0           0   \n",
       "3             1  ...          0            0            0           0   \n",
       "4             1  ...          0            0            0           0   \n",
       "...         ...  ...        ...          ...          ...         ...   \n",
       "10537         1  ...          0            0            0           0   \n",
       "10538         1  ...          0            0            0           0   \n",
       "10539         1  ...          0            0            0           0   \n",
       "10540         1  ...          0            0            0           0   \n",
       "10541         1  ...          0            0            0           0   \n",
       "\n",
       "       time_after_posting                                           pos_tags  \\\n",
       "0            -385764857.0  [(RT, NNP), (@, NNP), (Woutel, NNP), (:, :), (...   \n",
       "1             -34134979.0  [(RT, NNP), (@, NNP), (Woutel, NNP), (:, :), (...   \n",
       "2             -60571147.0  [(RT, NNP), (@, NNP), (Woutel, NNP), (:, :), (...   \n",
       "3            -296161414.0  [(RT, NNP), (@, NNP), (Woutel, NNP), (:, :), (...   \n",
       "4            -349609021.0  [(RT, NNP), (@, NNP), (Woutel, NNP), (:, :), (...   \n",
       "...                   ...                                                ...   \n",
       "10537                 NaN  [(RT, NNP), (@, NNP), (Modernegezegden, NNP), ...   \n",
       "10538                 NaN  [(RT, NNP), (@, NNP), (Modernegezegden, NNP), ...   \n",
       "10539                 NaN  [(RT, NNP), (@, NNP), (Modernegezegden, NNP), ...   \n",
       "10540                 NaN  [(RT, NNP), (@, NNP), (Modernegezegden, NNP), ...   \n",
       "10541                 NaN  [(RT, NNP), (@, NNP), (Modernegezegden, NNP), ...   \n",
       "\n",
       "           activity  has_url has_first_person_pronouns  possibly_sensitive  \n",
       "0      8.664894e-03      1.0                         1                   0  \n",
       "1      7.440095e-04      1.0                         1                   0  \n",
       "2      2.514178e-04      1.0                         1                   0  \n",
       "3      1.383421e-02      1.0                         1                   0  \n",
       "4      1.247290e-03      1.0                         1                   0  \n",
       "...             ...      ...                       ...                 ...  \n",
       "10537 -2.979078e-09      NaN                         1                   0  \n",
       "10538 -2.979078e-09      NaN                         1                   0  \n",
       "10539 -2.979078e-09      NaN                         1                   0  \n",
       "10540 -2.979078e-09      NaN                         1                   0  \n",
       "10541 -2.979078e-09      NaN                         1                   0  \n",
       "\n",
       "[10542 rows x 23 columns]"
      ]
     },
     "execution_count": 5,
     "metadata": {},
     "output_type": "execute_result"
    }
   ],
   "source": [
    "df"
   ]
  },
  {
   "cell_type": "code",
   "execution_count": 6,
   "id": "f2196173",
   "metadata": {},
   "outputs": [
    {
     "data": {
      "text/html": [
       "<div>\n",
       "<style scoped>\n",
       "    .dataframe tbody tr th:only-of-type {\n",
       "        vertical-align: middle;\n",
       "    }\n",
       "\n",
       "    .dataframe tbody tr th {\n",
       "        vertical-align: top;\n",
       "    }\n",
       "\n",
       "    .dataframe thead th {\n",
       "        text-align: right;\n",
       "    }\n",
       "</style>\n",
       "<table border=\"1\" class=\"dataframe\">\n",
       "  <thead>\n",
       "    <tr style=\"text-align: right;\">\n",
       "      <th></th>\n",
       "      <th>followers</th>\n",
       "      <th>tweet_count</th>\n",
       "      <th>question_marks</th>\n",
       "      <th>verified</th>\n",
       "      <th>accountlife</th>\n",
       "      <th>followers_count</th>\n",
       "      <th>exclamation_marks</th>\n",
       "      <th>capital letters</th>\n",
       "      <th>retweet_count</th>\n",
       "      <th>hashtags</th>\n",
       "      <th>...</th>\n",
       "      <th>listed_count</th>\n",
       "      <th>emoticons</th>\n",
       "      <th>reply_count</th>\n",
       "      <th>quote_count</th>\n",
       "      <th>like_count</th>\n",
       "      <th>time_after_posting</th>\n",
       "      <th>activity</th>\n",
       "      <th>has_url</th>\n",
       "      <th>has_first_person_pronouns</th>\n",
       "      <th>possibly_sensitive</th>\n",
       "    </tr>\n",
       "  </thead>\n",
       "  <tbody>\n",
       "    <tr>\n",
       "      <th>count</th>\n",
       "      <td>1399.000000</td>\n",
       "      <td>1399.000000</td>\n",
       "      <td>10542.000000</td>\n",
       "      <td>1399.000000</td>\n",
       "      <td>1.054200e+04</td>\n",
       "      <td>1399.000000</td>\n",
       "      <td>10542.000000</td>\n",
       "      <td>10542.000000</td>\n",
       "      <td>10542.000000</td>\n",
       "      <td>10542.000000</td>\n",
       "      <td>...</td>\n",
       "      <td>1399.000000</td>\n",
       "      <td>10542.000000</td>\n",
       "      <td>10542.0</td>\n",
       "      <td>10542.0</td>\n",
       "      <td>10542.000000</td>\n",
       "      <td>1.399000e+03</td>\n",
       "      <td>1.054200e+04</td>\n",
       "      <td>1399.0</td>\n",
       "      <td>10542.0</td>\n",
       "      <td>10542.0</td>\n",
       "    </tr>\n",
       "    <tr>\n",
       "      <th>mean</th>\n",
       "      <td>4950.681916</td>\n",
       "      <td>54423.413867</td>\n",
       "      <td>0.055682</td>\n",
       "      <td>0.010007</td>\n",
       "      <td>1.903987e+07</td>\n",
       "      <td>57.045214</td>\n",
       "      <td>0.044773</td>\n",
       "      <td>0.543716</td>\n",
       "      <td>531.000854</td>\n",
       "      <td>0.620945</td>\n",
       "      <td>...</td>\n",
       "      <td>42.389564</td>\n",
       "      <td>0.094574</td>\n",
       "      <td>0.0</td>\n",
       "      <td>0.0</td>\n",
       "      <td>0.047429</td>\n",
       "      <td>-2.161752e+08</td>\n",
       "      <td>1.414309e-03</td>\n",
       "      <td>1.0</td>\n",
       "      <td>1.0</td>\n",
       "      <td>0.0</td>\n",
       "    </tr>\n",
       "    <tr>\n",
       "      <th>std</th>\n",
       "      <td>30778.828745</td>\n",
       "      <td>95311.143155</td>\n",
       "      <td>0.229318</td>\n",
       "      <td>0.099570</td>\n",
       "      <td>4.680834e+07</td>\n",
       "      <td>1172.805113</td>\n",
       "      <td>0.206816</td>\n",
       "      <td>0.360166</td>\n",
       "      <td>648.010770</td>\n",
       "      <td>0.485175</td>\n",
       "      <td>...</td>\n",
       "      <td>176.333263</td>\n",
       "      <td>0.292640</td>\n",
       "      <td>0.0</td>\n",
       "      <td>0.0</td>\n",
       "      <td>0.212565</td>\n",
       "      <td>1.398980e+08</td>\n",
       "      <td>8.129979e-03</td>\n",
       "      <td>0.0</td>\n",
       "      <td>0.0</td>\n",
       "      <td>0.0</td>\n",
       "    </tr>\n",
       "    <tr>\n",
       "      <th>min</th>\n",
       "      <td>0.000000</td>\n",
       "      <td>5.000000</td>\n",
       "      <td>0.000000</td>\n",
       "      <td>0.000000</td>\n",
       "      <td>4.490534e+06</td>\n",
       "      <td>0.023529</td>\n",
       "      <td>0.000000</td>\n",
       "      <td>0.000000</td>\n",
       "      <td>0.000000</td>\n",
       "      <td>0.000000</td>\n",
       "      <td>...</td>\n",
       "      <td>0.000000</td>\n",
       "      <td>0.000000</td>\n",
       "      <td>0.0</td>\n",
       "      <td>0.0</td>\n",
       "      <td>0.000000</td>\n",
       "      <td>-4.320018e+08</td>\n",
       "      <td>-2.180631e-07</td>\n",
       "      <td>1.0</td>\n",
       "      <td>1.0</td>\n",
       "      <td>0.0</td>\n",
       "    </tr>\n",
       "    <tr>\n",
       "      <th>25%</th>\n",
       "      <td>261.000000</td>\n",
       "      <td>5847.000000</td>\n",
       "      <td>0.000000</td>\n",
       "      <td>0.000000</td>\n",
       "      <td>4.714624e+06</td>\n",
       "      <td>0.501121</td>\n",
       "      <td>0.000000</td>\n",
       "      <td>0.250000</td>\n",
       "      <td>64.000000</td>\n",
       "      <td>0.000000</td>\n",
       "      <td>...</td>\n",
       "      <td>1.000000</td>\n",
       "      <td>0.000000</td>\n",
       "      <td>0.0</td>\n",
       "      <td>0.0</td>\n",
       "      <td>0.000000</td>\n",
       "      <td>-3.495149e+08</td>\n",
       "      <td>-2.117195e-07</td>\n",
       "      <td>1.0</td>\n",
       "      <td>1.0</td>\n",
       "      <td>0.0</td>\n",
       "    </tr>\n",
       "    <tr>\n",
       "      <th>50%</th>\n",
       "      <td>723.000000</td>\n",
       "      <td>19933.000000</td>\n",
       "      <td>0.000000</td>\n",
       "      <td>0.000000</td>\n",
       "      <td>4.750952e+06</td>\n",
       "      <td>0.880150</td>\n",
       "      <td>0.000000</td>\n",
       "      <td>0.461538</td>\n",
       "      <td>166.000000</td>\n",
       "      <td>1.000000</td>\n",
       "      <td>...</td>\n",
       "      <td>4.000000</td>\n",
       "      <td>0.000000</td>\n",
       "      <td>0.0</td>\n",
       "      <td>0.0</td>\n",
       "      <td>0.000000</td>\n",
       "      <td>-2.403568e+08</td>\n",
       "      <td>-2.100156e-07</td>\n",
       "      <td>1.0</td>\n",
       "      <td>1.0</td>\n",
       "      <td>0.0</td>\n",
       "    </tr>\n",
       "    <tr>\n",
       "      <th>75%</th>\n",
       "      <td>1994.000000</td>\n",
       "      <td>66081.000000</td>\n",
       "      <td>0.000000</td>\n",
       "      <td>0.000000</td>\n",
       "      <td>4.773268e+06</td>\n",
       "      <td>1.664935</td>\n",
       "      <td>0.000000</td>\n",
       "      <td>0.583333</td>\n",
       "      <td>1377.000000</td>\n",
       "      <td>1.000000</td>\n",
       "      <td>...</td>\n",
       "      <td>22.000000</td>\n",
       "      <td>0.000000</td>\n",
       "      <td>0.0</td>\n",
       "      <td>0.0</td>\n",
       "      <td>0.000000</td>\n",
       "      <td>-7.616369e+07</td>\n",
       "      <td>-3.063013e-08</td>\n",
       "      <td>1.0</td>\n",
       "      <td>1.0</td>\n",
       "      <td>0.0</td>\n",
       "    </tr>\n",
       "    <tr>\n",
       "      <th>max</th>\n",
       "      <td>723654.000000</td>\n",
       "      <td>618047.000000</td>\n",
       "      <td>1.000000</td>\n",
       "      <td>1.000000</td>\n",
       "      <td>3.356743e+08</td>\n",
       "      <td>29648.500000</td>\n",
       "      <td>1.000000</td>\n",
       "      <td>1.416667</td>\n",
       "      <td>1621.000000</td>\n",
       "      <td>1.000000</td>\n",
       "      <td>...</td>\n",
       "      <td>3751.000000</td>\n",
       "      <td>1.000000</td>\n",
       "      <td>0.0</td>\n",
       "      <td>0.0</td>\n",
       "      <td>1.000000</td>\n",
       "      <td>-1.886970e+05</td>\n",
       "      <td>1.376333e-01</td>\n",
       "      <td>1.0</td>\n",
       "      <td>1.0</td>\n",
       "      <td>0.0</td>\n",
       "    </tr>\n",
       "  </tbody>\n",
       "</table>\n",
       "<p>8 rows × 22 columns</p>\n",
       "</div>"
      ],
      "text/plain": [
       "           followers    tweet_count  question_marks     verified  \\\n",
       "count    1399.000000    1399.000000    10542.000000  1399.000000   \n",
       "mean     4950.681916   54423.413867        0.055682     0.010007   \n",
       "std     30778.828745   95311.143155        0.229318     0.099570   \n",
       "min         0.000000       5.000000        0.000000     0.000000   \n",
       "25%       261.000000    5847.000000        0.000000     0.000000   \n",
       "50%       723.000000   19933.000000        0.000000     0.000000   \n",
       "75%      1994.000000   66081.000000        0.000000     0.000000   \n",
       "max    723654.000000  618047.000000        1.000000     1.000000   \n",
       "\n",
       "        accountlife  followers_count  exclamation_marks  capital letters  \\\n",
       "count  1.054200e+04      1399.000000       10542.000000     10542.000000   \n",
       "mean   1.903987e+07        57.045214           0.044773         0.543716   \n",
       "std    4.680834e+07      1172.805113           0.206816         0.360166   \n",
       "min    4.490534e+06         0.023529           0.000000         0.000000   \n",
       "25%    4.714624e+06         0.501121           0.000000         0.250000   \n",
       "50%    4.750952e+06         0.880150           0.000000         0.461538   \n",
       "75%    4.773268e+06         1.664935           0.000000         0.583333   \n",
       "max    3.356743e+08     29648.500000           1.000000         1.416667   \n",
       "\n",
       "       retweet_count      hashtags  ...  listed_count     emoticons  \\\n",
       "count   10542.000000  10542.000000  ...   1399.000000  10542.000000   \n",
       "mean      531.000854      0.620945  ...     42.389564      0.094574   \n",
       "std       648.010770      0.485175  ...    176.333263      0.292640   \n",
       "min         0.000000      0.000000  ...      0.000000      0.000000   \n",
       "25%        64.000000      0.000000  ...      1.000000      0.000000   \n",
       "50%       166.000000      1.000000  ...      4.000000      0.000000   \n",
       "75%      1377.000000      1.000000  ...     22.000000      0.000000   \n",
       "max      1621.000000      1.000000  ...   3751.000000      1.000000   \n",
       "\n",
       "       reply_count  quote_count    like_count  time_after_posting  \\\n",
       "count      10542.0      10542.0  10542.000000        1.399000e+03   \n",
       "mean           0.0          0.0      0.047429       -2.161752e+08   \n",
       "std            0.0          0.0      0.212565        1.398980e+08   \n",
       "min            0.0          0.0      0.000000       -4.320018e+08   \n",
       "25%            0.0          0.0      0.000000       -3.495149e+08   \n",
       "50%            0.0          0.0      0.000000       -2.403568e+08   \n",
       "75%            0.0          0.0      0.000000       -7.616369e+07   \n",
       "max            0.0          0.0      1.000000       -1.886970e+05   \n",
       "\n",
       "           activity  has_url  has_first_person_pronouns  possibly_sensitive  \n",
       "count  1.054200e+04   1399.0                    10542.0             10542.0  \n",
       "mean   1.414309e-03      1.0                        1.0                 0.0  \n",
       "std    8.129979e-03      0.0                        0.0                 0.0  \n",
       "min   -2.180631e-07      1.0                        1.0                 0.0  \n",
       "25%   -2.117195e-07      1.0                        1.0                 0.0  \n",
       "50%   -2.100156e-07      1.0                        1.0                 0.0  \n",
       "75%   -3.063013e-08      1.0                        1.0                 0.0  \n",
       "max    1.376333e-01      1.0                        1.0                 0.0  \n",
       "\n",
       "[8 rows x 22 columns]"
      ]
     },
     "execution_count": 6,
     "metadata": {},
     "output_type": "execute_result"
    }
   ],
   "source": [
    "df.describe()"
   ]
  },
  {
   "cell_type": "code",
   "execution_count": 53,
   "id": "a520b0dc",
   "metadata": {},
   "outputs": [],
   "source": [
    "df = df.drop([\"reply_count\",\n",
    "              \"quote_count\",\n",
    "              \"has_url\",\n",
    "              \"has_first_person_pronouns\",\n",
    "              \"possibly_sensitive\"], axis=1)"
   ]
  },
  {
   "cell_type": "code",
   "execution_count": 7,
   "id": "ddbf2e82",
   "metadata": {},
   "outputs": [
    {
     "data": {
      "text/plain": [
       "<AxesSubplot:>"
      ]
     },
     "execution_count": 7,
     "metadata": {},
     "output_type": "execute_result"
    },
    {
     "data": {
      "image/png": "[encoded data removed]",
      "text/plain": [
       "<Figure size 648x576 with 2 Axes>"
      ]
     },
     "metadata": {
      "needs_background": "light"
     },
     "output_type": "display_data"
    }
   ],
   "source": [
    "import seaborn as sns\n",
    "\n",
    "corrmat = df.corr()\n",
    "  \n",
    "f, ax = plt.subplots(figsize =(9, 8))\n",
    "sns.heatmap(corrmat, ax = ax, cmap =\"YlGnBu\", linewidths = 0.1)"
   ]
  },
  {
   "cell_type": "code",
   "execution_count": null,
   "id": "092282ec",
   "metadata": {},
   "outputs": [],
   "source": []
  }
 ],
 "metadata": {
  "kernelspec": {
   "display_name": "Python 3 (ipykernel)",
   "language": "python",
   "name": "python3"
  },
  "language_info": {
   "codemirror_mode": {
    "name": "ipython",
    "version": 3
   },
   "file_extension": ".py",
   "mimetype": "text/x-python",
   "name": "python",
   "nbconvert_exporter": "python",
   "pygments_lexer": "ipython3",
   "version": "3.9.12"
  }
 },
 "nbformat": 4,
 "nbformat_minor": 5
}
